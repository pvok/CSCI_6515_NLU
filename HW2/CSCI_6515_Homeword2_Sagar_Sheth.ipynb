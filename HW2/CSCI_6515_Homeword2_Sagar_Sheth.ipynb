{
 "cells": [
  {
   "cell_type": "markdown",
   "id": "e93f3c21-6f23-4ef7-96fa-2684dd90046f",
   "metadata": {},
   "source": [
    "Citations:</br>\n",
    "Dictionary of Dictionaries: https://www.geeksforgeeks.org/python-nested-dictionary/ </br>\n",
    "Most freq words: https://stackoverflow.com/questions/14500028/extracting-most-frequent-words-out-of-a-corpus-with-python </br>\n",
    "Dataframe from dict: https://pandas.pydata.org/docs/reference/api/pandas.DataFrame.from_dict.html </br>\n",
    "Cosine Similarity: https://scikit-learn.org/stable/modules/generated/sklearn.metrics.pairwise.cosine_similarity.html </br>\n",
    "Importing Google model: https://stackoverflow.com/questions/46433778/import-googlenews-vectors-negative300-bin </br>\n",
    "https://radimrehurek.com/gensim/models/keyedvectors.html </br>"
   ]
  },
  {
   "cell_type": "code",
   "execution_count": 1,
   "id": "0e0fdc77-456a-49c1-a13d-283d85ae1dcc",
   "metadata": {},
   "outputs": [
    {
     "name": "stderr",
     "output_type": "stream",
     "text": [
      "C:\\Users\\sagar\\AppData\\Local\\Temp\\ipykernel_17332\\1022606234.py:4: DeprecationWarning: \n",
      "Pyarrow will become a required dependency of pandas in the next major release of pandas (pandas 3.0),\n",
      "(to allow more performant data types, such as the Arrow string type, and better interoperability with other libraries)\n",
      "but was not found to be installed on your system.\n",
      "If this would cause problems for you,\n",
      "please provide us feedback at https://github.com/pandas-dev/pandas/issues/54466\n",
      "        \n",
      "  import pandas as pd\n"
     ]
    }
   ],
   "source": [
    "import os\n",
    "#import spacy\n",
    "import numpy as np\n",
    "import pandas as pd\n",
    "from collections import Counter\n",
    "from nltk.probability import FreqDist\n",
    "from tqdm import tqdm\n",
    "from math import log\n",
    "import string\n",
    "import matplotlib.pyplot as plt\n",
    "import matplotlib.ticker as ticker\n",
    "from sklearn.model_selection import train_test_split\n",
    "from sklearn.metrics import accuracy_score, classification_report\n",
    "\n",
    "\n"
   ]
  },
  {
   "cell_type": "markdown",
   "id": "14dc12fd-8531-46e5-8d91-9a6957b42ec1",
   "metadata": {},
   "source": [
    "### Part1"
   ]
  },
  {
   "cell_type": "code",
   "execution_count": 2,
   "id": "374f3bb1-3d62-40da-a8b8-f8b27b2d6adc",
   "metadata": {},
   "outputs": [],
   "source": [
    "with open('brown100k.txt', 'r') as file:\n",
    "    raw_text = file.read()"
   ]
  },
  {
   "cell_type": "code",
   "execution_count": 3,
   "id": "4e8f0d71-3862-4c77-b1b6-fa9224b11dcc",
   "metadata": {},
   "outputs": [
    {
     "data": {
      "text/plain": [
       "580637"
      ]
     },
     "execution_count": 3,
     "metadata": {},
     "output_type": "execute_result"
    }
   ],
   "source": [
    "len(raw_text)"
   ]
  },
  {
   "cell_type": "code",
   "execution_count": 4,
   "id": "fefacf5d-ae1f-45c4-8446-dcb7ac59ce7f",
   "metadata": {},
   "outputs": [
    {
     "data": {
      "text/plain": [
       "('the', 7267)"
      ]
     },
     "execution_count": 4,
     "metadata": {},
     "output_type": "execute_result"
    }
   ],
   "source": [
    "data=raw_text.lower().split()\n",
    "word_counts = FreqDist(data)\n",
    "top1000=word_counts.most_common(1000)\n",
    "top1000[0]"
   ]
  },
  {
   "cell_type": "code",
   "execution_count": 5,
   "id": "0d8ca358-4ba3-40ae-8f7a-396d89bf53d8",
   "metadata": {},
   "outputs": [],
   "source": [
    "col=raw_text.lower().split()\n",
    "unique_token=set(col)\n",
    "dict_vec={}\n"
   ]
  },
  {
   "cell_type": "code",
   "execution_count": 6,
   "id": "78dc7c46-a2e6-4b3e-b21f-36a6612a326a",
   "metadata": {},
   "outputs": [
    {
     "name": "stderr",
     "output_type": "stream",
     "text": [
      "100%|█████████████████████████████████████████████████████████████████████████████| 1000/1000 [00:07<00:00, 141.99it/s]\n"
     ]
    }
   ],
   "source": [
    "for i in tqdm(top1000):\n",
    "    dict_vec[i[0]]={}\n",
    "    for j in range(len(data)):\n",
    "        if i[0]==data[j]:\n",
    "            for k in range(1,3):\n",
    "                if data[j-k] in dict_vec[i[0]]:\n",
    "                    dict_vec[i[0]][data[j-k]]+=1\n",
    "                else:\n",
    "                    dict_vec[i[0]][data[j-k]]=1\n",
    "        "
   ]
  },
  {
   "cell_type": "code",
   "execution_count": 7,
   "id": "8b9b0814-c2f9-4039-8d40-65b15f75ce51",
   "metadata": {},
   "outputs": [],
   "source": [
    "df=pd.DataFrame.from_dict(dict_vec, orient='index')\n",
    "df2=pd.DataFrame(columns=list(set(data)-set(df.columns)), index=dict_vec.keys())\n",
    "df3=pd.concat([df, df2], axis=1)"
   ]
  },
  {
   "cell_type": "code",
   "execution_count": 8,
   "id": "7f07c81a-4fa8-46cf-b3d1-6ed8114d1cab",
   "metadata": {},
   "outputs": [
    {
     "data": {
      "text/plain": [
       "set()"
      ]
     },
     "execution_count": 8,
     "metadata": {},
     "output_type": "execute_result"
    }
   ],
   "source": [
    "set(df3.index)-set(col)\n",
    "    "
   ]
  },
  {
   "cell_type": "markdown",
   "id": "03956b57-11fe-46f0-97b8-1ec443d4da21",
   "metadata": {},
   "source": [
    "What are the dimensions of your matrix? What determines these\r\n",
    "dimensions (i.e., why are these the dimensions)? What percentage of the\r\n",
    "matrix’s elements are 0?"
   ]
  },
  {
   "cell_type": "code",
   "execution_count": 9,
   "id": "aa2c7659-fde4-4a12-acf1-be810c3a49de",
   "metadata": {},
   "outputs": [
    {
     "data": {
      "text/html": [
       "<div>\n",
       "<style scoped>\n",
       "    .dataframe tbody tr th:only-of-type {\n",
       "        vertical-align: middle;\n",
       "    }\n",
       "\n",
       "    .dataframe tbody tr th {\n",
       "        vertical-align: top;\n",
       "    }\n",
       "\n",
       "    .dataframe thead th {\n",
       "        text-align: right;\n",
       "    }\n",
       "</style>\n",
       "<table border=\"1\" class=\"dataframe\">\n",
       "  <thead>\n",
       "    <tr style=\"text-align: right;\">\n",
       "      <th></th>\n",
       "      <th>responsibility</th>\n",
       "      <th>of</th>\n",
       "      <th>place</th>\n",
       "      <th>took</th>\n",
       "      <th>that</th>\n",
       "      <th>presentments</th>\n",
       "      <th>charge</th>\n",
       "      <th>deserves</th>\n",
       "      <th>election</th>\n",
       "      <th>thanks</th>\n",
       "      <th>...</th>\n",
       "      <th>rimini</th>\n",
       "      <th>otis</th>\n",
       "      <th>skeet</th>\n",
       "      <th>subordinated</th>\n",
       "      <th>645acre</th>\n",
       "      <th>wolverton</th>\n",
       "      <th>perasso</th>\n",
       "      <th>elvis</th>\n",
       "      <th>dropping</th>\n",
       "      <th>klux</th>\n",
       "    </tr>\n",
       "  </thead>\n",
       "  <tbody>\n",
       "    <tr>\n",
       "      <th>the</th>\n",
       "      <td>6.0</td>\n",
       "      <td>1035.0</td>\n",
       "      <td>9.0</td>\n",
       "      <td>11.0</td>\n",
       "      <td>206.0</td>\n",
       "      <td>1.0</td>\n",
       "      <td>5.0</td>\n",
       "      <td>1.0</td>\n",
       "      <td>6.0</td>\n",
       "      <td>1.0</td>\n",
       "      <td>...</td>\n",
       "      <td>NaN</td>\n",
       "      <td>NaN</td>\n",
       "      <td>NaN</td>\n",
       "      <td>NaN</td>\n",
       "      <td>NaN</td>\n",
       "      <td>NaN</td>\n",
       "      <td>NaN</td>\n",
       "      <td>NaN</td>\n",
       "      <td>NaN</td>\n",
       "      <td>NaN</td>\n",
       "    </tr>\n",
       "    <tr>\n",
       "      <th>of</th>\n",
       "      <td>1.0</td>\n",
       "      <td>37.0</td>\n",
       "      <td>4.0</td>\n",
       "      <td>1.0</td>\n",
       "      <td>34.0</td>\n",
       "      <td>NaN</td>\n",
       "      <td>10.0</td>\n",
       "      <td>NaN</td>\n",
       "      <td>4.0</td>\n",
       "      <td>1.0</td>\n",
       "      <td>...</td>\n",
       "      <td>NaN</td>\n",
       "      <td>NaN</td>\n",
       "      <td>NaN</td>\n",
       "      <td>NaN</td>\n",
       "      <td>NaN</td>\n",
       "      <td>NaN</td>\n",
       "      <td>NaN</td>\n",
       "      <td>NaN</td>\n",
       "      <td>NaN</td>\n",
       "      <td>NaN</td>\n",
       "    </tr>\n",
       "    <tr>\n",
       "      <th>and</th>\n",
       "      <td>1.0</td>\n",
       "      <td>135.0</td>\n",
       "      <td>2.0</td>\n",
       "      <td>2.0</td>\n",
       "      <td>9.0</td>\n",
       "      <td>NaN</td>\n",
       "      <td>NaN</td>\n",
       "      <td>NaN</td>\n",
       "      <td>1.0</td>\n",
       "      <td>NaN</td>\n",
       "      <td>...</td>\n",
       "      <td>NaN</td>\n",
       "      <td>NaN</td>\n",
       "      <td>NaN</td>\n",
       "      <td>NaN</td>\n",
       "      <td>NaN</td>\n",
       "      <td>NaN</td>\n",
       "      <td>NaN</td>\n",
       "      <td>NaN</td>\n",
       "      <td>NaN</td>\n",
       "      <td>NaN</td>\n",
       "    </tr>\n",
       "    <tr>\n",
       "      <th>to</th>\n",
       "      <td>1.0</td>\n",
       "      <td>40.0</td>\n",
       "      <td>NaN</td>\n",
       "      <td>1.0</td>\n",
       "      <td>11.0</td>\n",
       "      <td>NaN</td>\n",
       "      <td>NaN</td>\n",
       "      <td>NaN</td>\n",
       "      <td>3.0</td>\n",
       "      <td>4.0</td>\n",
       "      <td>...</td>\n",
       "      <td>NaN</td>\n",
       "      <td>NaN</td>\n",
       "      <td>NaN</td>\n",
       "      <td>NaN</td>\n",
       "      <td>NaN</td>\n",
       "      <td>NaN</td>\n",
       "      <td>NaN</td>\n",
       "      <td>NaN</td>\n",
       "      <td>NaN</td>\n",
       "      <td>NaN</td>\n",
       "    </tr>\n",
       "    <tr>\n",
       "      <th>a</th>\n",
       "      <td>1.0</td>\n",
       "      <td>150.0</td>\n",
       "      <td>2.0</td>\n",
       "      <td>7.0</td>\n",
       "      <td>41.0</td>\n",
       "      <td>NaN</td>\n",
       "      <td>NaN</td>\n",
       "      <td>1.0</td>\n",
       "      <td>1.0</td>\n",
       "      <td>1.0</td>\n",
       "      <td>...</td>\n",
       "      <td>NaN</td>\n",
       "      <td>NaN</td>\n",
       "      <td>NaN</td>\n",
       "      <td>NaN</td>\n",
       "      <td>NaN</td>\n",
       "      <td>NaN</td>\n",
       "      <td>NaN</td>\n",
       "      <td>NaN</td>\n",
       "      <td>NaN</td>\n",
       "      <td>NaN</td>\n",
       "    </tr>\n",
       "    <tr>\n",
       "      <th>...</th>\n",
       "      <td>...</td>\n",
       "      <td>...</td>\n",
       "      <td>...</td>\n",
       "      <td>...</td>\n",
       "      <td>...</td>\n",
       "      <td>...</td>\n",
       "      <td>...</td>\n",
       "      <td>...</td>\n",
       "      <td>...</td>\n",
       "      <td>...</td>\n",
       "      <td>...</td>\n",
       "      <td>...</td>\n",
       "      <td>...</td>\n",
       "      <td>...</td>\n",
       "      <td>...</td>\n",
       "      <td>...</td>\n",
       "      <td>...</td>\n",
       "      <td>...</td>\n",
       "      <td>...</td>\n",
       "      <td>...</td>\n",
       "      <td>...</td>\n",
       "    </tr>\n",
       "    <tr>\n",
       "      <th>receive</th>\n",
       "      <td>NaN</td>\n",
       "      <td>NaN</td>\n",
       "      <td>NaN</td>\n",
       "      <td>NaN</td>\n",
       "      <td>NaN</td>\n",
       "      <td>NaN</td>\n",
       "      <td>NaN</td>\n",
       "      <td>NaN</td>\n",
       "      <td>NaN</td>\n",
       "      <td>NaN</td>\n",
       "      <td>...</td>\n",
       "      <td>NaN</td>\n",
       "      <td>NaN</td>\n",
       "      <td>NaN</td>\n",
       "      <td>NaN</td>\n",
       "      <td>NaN</td>\n",
       "      <td>NaN</td>\n",
       "      <td>NaN</td>\n",
       "      <td>NaN</td>\n",
       "      <td>NaN</td>\n",
       "      <td>NaN</td>\n",
       "    </tr>\n",
       "    <tr>\n",
       "      <th>nothing</th>\n",
       "      <td>NaN</td>\n",
       "      <td>NaN</td>\n",
       "      <td>NaN</td>\n",
       "      <td>NaN</td>\n",
       "      <td>NaN</td>\n",
       "      <td>NaN</td>\n",
       "      <td>NaN</td>\n",
       "      <td>NaN</td>\n",
       "      <td>NaN</td>\n",
       "      <td>NaN</td>\n",
       "      <td>...</td>\n",
       "      <td>NaN</td>\n",
       "      <td>NaN</td>\n",
       "      <td>NaN</td>\n",
       "      <td>NaN</td>\n",
       "      <td>NaN</td>\n",
       "      <td>NaN</td>\n",
       "      <td>NaN</td>\n",
       "      <td>NaN</td>\n",
       "      <td>NaN</td>\n",
       "      <td>NaN</td>\n",
       "    </tr>\n",
       "    <tr>\n",
       "      <th>cent</th>\n",
       "      <td>NaN</td>\n",
       "      <td>NaN</td>\n",
       "      <td>NaN</td>\n",
       "      <td>NaN</td>\n",
       "      <td>NaN</td>\n",
       "      <td>NaN</td>\n",
       "      <td>NaN</td>\n",
       "      <td>NaN</td>\n",
       "      <td>NaN</td>\n",
       "      <td>NaN</td>\n",
       "      <td>...</td>\n",
       "      <td>NaN</td>\n",
       "      <td>NaN</td>\n",
       "      <td>NaN</td>\n",
       "      <td>NaN</td>\n",
       "      <td>NaN</td>\n",
       "      <td>NaN</td>\n",
       "      <td>NaN</td>\n",
       "      <td>NaN</td>\n",
       "      <td>NaN</td>\n",
       "      <td>NaN</td>\n",
       "    </tr>\n",
       "    <tr>\n",
       "      <th>ap</th>\n",
       "      <td>NaN</td>\n",
       "      <td>NaN</td>\n",
       "      <td>NaN</td>\n",
       "      <td>NaN</td>\n",
       "      <td>NaN</td>\n",
       "      <td>NaN</td>\n",
       "      <td>NaN</td>\n",
       "      <td>NaN</td>\n",
       "      <td>NaN</td>\n",
       "      <td>NaN</td>\n",
       "      <td>...</td>\n",
       "      <td>NaN</td>\n",
       "      <td>NaN</td>\n",
       "      <td>NaN</td>\n",
       "      <td>NaN</td>\n",
       "      <td>NaN</td>\n",
       "      <td>NaN</td>\n",
       "      <td>NaN</td>\n",
       "      <td>NaN</td>\n",
       "      <td>NaN</td>\n",
       "      <td>NaN</td>\n",
       "    </tr>\n",
       "    <tr>\n",
       "      <th>jr</th>\n",
       "      <td>NaN</td>\n",
       "      <td>NaN</td>\n",
       "      <td>NaN</td>\n",
       "      <td>NaN</td>\n",
       "      <td>NaN</td>\n",
       "      <td>NaN</td>\n",
       "      <td>NaN</td>\n",
       "      <td>NaN</td>\n",
       "      <td>NaN</td>\n",
       "      <td>NaN</td>\n",
       "      <td>...</td>\n",
       "      <td>NaN</td>\n",
       "      <td>NaN</td>\n",
       "      <td>NaN</td>\n",
       "      <td>NaN</td>\n",
       "      <td>NaN</td>\n",
       "      <td>NaN</td>\n",
       "      <td>NaN</td>\n",
       "      <td>NaN</td>\n",
       "      <td>NaN</td>\n",
       "      <td>NaN</td>\n",
       "    </tr>\n",
       "  </tbody>\n",
       "</table>\n",
       "<p>1000 rows × 13656 columns</p>\n",
       "</div>"
      ],
      "text/plain": [
       "         responsibility      of  place  took   that  presentments  charge  \\\n",
       "the                 6.0  1035.0    9.0  11.0  206.0           1.0     5.0   \n",
       "of                  1.0    37.0    4.0   1.0   34.0           NaN    10.0   \n",
       "and                 1.0   135.0    2.0   2.0    9.0           NaN     NaN   \n",
       "to                  1.0    40.0    NaN   1.0   11.0           NaN     NaN   \n",
       "a                   1.0   150.0    2.0   7.0   41.0           NaN     NaN   \n",
       "...                 ...     ...    ...   ...    ...           ...     ...   \n",
       "receive             NaN     NaN    NaN   NaN    NaN           NaN     NaN   \n",
       "nothing             NaN     NaN    NaN   NaN    NaN           NaN     NaN   \n",
       "cent                NaN     NaN    NaN   NaN    NaN           NaN     NaN   \n",
       "ap                  NaN     NaN    NaN   NaN    NaN           NaN     NaN   \n",
       "jr                  NaN     NaN    NaN   NaN    NaN           NaN     NaN   \n",
       "\n",
       "         deserves  election  thanks  ...  rimini  otis  skeet  subordinated  \\\n",
       "the           1.0       6.0     1.0  ...     NaN   NaN    NaN           NaN   \n",
       "of            NaN       4.0     1.0  ...     NaN   NaN    NaN           NaN   \n",
       "and           NaN       1.0     NaN  ...     NaN   NaN    NaN           NaN   \n",
       "to            NaN       3.0     4.0  ...     NaN   NaN    NaN           NaN   \n",
       "a             1.0       1.0     1.0  ...     NaN   NaN    NaN           NaN   \n",
       "...           ...       ...     ...  ...     ...   ...    ...           ...   \n",
       "receive       NaN       NaN     NaN  ...     NaN   NaN    NaN           NaN   \n",
       "nothing       NaN       NaN     NaN  ...     NaN   NaN    NaN           NaN   \n",
       "cent          NaN       NaN     NaN  ...     NaN   NaN    NaN           NaN   \n",
       "ap            NaN       NaN     NaN  ...     NaN   NaN    NaN           NaN   \n",
       "jr            NaN       NaN     NaN  ...     NaN   NaN    NaN           NaN   \n",
       "\n",
       "         645acre  wolverton  perasso  elvis  dropping  klux  \n",
       "the          NaN        NaN      NaN    NaN       NaN   NaN  \n",
       "of           NaN        NaN      NaN    NaN       NaN   NaN  \n",
       "and          NaN        NaN      NaN    NaN       NaN   NaN  \n",
       "to           NaN        NaN      NaN    NaN       NaN   NaN  \n",
       "a            NaN        NaN      NaN    NaN       NaN   NaN  \n",
       "...          ...        ...      ...    ...       ...   ...  \n",
       "receive      NaN        NaN      NaN    NaN       NaN   NaN  \n",
       "nothing      NaN        NaN      NaN    NaN       NaN   NaN  \n",
       "cent         NaN        NaN      NaN    NaN       NaN   NaN  \n",
       "ap           NaN        NaN      NaN    NaN       NaN   NaN  \n",
       "jr           NaN        NaN      NaN    NaN       NaN   NaN  \n",
       "\n",
       "[1000 rows x 13656 columns]"
      ]
     },
     "execution_count": 9,
     "metadata": {},
     "output_type": "execute_result"
    }
   ],
   "source": [
    "df3"
   ]
  },
  {
   "cell_type": "markdown",
   "id": "4984d3ce-4b7f-4e31-830a-79d3c6379fb0",
   "metadata": {},
   "source": [
    "Dimentions of the df are 1000 rows × 13656 columns"
   ]
  },
  {
   "cell_type": "code",
   "execution_count": 10,
   "id": "df2dca4e-c2f7-4d3f-94f9-6945f7efa3ab",
   "metadata": {},
   "outputs": [
    {
     "data": {
      "text/plain": [
       "99.42505125951962"
      ]
     },
     "execution_count": 10,
     "metadata": {},
     "output_type": "execute_result"
    }
   ],
   "source": [
    "df3.isna().sum().sum()*100/(df3.shape[0]*df3.shape[1])"
   ]
  },
  {
   "cell_type": "markdown",
   "id": "8e29aa73-dbf9-485f-88e4-4b7c4a2840ab",
   "metadata": {},
   "source": [
    "99.42% of the Matrix elements are 0"
   ]
  },
  {
   "cell_type": "code",
   "execution_count": 11,
   "id": "b26d878b-81d7-457b-9b57-07d7f76b1eb2",
   "metadata": {},
   "outputs": [
    {
     "name": "stderr",
     "output_type": "stream",
     "text": [
      "C:\\Users\\sagar\\AppData\\Local\\Temp\\ipykernel_17332\\3620855991.py:1: FutureWarning: Downcasting object dtype arrays on .fillna, .ffill, .bfill is deprecated and will change in a future version. Call result.infer_objects(copy=False) instead. To opt-in to the future behavior, set `pd.set_option('future.no_silent_downcasting', True)`\n",
      "  df3=df3.fillna(0)\n"
     ]
    },
    {
     "data": {
      "text/html": [
       "<div>\n",
       "<style scoped>\n",
       "    .dataframe tbody tr th:only-of-type {\n",
       "        vertical-align: middle;\n",
       "    }\n",
       "\n",
       "    .dataframe tbody tr th {\n",
       "        vertical-align: top;\n",
       "    }\n",
       "\n",
       "    .dataframe thead th {\n",
       "        text-align: right;\n",
       "    }\n",
       "</style>\n",
       "<table border=\"1\" class=\"dataframe\">\n",
       "  <thead>\n",
       "    <tr style=\"text-align: right;\">\n",
       "      <th></th>\n",
       "      <th>responsibility</th>\n",
       "      <th>of</th>\n",
       "      <th>place</th>\n",
       "      <th>took</th>\n",
       "      <th>that</th>\n",
       "      <th>presentments</th>\n",
       "      <th>charge</th>\n",
       "      <th>deserves</th>\n",
       "      <th>election</th>\n",
       "      <th>thanks</th>\n",
       "      <th>...</th>\n",
       "      <th>rimini</th>\n",
       "      <th>otis</th>\n",
       "      <th>skeet</th>\n",
       "      <th>subordinated</th>\n",
       "      <th>645acre</th>\n",
       "      <th>wolverton</th>\n",
       "      <th>perasso</th>\n",
       "      <th>elvis</th>\n",
       "      <th>dropping</th>\n",
       "      <th>klux</th>\n",
       "    </tr>\n",
       "  </thead>\n",
       "  <tbody>\n",
       "    <tr>\n",
       "      <th>the</th>\n",
       "      <td>6</td>\n",
       "      <td>1035</td>\n",
       "      <td>9</td>\n",
       "      <td>11</td>\n",
       "      <td>206</td>\n",
       "      <td>1</td>\n",
       "      <td>5</td>\n",
       "      <td>1</td>\n",
       "      <td>6</td>\n",
       "      <td>1</td>\n",
       "      <td>...</td>\n",
       "      <td>0</td>\n",
       "      <td>0</td>\n",
       "      <td>0</td>\n",
       "      <td>0</td>\n",
       "      <td>0</td>\n",
       "      <td>0</td>\n",
       "      <td>0</td>\n",
       "      <td>0</td>\n",
       "      <td>0</td>\n",
       "      <td>0</td>\n",
       "    </tr>\n",
       "    <tr>\n",
       "      <th>of</th>\n",
       "      <td>1</td>\n",
       "      <td>37</td>\n",
       "      <td>4</td>\n",
       "      <td>1</td>\n",
       "      <td>34</td>\n",
       "      <td>0</td>\n",
       "      <td>10</td>\n",
       "      <td>0</td>\n",
       "      <td>4</td>\n",
       "      <td>1</td>\n",
       "      <td>...</td>\n",
       "      <td>0</td>\n",
       "      <td>0</td>\n",
       "      <td>0</td>\n",
       "      <td>0</td>\n",
       "      <td>0</td>\n",
       "      <td>0</td>\n",
       "      <td>0</td>\n",
       "      <td>0</td>\n",
       "      <td>0</td>\n",
       "      <td>0</td>\n",
       "    </tr>\n",
       "    <tr>\n",
       "      <th>and</th>\n",
       "      <td>1</td>\n",
       "      <td>135</td>\n",
       "      <td>2</td>\n",
       "      <td>2</td>\n",
       "      <td>9</td>\n",
       "      <td>0</td>\n",
       "      <td>0</td>\n",
       "      <td>0</td>\n",
       "      <td>1</td>\n",
       "      <td>0</td>\n",
       "      <td>...</td>\n",
       "      <td>0</td>\n",
       "      <td>0</td>\n",
       "      <td>0</td>\n",
       "      <td>0</td>\n",
       "      <td>0</td>\n",
       "      <td>0</td>\n",
       "      <td>0</td>\n",
       "      <td>0</td>\n",
       "      <td>0</td>\n",
       "      <td>0</td>\n",
       "    </tr>\n",
       "    <tr>\n",
       "      <th>to</th>\n",
       "      <td>1</td>\n",
       "      <td>40</td>\n",
       "      <td>0</td>\n",
       "      <td>1</td>\n",
       "      <td>11</td>\n",
       "      <td>0</td>\n",
       "      <td>0</td>\n",
       "      <td>0</td>\n",
       "      <td>3</td>\n",
       "      <td>4</td>\n",
       "      <td>...</td>\n",
       "      <td>0</td>\n",
       "      <td>0</td>\n",
       "      <td>0</td>\n",
       "      <td>0</td>\n",
       "      <td>0</td>\n",
       "      <td>0</td>\n",
       "      <td>0</td>\n",
       "      <td>0</td>\n",
       "      <td>0</td>\n",
       "      <td>0</td>\n",
       "    </tr>\n",
       "    <tr>\n",
       "      <th>a</th>\n",
       "      <td>1</td>\n",
       "      <td>150</td>\n",
       "      <td>2</td>\n",
       "      <td>7</td>\n",
       "      <td>41</td>\n",
       "      <td>0</td>\n",
       "      <td>0</td>\n",
       "      <td>1</td>\n",
       "      <td>1</td>\n",
       "      <td>1</td>\n",
       "      <td>...</td>\n",
       "      <td>0</td>\n",
       "      <td>0</td>\n",
       "      <td>0</td>\n",
       "      <td>0</td>\n",
       "      <td>0</td>\n",
       "      <td>0</td>\n",
       "      <td>0</td>\n",
       "      <td>0</td>\n",
       "      <td>0</td>\n",
       "      <td>0</td>\n",
       "    </tr>\n",
       "    <tr>\n",
       "      <th>...</th>\n",
       "      <td>...</td>\n",
       "      <td>...</td>\n",
       "      <td>...</td>\n",
       "      <td>...</td>\n",
       "      <td>...</td>\n",
       "      <td>...</td>\n",
       "      <td>...</td>\n",
       "      <td>...</td>\n",
       "      <td>...</td>\n",
       "      <td>...</td>\n",
       "      <td>...</td>\n",
       "      <td>...</td>\n",
       "      <td>...</td>\n",
       "      <td>...</td>\n",
       "      <td>...</td>\n",
       "      <td>...</td>\n",
       "      <td>...</td>\n",
       "      <td>...</td>\n",
       "      <td>...</td>\n",
       "      <td>...</td>\n",
       "      <td>...</td>\n",
       "    </tr>\n",
       "    <tr>\n",
       "      <th>receive</th>\n",
       "      <td>0</td>\n",
       "      <td>0</td>\n",
       "      <td>0</td>\n",
       "      <td>0</td>\n",
       "      <td>0</td>\n",
       "      <td>0</td>\n",
       "      <td>0</td>\n",
       "      <td>0</td>\n",
       "      <td>0</td>\n",
       "      <td>0</td>\n",
       "      <td>...</td>\n",
       "      <td>0</td>\n",
       "      <td>0</td>\n",
       "      <td>0</td>\n",
       "      <td>0</td>\n",
       "      <td>0</td>\n",
       "      <td>0</td>\n",
       "      <td>0</td>\n",
       "      <td>0</td>\n",
       "      <td>0</td>\n",
       "      <td>0</td>\n",
       "    </tr>\n",
       "    <tr>\n",
       "      <th>nothing</th>\n",
       "      <td>0</td>\n",
       "      <td>0</td>\n",
       "      <td>0</td>\n",
       "      <td>0</td>\n",
       "      <td>0</td>\n",
       "      <td>0</td>\n",
       "      <td>0</td>\n",
       "      <td>0</td>\n",
       "      <td>0</td>\n",
       "      <td>0</td>\n",
       "      <td>...</td>\n",
       "      <td>0</td>\n",
       "      <td>0</td>\n",
       "      <td>0</td>\n",
       "      <td>0</td>\n",
       "      <td>0</td>\n",
       "      <td>0</td>\n",
       "      <td>0</td>\n",
       "      <td>0</td>\n",
       "      <td>0</td>\n",
       "      <td>0</td>\n",
       "    </tr>\n",
       "    <tr>\n",
       "      <th>cent</th>\n",
       "      <td>0</td>\n",
       "      <td>0</td>\n",
       "      <td>0</td>\n",
       "      <td>0</td>\n",
       "      <td>0</td>\n",
       "      <td>0</td>\n",
       "      <td>0</td>\n",
       "      <td>0</td>\n",
       "      <td>0</td>\n",
       "      <td>0</td>\n",
       "      <td>...</td>\n",
       "      <td>0</td>\n",
       "      <td>0</td>\n",
       "      <td>0</td>\n",
       "      <td>0</td>\n",
       "      <td>0</td>\n",
       "      <td>0</td>\n",
       "      <td>0</td>\n",
       "      <td>0</td>\n",
       "      <td>0</td>\n",
       "      <td>0</td>\n",
       "    </tr>\n",
       "    <tr>\n",
       "      <th>ap</th>\n",
       "      <td>0</td>\n",
       "      <td>0</td>\n",
       "      <td>0</td>\n",
       "      <td>0</td>\n",
       "      <td>0</td>\n",
       "      <td>0</td>\n",
       "      <td>0</td>\n",
       "      <td>0</td>\n",
       "      <td>0</td>\n",
       "      <td>0</td>\n",
       "      <td>...</td>\n",
       "      <td>0</td>\n",
       "      <td>0</td>\n",
       "      <td>0</td>\n",
       "      <td>0</td>\n",
       "      <td>0</td>\n",
       "      <td>0</td>\n",
       "      <td>0</td>\n",
       "      <td>0</td>\n",
       "      <td>0</td>\n",
       "      <td>0</td>\n",
       "    </tr>\n",
       "    <tr>\n",
       "      <th>jr</th>\n",
       "      <td>0</td>\n",
       "      <td>0</td>\n",
       "      <td>0</td>\n",
       "      <td>0</td>\n",
       "      <td>0</td>\n",
       "      <td>0</td>\n",
       "      <td>0</td>\n",
       "      <td>0</td>\n",
       "      <td>0</td>\n",
       "      <td>0</td>\n",
       "      <td>...</td>\n",
       "      <td>0</td>\n",
       "      <td>0</td>\n",
       "      <td>0</td>\n",
       "      <td>0</td>\n",
       "      <td>0</td>\n",
       "      <td>0</td>\n",
       "      <td>0</td>\n",
       "      <td>0</td>\n",
       "      <td>0</td>\n",
       "      <td>0</td>\n",
       "    </tr>\n",
       "  </tbody>\n",
       "</table>\n",
       "<p>1000 rows × 13656 columns</p>\n",
       "</div>"
      ],
      "text/plain": [
       "         responsibility    of  place  took  that  presentments  charge  \\\n",
       "the                   6  1035      9    11   206             1       5   \n",
       "of                    1    37      4     1    34             0      10   \n",
       "and                   1   135      2     2     9             0       0   \n",
       "to                    1    40      0     1    11             0       0   \n",
       "a                     1   150      2     7    41             0       0   \n",
       "...                 ...   ...    ...   ...   ...           ...     ...   \n",
       "receive               0     0      0     0     0             0       0   \n",
       "nothing               0     0      0     0     0             0       0   \n",
       "cent                  0     0      0     0     0             0       0   \n",
       "ap                    0     0      0     0     0             0       0   \n",
       "jr                    0     0      0     0     0             0       0   \n",
       "\n",
       "         deserves  election  thanks  ...  rimini  otis  skeet  subordinated  \\\n",
       "the             1         6       1  ...       0     0      0             0   \n",
       "of              0         4       1  ...       0     0      0             0   \n",
       "and             0         1       0  ...       0     0      0             0   \n",
       "to              0         3       4  ...       0     0      0             0   \n",
       "a               1         1       1  ...       0     0      0             0   \n",
       "...           ...       ...     ...  ...     ...   ...    ...           ...   \n",
       "receive         0         0       0  ...       0     0      0             0   \n",
       "nothing         0         0       0  ...       0     0      0             0   \n",
       "cent            0         0       0  ...       0     0      0             0   \n",
       "ap              0         0       0  ...       0     0      0             0   \n",
       "jr              0         0       0  ...       0     0      0             0   \n",
       "\n",
       "         645acre  wolverton  perasso  elvis  dropping  klux  \n",
       "the            0          0        0      0         0     0  \n",
       "of             0          0        0      0         0     0  \n",
       "and            0          0        0      0         0     0  \n",
       "to             0          0        0      0         0     0  \n",
       "a              0          0        0      0         0     0  \n",
       "...          ...        ...      ...    ...       ...   ...  \n",
       "receive        0          0        0      0         0     0  \n",
       "nothing        0          0        0      0         0     0  \n",
       "cent           0          0        0      0         0     0  \n",
       "ap             0          0        0      0         0     0  \n",
       "jr             0          0        0      0         0     0  \n",
       "\n",
       "[1000 rows x 13656 columns]"
      ]
     },
     "execution_count": 11,
     "metadata": {},
     "output_type": "execute_result"
    }
   ],
   "source": [
    "df3=df3.fillna(0)\n",
    "df3=df3.astype(int)\n",
    "df3"
   ]
  },
  {
   "cell_type": "markdown",
   "id": "541edd2d-b8ed-4ab8-9cc0-2a37f88c7007",
   "metadata": {},
   "source": [
    "Pick your favorite word in the vocabulary. Show the 20 closest words to\n",
    "your chosen word, calculated using the cosine similarity metric. Are these\n",
    "what you expected? Why or why not?"
   ]
  },
  {
   "cell_type": "markdown",
   "id": "8fe9b81b-1369-4818-8969-edaa8d89cdbf",
   "metadata": {},
   "source": [
    "Choosing the word \"the\""
   ]
  },
  {
   "cell_type": "code",
   "execution_count": 13,
   "id": "65c1b082-5e87-482d-8c09-3afd8300700a",
   "metadata": {},
   "outputs": [],
   "source": [
    "def cosine_similarity(vector1, vector2):\n",
    "    dot_product = np.dot(vector1, vector2)\n",
    "    norm_vector1 = np.linalg.norm(vector1)\n",
    "    norm_vector2 = np.linalg.norm(vector2)\n",
    "    if norm_vector1 != 0 and norm_vector2 != 0:\n",
    "        similarity = dot_product / (norm_vector1 * norm_vector2)\n",
    "    else:\n",
    "        similarity = 0  # Handle division by zero\n",
    "    return similarity"
   ]
  },
  {
   "cell_type": "code",
   "execution_count": 14,
   "id": "e8190daf-8108-40f6-bf48-3b0bd1ad2433",
   "metadata": {},
   "outputs": [
    {
     "name": "stderr",
     "output_type": "stream",
     "text": [
      "100%|█████████████████████████████████████████████████████████████████████████████| 1000/1000 [00:07<00:00, 139.57it/s]\n"
     ]
    }
   ],
   "source": [
    "df3.loc['the'].values\n",
    "value=[]\n",
    "for i in tqdm(top1000):\n",
    "    if i[0]!='the':\n",
    "        value.append([i[0],cosine_similarity(df3.loc['the'].values,df3.loc[i[0]].values)])"
   ]
  },
  {
   "cell_type": "code",
   "execution_count": 15,
   "id": "0122d49f-1d1e-4c39-aa5a-fa59dd3b2c2e",
   "metadata": {},
   "outputs": [
    {
     "data": {
      "text/plain": [
       "[['its', 0.9099978361210391],\n",
       " ['his', 0.8915871457647584],\n",
       " ['their', 0.8892782907076743],\n",
       " ['this', 0.866736689468075],\n",
       " ['a', 0.858958551136425],\n",
       " ['an', 0.8560321006030137],\n",
       " ['all', 0.8297499773145374],\n",
       " ['our', 0.8188108728865724],\n",
       " ['these', 0.8045322417994314],\n",
       " ['such', 0.7912553308243344],\n",
       " ['those', 0.7633357874613256],\n",
       " ['any', 0.7579828146734305],\n",
       " ['her', 0.7415732271327318],\n",
       " ['washington', 0.7265564275786416],\n",
       " ['each', 0.7231005520867136],\n",
       " ['some', 0.7155915179427546],\n",
       " ['dallas', 0.712924769448125],\n",
       " ['houston', 0.711116703135719],\n",
       " ['them', 0.7105597345669267],\n",
       " ['san', 0.7003367210286724]]"
      ]
     },
     "execution_count": 15,
     "metadata": {},
     "output_type": "execute_result"
    }
   ],
   "source": [
    "value.sort(key=lambda x: x[1], reverse=True)\n",
    "value[:20]"
   ]
  },
  {
   "cell_type": "markdown",
   "id": "ff8704a7-33e3-4435-9e70-0aefd96ec497",
   "metadata": {},
   "source": [
    "I expected its, his, their.... to be there as these are similar placeholders in the semantic of the English Language. But words like dallas, washington, san were not expected. As they are proper nouns while the is an article. "
   ]
  },
  {
   "cell_type": "markdown",
   "id": "f3846547-3c17-4562-b42a-8641e889023b",
   "metadata": {},
   "source": [
    "Which two words in your vocabulary are most distinct? Which are most\n",
    "similar to each other? Does this make sense to you, or are these\n",
    "surprising?"
   ]
  },
  {
   "cell_type": "raw",
   "id": "105e4881-9dc7-496e-befd-84a9e7f11cf0",
   "metadata": {},
   "source": [
    "max=0\n",
    "m1=''\n",
    "m2=''\n",
    "d1=''\n",
    "d2=''\n",
    "min=1\n",
    "visited=set()\n",
    "for i in tqdm(top1000):\n",
    "    for j in top1000:\n",
    "        if i[0]!=j[0] and j[0] not in visited:\n",
    "            x=cosine_similarity(df3.loc[i[0]].values,df3.loc[j[0]].values)\n",
    "            if x>max:\n",
    "                m1=i[0]\n",
    "                m2=j[0]\n",
    "            if x<min:\n",
    "                d1=i[0]\n",
    "                d2=j[0]\n",
    "    visited.add(i[0])"
   ]
  },
  {
   "cell_type": "markdown",
   "id": "337a085c-91ba-4011-a83c-879e4f62e47e",
   "metadata": {},
   "source": [
    "Runtime of above code was around 6 hours"
   ]
  },
  {
   "cell_type": "code",
   "execution_count": 16,
   "id": "6f947267-1ea7-4431-92da-cf36998d972a",
   "metadata": {},
   "outputs": [],
   "source": [
    "from sklearn.metrics.pairwise import cosine_similarity"
   ]
  },
  {
   "cell_type": "code",
   "execution_count": 17,
   "id": "ad67536b-7485-47d2-a357-5134acbbd81c",
   "metadata": {},
   "outputs": [],
   "source": [
    "temp=df3.to_numpy()\n",
    "val=cosine_similarity(temp)"
   ]
  },
  {
   "cell_type": "code",
   "execution_count": 18,
   "id": "e5cee535-48cb-4871-b963-15996fa464ba",
   "metadata": {},
   "outputs": [],
   "source": [
    "max_index = np.unravel_index(np.argmax(val), val.shape)\n",
    "min_index = np.unravel_index(np.argmin(val), val.shape)"
   ]
  },
  {
   "cell_type": "code",
   "execution_count": 19,
   "id": "5fe08c0f-0e76-434f-8131-fc869fd55a51",
   "metadata": {},
   "outputs": [
    {
     "name": "stdout",
     "output_type": "stream",
     "text": [
      "Words with highest similarity: it & interest\n",
      "Words which are most distinct: i & for\n"
     ]
    }
   ],
   "source": [
    "print('Words with highest similarity:',df3.index[max_index[0]],'&',df3.columns[max_index[0]])\n",
    "print('Words which are most distinct:',df3.index[min_index[0]],'&',df3.columns[min_index[0]])"
   ]
  },
  {
   "cell_type": "markdown",
   "id": "97286833-3fd8-4cab-9097-ee254469c4e2",
   "metadata": {},
   "source": [
    "### Part2"
   ]
  },
  {
   "cell_type": "code",
   "execution_count": 20,
   "id": "60241647-836c-426c-9962-88a4f77b92be",
   "metadata": {},
   "outputs": [],
   "source": [
    "w_cat=np.array([1.0,1.0])\n",
    "c_remote=np.array([0.0,1.0])\n",
    "c_oatmeal=np.array([0.0,-1.0])\n",
    "c_litter=np.array([1.0,0.0])"
   ]
  },
  {
   "cell_type": "markdown",
   "id": "09dab45a-5ee5-403a-b008-5e348279138f",
   "metadata": {},
   "source": [
    "Plot these four vectors. You can use matplotlib or simply plot by hand (it doesn’t need to\r\n",
    "be super exact, just label the points with their values if you’re approximating the plot)."
   ]
  },
  {
   "cell_type": "code",
   "execution_count": 21,
   "id": "2087fde6-5a3c-4683-ae1d-9ae2133861af",
   "metadata": {},
   "outputs": [
    {
     "data": {
      "text/plain": [
       "<matplotlib.legend.Legend at 0x224840de680>"
      ]
     },
     "execution_count": 21,
     "metadata": {},
     "output_type": "execute_result"
    },
    {
     "data": {
      "image/png": "[encoded data removed]",
      "text/plain": [
       "<Figure size 640x480 with 1 Axes>"
      ]
     },
     "metadata": {},
     "output_type": "display_data"
    }
   ],
   "source": [
    "plt.scatter(x=1,y=1,label='w_cat')\n",
    "plt.scatter(x=0,y=1,label='c_remote')\n",
    "plt.scatter(x=0,y=-1,label='c_oatmeal')\n",
    "plt.scatter(x=1,y=0,label='c_litter')\n",
    "plt.legend()"
   ]
  },
  {
   "cell_type": "markdown",
   "id": "df76411f-7ce4-487b-b394-cd489c5901d2",
   "metadata": {},
   "source": [
    "For each of the three tuples in our training example, does the model output that they are\n",
    "context pairs or not? Is the model correct?"
   ]
  },
  {
   "cell_type": "code",
   "execution_count": 22,
   "id": "c4bae07e-ab08-479c-abb4-4090b7fcfba1",
   "metadata": {},
   "outputs": [],
   "source": [
    "from tensorflow.math import sigmoid"
   ]
  },
  {
   "cell_type": "code",
   "execution_count": 23,
   "id": "dd1eb6cd-5007-40d8-83da-76e88a5eec35",
   "metadata": {},
   "outputs": [],
   "source": [
    "cat_remote=sigmoid(np.dot(w_cat,c_remote))\n",
    "cat_oatmeal=sigmoid(np.dot(w_cat,c_oatmeal))\n",
    "cat_litter=sigmoid(np.dot(w_cat,c_litter))\n"
   ]
  },
  {
   "cell_type": "code",
   "execution_count": 24,
   "id": "ec291cd0-5958-4222-80ac-4bc74a0da6e7",
   "metadata": {},
   "outputs": [
    {
     "name": "stdout",
     "output_type": "stream",
     "text": [
      "cat_remote: tf.Tensor(0.7310585786300049, shape=(), dtype=float64)\n",
      "cat_oatmeal: tf.Tensor(0.2689414213699951, shape=(), dtype=float64)\n",
      "cat_litter: tf.Tensor(0.7310585786300049, shape=(), dtype=float64)\n"
     ]
    }
   ],
   "source": [
    "print('cat_remote:',cat_remote)\n",
    "print('cat_oatmeal:',cat_oatmeal)\n",
    "print('cat_litter:',cat_litter)"
   ]
  },
  {
   "cell_type": "markdown",
   "id": "2a44d1be-549d-40a7-a8d4-aabe375436ea",
   "metadata": {},
   "source": [
    "If we take Cuttoff as 0.5, the model predits cat_remote and cat_litter as context pairs and cat_oatmeal as not a context pair. </br> \n",
    "But we know that cat & remote are not context pairs. Therefore the model is not 100% correct."
   ]
  },
  {
   "cell_type": "markdown",
   "id": "d31d911e-cc24-4c11-9065-237bcee4b2d0",
   "metadata": {},
   "source": [
    "You begin to train your model to arrive at target and context word vectors that will\r\n",
    "maximize the probability that positive examples are labeled as occurring together and\r\n",
    "maximize the probability that negative examples are labeled as *not* occurring together.\r\n",
    "You decide to use the loss function defined in (6.34 in SLP). What is the current loss\r\n",
    "value?"
   ]
  },
  {
   "cell_type": "markdown",
   "id": "102a2ddd-7a63-42c9-adc1-c6742a3c146a",
   "metadata": {},
   "source": [
    "loss=−log(σ(w_target⋅c_context))−∑ i=1 to k log(1−σ(w_target⋅c_negative_i))"
   ]
  },
  {
   "cell_type": "code",
   "execution_count": 25,
   "id": "447e80d0-8a63-4229-b098-2b265c5bf2ee",
   "metadata": {},
   "outputs": [
    {
     "name": "stdout",
     "output_type": "stream",
     "text": [
      "Current Loss: 1.9397850625546684\n"
     ]
    }
   ],
   "source": [
    "loss=(-np.log(sigmoid(np.dot(w_cat,c_litter)))-np.log(1-sigmoid(np.dot(w_cat,c_remote)))-np.log(1-sigmoid(np.dot(w_cat,c_oatmeal))))\n",
    "print('Current Loss:',loss)"
   ]
  },
  {
   "cell_type": "markdown",
   "id": "5228c045-127a-4055-9cc1-c246b4fa623d",
   "metadata": {},
   "source": [
    "You decide to perform gradient descent to update your vectors. Step through one step of\n",
    "stochastic gradient descent (consider all three example tuples as one step). Set the\n",
    "learning rate η = 1. What are the updated vectors? Plot them."
   ]
  },
  {
   "cell_type": "code",
   "execution_count": 26,
   "id": "bc7a30dd-a716-4a36-a61d-01ea92ce8afd",
   "metadata": {},
   "outputs": [
    {
     "name": "stdout",
     "output_type": "stream",
     "text": [
      "c_litter_new: tf.Tensor([1.26894142 0.26894142], shape=(2,), dtype=float64)\n",
      "c_remote_new: tf.Tensor([-0.73105858  0.26894142], shape=(2,), dtype=float64)\n",
      "c_oatmeal_new: tf.Tensor([-0.26894142 -1.26894142], shape=(2,), dtype=float64)\n",
      "w_cat_new: tf.Tensor([1.26894142 0.53788284], shape=(2,), dtype=float64)\n"
     ]
    }
   ],
   "source": [
    "lr=1\n",
    "c_litter_new=c_litter-lr*(cat_litter-1)*w_cat\n",
    "c_remote_new=c_remote-lr*(cat_remote)*w_cat\n",
    "c_oatmeal_new=c_oatmeal-lr*(cat_oatmeal)*w_cat\n",
    "w_cat_new=w_cat-lr*((cat_litter-1)*c_litter+cat_remote*c_remote+cat_oatmeal*c_oatmeal)\n",
    "print('c_litter_new:',c_litter_new)\n",
    "print('c_remote_new:',c_remote_new)\n",
    "print('c_oatmeal_new:',c_oatmeal_new)\n",
    "print('w_cat_new:',w_cat_new)"
   ]
  },
  {
   "cell_type": "code",
   "execution_count": 27,
   "id": "37727152-e070-40b2-af65-8537f00b9193",
   "metadata": {},
   "outputs": [
    {
     "data": {
      "text/plain": [
       "<matplotlib.legend.Legend at 0x2249ebcda50>"
      ]
     },
     "execution_count": 27,
     "metadata": {},
     "output_type": "execute_result"
    },
    {
     "data": {
      "image/png": "[encoded data removed]",
      "text/plain": [
       "<Figure size 640x480 with 1 Axes>"
      ]
     },
     "metadata": {},
     "output_type": "display_data"
    }
   ],
   "source": [
    "plt.scatter(x=w_cat_new[0],y=w_cat_new[1],label='w_cat_new')\n",
    "plt.scatter(x=c_remote_new[0],y=c_remote_new[1],label='c_remote_new')\n",
    "plt.scatter(x=c_oatmeal_new[0],y=c_oatmeal_new[1],label='c_oatmeal_new')\n",
    "plt.scatter(x=c_litter_new[0],y=c_litter_new[1],label='c_litter_new')\n",
    "plt.legend()"
   ]
  },
  {
   "cell_type": "markdown",
   "id": "7022a6b0-6cf7-4fc5-802b-fd06b050417d",
   "metadata": {},
   "source": [
    "For each of the three tuples and the updated vectors, does the model now make the\r\n",
    "correct prediction?"
   ]
  },
  {
   "cell_type": "code",
   "execution_count": 28,
   "id": "74e20e62-0d38-4dcd-976d-fffa283e637d",
   "metadata": {},
   "outputs": [
    {
     "name": "stdout",
     "output_type": "stream",
     "text": [
      "cat_remote: tf.Tensor(0.31367119441399455, shape=(), dtype=float64)\n",
      "cat_oatmeal: tf.Tensor(0.26428539289602093, shape=(), dtype=float64)\n",
      "cat_litter: tf.Tensor(0.8525661633589757, shape=(), dtype=float64)\n"
     ]
    }
   ],
   "source": [
    "c_litter=c_litter_new\n",
    "c_remote=c_remote_new\n",
    "c_oatmeal=c_oatmeal_new\n",
    "w_cat=w_cat_new\n",
    "cat_remote=sigmoid(np.dot(w_cat,c_remote))\n",
    "cat_oatmeal=sigmoid(np.dot(w_cat,c_oatmeal))\n",
    "cat_litter=sigmoid(np.dot(w_cat,c_litter))\n",
    "print('cat_remote:',cat_remote)\n",
    "print('cat_oatmeal:',cat_oatmeal)\n",
    "print('cat_litter:',cat_litter)"
   ]
  },
  {
   "cell_type": "markdown",
   "id": "722f3ce8-aaf5-40ed-82e5-cf7f812eb72c",
   "metadata": {},
   "source": [
    "If we take Cuttoff as 0.5, the model predicts </br>\n",
    "cat & remote not as a context pair</br>\n",
    "cat & oatmeal not as context pair</br>\n",
    "cat and litter as a context pair</br>\n",
    "Therefore the model does make a 100% correct prediction"
   ]
  },
  {
   "cell_type": "markdown",
   "id": "1ddc7787-21bb-41c0-9f99-7460aa8a2f74",
   "metadata": {},
   "source": [
    "What is the new loss function value?"
   ]
  },
  {
   "cell_type": "code",
   "execution_count": 29,
   "id": "8b2f95b5-76ad-4600-b805-9f9c6dfcdbd2",
   "metadata": {},
   "outputs": [
    {
     "name": "stdout",
     "output_type": "stream",
     "text": [
      "Current Loss: 0.8428159170506122\n"
     ]
    }
   ],
   "source": [
    "loss=(-np.log(sigmoid(np.dot(w_cat,c_litter)))-np.log(1-sigmoid(np.dot(w_cat,c_remote)))-np.log(1-sigmoid(np.dot(w_cat,c_oatmeal))))\n",
    "print('Current Loss:',loss)"
   ]
  },
  {
   "cell_type": "markdown",
   "id": "01e7315e-9841-4098-827a-e3f6e1afe185",
   "metadata": {},
   "source": [
    "Describe what has changed and how this will over time work to create word embeddings\n",
    "that represent word similarity. Consider how the predictions, vectors, and loss have\n",
    "changed."
   ]
  },
  {
   "cell_type": "markdown",
   "id": "b72ddb74-710b-49fb-ae66-ebdc3791a6dc",
   "metadata": {},
   "source": [
    "1. The posistions of the vectors have changed.\n",
    "2. Vetors that are context pairs have gotten closer to each other.\n",
    "3. Loss has decreased as, incorrect predictions for non context pairs has been penalized.\n",
    "4. When this is performed iteratively, the context pairs will become closer while the non context pair will become further apart from the target word. Loss will decrease till we reach the local/global minima."
   ]
  },
  {
   "cell_type": "markdown",
   "id": "7ca51d39-28cf-479a-aca4-7093b638307f",
   "metadata": {},
   "source": [
    "### Part 3: Evaluating Word2Vec"
   ]
  },
  {
   "cell_type": "markdown",
   "id": "ed36f492-d5da-481c-8bfd-bb66a8907bb8",
   "metadata": {},
   "source": [
    "https://code.google.com/archive/p/word2vec/downloads </br>\n",
    "is broken</br>\n",
    "downloading the google model using gensim.downloader"
   ]
  },
  {
   "cell_type": "code",
   "execution_count": 33,
   "id": "39f926ee-a63e-4e2a-a486-b87ce9790460",
   "metadata": {},
   "outputs": [],
   "source": [
    "from gensim import models\n",
    "import gensim.downloader as api"
   ]
  },
  {
   "cell_type": "code",
   "execution_count": 35,
   "id": "714c68cb-e513-4cbe-9163-eeb59d971c72",
   "metadata": {},
   "outputs": [],
   "source": [
    "google_model=api.load('word2vec-google-news-300')"
   ]
  },
  {
   "cell_type": "markdown",
   "id": "8be40d66-ff28-4ba4-8d9c-6cb41763cbb0",
   "metadata": {},
   "source": [
    "Describe the pre-trained vectors. What are their dimensions? What data\n",
    "were they pre-trained on? How many word tokens were they pre-trained\n",
    "on?"
   ]
  },
  {
   "cell_type": "code",
   "execution_count": 42,
   "id": "a5cbdda8-d063-40ad-bf4e-a1c8088013ff",
   "metadata": {},
   "outputs": [
    {
     "name": "stdout",
     "output_type": "stream",
     "text": [
      "Dimensions of the word vectors: 300\n",
      "Shape: (3000000, 300)\n"
     ]
    }
   ],
   "source": [
    "dimensions=google_model.vector_size\n",
    "size=google_model.vectors.shape\n",
    "print(\"Dimensions of the word vectors:\", dimensions)\n",
    "print('Shape:',size)\n"
   ]
  },
  {
   "cell_type": "markdown",
   "id": "221302d0-1c48-4600-86a2-704609b85875",
   "metadata": {},
   "source": [
    "The model was pre-trained on 300 Million words and phrases"
   ]
  },
  {
   "cell_type": "markdown",
   "id": "f55cd8fb-fd0b-47b5-b247-a0f1c52a4ca4",
   "metadata": {},
   "source": [
    "Using the same word as above, show the 20 closest words to it, using\r\n",
    "cosine similarity. Has anything changed? Are these what you expected?\r\n",
    "Why or why not?"
   ]
  },
  {
   "cell_type": "code",
   "execution_count": 56,
   "id": "79a569b7-3db3-411b-b88a-9681a8ea26b8",
   "metadata": {},
   "outputs": [
    {
     "name": "stdout",
     "output_type": "stream",
     "text": [
      "{'that', 'one', 'onthe', 'another', 'only', 'which', 'entire', 'it', 'in', 'inthe', 'fromthe', 'tothe', 'on', 'ofthe', 'however', 'The'}\n",
      "{'each', 'washington', 'them', 'such', 'her', 'dallas', 'a', 'some', 'any', 'his', 'those', 'houston', 'san', 'an', 'these', 'all'}\n"
     ]
    }
   ],
   "source": [
    "top20_new=set([inner_list[0] for inner_list in google_model.most_similar('the',topn=20)])\n",
    "top20_old=set([inner_list[0] for inner_list in value[:20]])\n",
    "print(top20_new-top20_old)\n",
    "print(top20_old-top20_new)\n"
   ]
  },
  {
   "cell_type": "markdown",
   "id": "f0219661-62ae-4591-9c75-361ef2e4abf3",
   "metadata": {},
   "source": [
    "1. As there are more words in the Google repository, we can observe that in its top 20 there are no proper nouns such as washington.\n",
    "2. In the google rep we can observe that the top 20 words are semantically closer than the one we created.\n",
    "3. Yes the observation and the difference is what I would expect given the difference in size of the corpus."
   ]
  },
  {
   "cell_type": "markdown",
   "id": "00ba7aff-d266-435a-b8de-abf1cfbc38ff",
   "metadata": {},
   "source": [
    "Which of the two embeddings seem best to you, based on what you have\r\n",
    "observed?"
   ]
  },
  {
   "cell_type": "markdown",
   "id": "5856dddc-5c1b-4da8-b49b-4ac672d1fd14",
   "metadata": {},
   "source": [
    "The google embendings are better in my opinion as it is capuring better context given its size"
   ]
  },
  {
   "cell_type": "markdown",
   "id": "e6982877-b235-4c8e-b104-873ff0dda5ef",
   "metadata": {},
   "source": [
    "### Part 3A"
   ]
  },
  {
   "cell_type": "code",
   "execution_count": 69,
   "id": "ce425653-2a20-409b-abab-73fbd359a112",
   "metadata": {},
   "outputs": [],
   "source": [
    "with open('analogies.txt', 'r') as file:\n",
    "    raw_text2 = file.read()\n",
    "\n",
    "section=raw_text2.split(': ')\n",
    "new_dict={}\n",
    "for i in section:\n",
    "    if len(section)>0:\n",
    "        \n",
    "        temp=i.split('\\n')\n",
    "        new_dict[temp[0]]=temp[1:]\n",
    "del new_dict['']\n",
    "\n",
    "analogy_dict={}\n",
    "for key,value in new_dict.items():\n",
    "    temp2=[]\n",
    "    for i in value:\n",
    "        #print(i.split())\n",
    "        temp=i.split()\n",
    "        if len(temp)>0:\n",
    "            temp2.append(temp)\n",
    "    #print(temp2)\n",
    "    analogy_dict[key]=temp2\n"
   ]
  },
  {
   "cell_type": "code",
   "execution_count": 71,
   "id": "f18fdb56-b350-4d2e-82b2-768638056fb4",
   "metadata": {},
   "outputs": [],
   "source": [
    "def analogy1(t1,t2,t3):\n",
    "    new_vec=google_model[t2]-google_model[t1]+google_model[t3]\n",
    "    return google_model.similar_by_vector(new_vec,topn=1)"
   ]
  },
  {
   "cell_type": "code",
   "execution_count": 72,
   "id": "bd988078-4077-43b6-8666-06e6032c1620",
   "metadata": {},
   "outputs": [
    {
     "data": {
      "text/plain": [
       "[('Baghdad', 0.8139322996139526)]"
      ]
     },
     "execution_count": 72,
     "metadata": {},
     "output_type": "execute_result"
    }
   ],
   "source": [
    "analogy1('Greece','Athens','Baghdad')"
   ]
  },
  {
   "cell_type": "code",
   "execution_count": 73,
   "id": "ff2900f9-0e70-4210-ab1d-86d04116dd4e",
   "metadata": {},
   "outputs": [],
   "source": [
    "def analogy1(t1,t2,t3):\n",
    "    new_vec=google_model[t2]-google_model[t1]+google_model[t3]\n",
    "    return google_model.similar_by_vector(new_vec,topn=1)[0][0]"
   ]
  },
  {
   "cell_type": "code",
   "execution_count": 74,
   "id": "5f81b0e7-b001-4c66-9b67-4ea04d337a30",
   "metadata": {},
   "outputs": [
    {
     "data": {
      "text/plain": [
       "'Baghdad'"
      ]
     },
     "execution_count": 74,
     "metadata": {},
     "output_type": "execute_result"
    }
   ],
   "source": [
    "analogy1('Greece','Athens','Baghdad')"
   ]
  },
  {
   "cell_type": "code",
   "execution_count": 75,
   "id": "cbadf7c4-d2cd-4a49-9946-8555d11253d9",
   "metadata": {},
   "outputs": [
    {
     "name": "stderr",
     "output_type": "stream",
     "text": [
      "100%|████████████████████████████████████████████████████████████████████████████████| 506/506 [01:05<00:00,  7.75it/s]\n",
      "100%|██████████████████████████████████████████████████████████████████████████████| 4524/4524 [09:41<00:00,  7.78it/s]\n",
      "100%|████████████████████████████████████████████████████████████████████████████████| 866/866 [01:51<00:00,  7.75it/s]\n",
      "100%|██████████████████████████████████████████████████████████████████████████████| 2467/2467 [05:17<00:00,  7.77it/s]\n",
      "100%|████████████████████████████████████████████████████████████████████████████████| 506/506 [01:04<00:00,  7.83it/s]\n",
      "100%|████████████████████████████████████████████████████████████████████████████████| 992/992 [02:06<00:00,  7.86it/s]\n",
      "100%|████████████████████████████████████████████████████████████████████████████████| 812/812 [01:43<00:00,  7.88it/s]\n",
      "100%|██████████████████████████████████████████████████████████████████████████████| 1332/1332 [02:49<00:00,  7.86it/s]\n",
      "100%|██████████████████████████████████████████████████████████████████████████████| 1122/1122 [02:22<00:00,  7.86it/s]\n",
      "100%|██████████████████████████████████████████████████████████████████████████████| 1056/1056 [02:14<00:00,  7.85it/s]\n",
      "100%|██████████████████████████████████████████████████████████████████████████████| 1599/1599 [03:23<00:00,  7.84it/s]\n",
      "100%|██████████████████████████████████████████████████████████████████████████████| 1560/1560 [03:18<00:00,  7.86it/s]\n",
      "100%|██████████████████████████████████████████████████████████████████████████████| 1332/1332 [02:49<00:00,  7.84it/s]\n",
      "100%|████████████████████████████████████████████████████████████████████████████████| 870/870 [01:50<00:00,  7.85it/s]\n"
     ]
    }
   ],
   "source": [
    "acc={}\n",
    "for key,value in analogy_dict.items():\n",
    "    sum=0\n",
    "    iter=0\n",
    "    for i in tqdm(value):\n",
    "        iter+=1\n",
    "        ans=analogy1(i[0],i[1],i[2])\n",
    "        if ans==i[3]:\n",
    "            sum+=1\n",
    "    acc[key]=sum*100/iter"
   ]
  },
  {
   "cell_type": "markdown",
   "id": "ace1cd99-4086-41d5-8dcd-b46acf542bb2",
   "metadata": {},
   "source": [
    "You will test how well the vector embeddings you are working with do at\n",
    "predicting the correct answer. Report your model’s accuracy by question type. How does the\n",
    "model do? Do you notice patterns in what types of analogies it handles well and what types of\n",
    "analogies it handles poorly?"
   ]
  },
  {
   "cell_type": "markdown",
   "id": "a1e1540b-1c8d-4c5b-bcfc-99117341e408",
   "metadata": {},
   "source": [
    "1. the Model is not that good at predicting Majority of the categories on the Analogy tested excecpt nationality-adjective where it performs par.\n",
    "2. The reason it works well on nationality-adjective is cause the words are almost identical while others the vectors(target and context word) might have different cosines as they signify different things."
   ]
  },
  {
   "cell_type": "code",
   "execution_count": 76,
   "id": "c40fe377-161c-4f63-b026-38d9f94ce0aa",
   "metadata": {},
   "outputs": [
    {
     "data": {
      "text/plain": [
       "{'capital-common-countries': 35.37549407114624,\n",
       " 'capital-world': 20.424403183023873,\n",
       " 'currency': 7.390300230946882,\n",
       " 'city-in-state': 7.90433725172274,\n",
       " 'family': 34.980237154150196,\n",
       " 'gram1-adjective-to-adverb': 1.7137096774193548,\n",
       " 'gram2-opposite': 1.8472906403940887,\n",
       " 'gram3-comparative': 37.612612612612615,\n",
       " 'gram4-superlative': 20.855614973262032,\n",
       " 'gram5-present-participle': 6.0606060606060606,\n",
       " 'gram6-nationality-adjective': 75.73483427141964,\n",
       " 'gram7-past-tense': 10.320512820512821,\n",
       " 'gram8-plural': 5.03003003003003,\n",
       " 'gram9-plural-verbs': 15.632183908045977}"
      ]
     },
     "execution_count": 76,
     "metadata": {},
     "output_type": "execute_result"
    }
   ],
   "source": [
    "acc"
   ]
  },
  {
   "cell_type": "code",
   "execution_count": 94,
   "id": "eacb621f-83cb-4560-9c00-ae66ca6040db",
   "metadata": {},
   "outputs": [
    {
     "data": {
      "text/plain": [
       "([0, 1, 2, 3, 4, 5, 6, 7, 8, 9, 10, 11, 12, 13],\n",
       " [Text(0, 0, 'capital-common-countries'),\n",
       "  Text(1, 0, 'capital-world'),\n",
       "  Text(2, 0, 'currency'),\n",
       "  Text(3, 0, 'city-in-state'),\n",
       "  Text(4, 0, 'family'),\n",
       "  Text(5, 0, 'gram1-adjective-to-adverb'),\n",
       "  Text(6, 0, 'gram2-opposite'),\n",
       "  Text(7, 0, 'gram3-comparative'),\n",
       "  Text(8, 0, 'gram4-superlative'),\n",
       "  Text(9, 0, 'gram5-present-participle'),\n",
       "  Text(10, 0, 'gram6-nationality-adjective'),\n",
       "  Text(11, 0, 'gram7-past-tense'),\n",
       "  Text(12, 0, 'gram8-plural'),\n",
       "  Text(13, 0, 'gram9-plural-verbs')])"
      ]
     },
     "execution_count": 94,
     "metadata": {},
     "output_type": "execute_result"
    },
    {
     "data": {
      "image/png": "[encoded data removed]",
      "text/plain": [
       "<Figure size 1000x600 with 1 Axes>"
      ]
     },
     "metadata": {},
     "output_type": "display_data"
    }
   ],
   "source": [
    "keys=list(acc.keys())\n",
    "values=list(acc.values())\n",
    "plt.figure(figsize=(10, 6))\n",
    "plt.bar(keys,values)\n",
    "plt.xticks(rotation=45, ha='right')"
   ]
  },
  {
   "cell_type": "markdown",
   "id": "18d14c87-2ad9-407e-a98c-40175cd8deb4",
   "metadata": {},
   "source": [
    "### Part 3B"
   ]
  },
  {
   "cell_type": "code",
   "execution_count": 97,
   "id": "6bf6a26e-eb6a-4652-84e7-139e33b0e8a2",
   "metadata": {},
   "outputs": [],
   "source": [
    "with open('toefl.txt', 'r') as file:\n",
    "    raw_text3 = file.read()\n",
    "section=raw_text3.split('\\n')\n",
    "tof=[]\n",
    "for i in section:\n",
    "    temp=i.split()\n",
    "    tof.append(temp)\n"
   ]
  },
  {
   "cell_type": "code",
   "execution_count": 98,
   "id": "d52aa95a-953c-4751-bbf1-6aa7cc4f8581",
   "metadata": {},
   "outputs": [],
   "source": [
    "def cosine_similarity(vector1, vector2):\n",
    "    dot_product = np.dot(vector1, vector2)\n",
    "    norm_vector1 = np.linalg.norm(vector1)\n",
    "    norm_vector2 = np.linalg.norm(vector2)\n",
    "    if norm_vector1 != 0 and norm_vector2 != 0:\n",
    "        similarity = dot_product / (norm_vector1 * norm_vector2)\n",
    "    else:\n",
    "        similarity = 0  # Handle division by zero\n",
    "    return similarity"
   ]
  },
  {
   "cell_type": "code",
   "execution_count": 100,
   "id": "29837ea2-e978-4392-a908-9bf092052d6a",
   "metadata": {},
   "outputs": [],
   "source": [
    "def tof_similarity(vec,words):\n",
    "    max=0\n",
    "    temp=''\n",
    "    for i in words:\n",
    "        v=cosine_similarity(google_model[vec],google_model[i])\n",
    "        if v>max:\n",
    "            max=v\n",
    "            temp=i\n",
    "    return temp"
   ]
  },
  {
   "cell_type": "code",
   "execution_count": 103,
   "id": "07acbd38-34aa-4b70-8fcd-c97c153cca8d",
   "metadata": {},
   "outputs": [
    {
     "data": {
      "text/plain": [
       "'tremendously'"
      ]
     },
     "execution_count": 103,
     "metadata": {},
     "output_type": "execute_result"
    }
   ],
   "source": [
    "tof_similarity('enormously',['tremendously','appropriately'])"
   ]
  },
  {
   "cell_type": "markdown",
   "id": "fcd2b1f2-aa31-4e73-9019-2bede018e920",
   "metadata": {},
   "source": [
    "You will write code that outputs the predicted answer for a given question. It will do so by\r\n",
    "calculating the cosine similarity between the target word and each of the four choices and\r\n",
    "outputting the word that has the highest cosine similarity"
   ]
  },
  {
   "cell_type": "code",
   "execution_count": 112,
   "id": "fae7e551-34e1-4c03-a4a5-4c74cafc99b8",
   "metadata": {},
   "outputs": [
    {
     "name": "stdout",
     "output_type": "stream",
     "text": [
      "Value: enormously Expected: tremendously Returned: tremendously\n",
      "Value: provision Expected: stipulation Returned: stipulation\n",
      "Value: haphazardly Expected: randomly Returned: randomly\n",
      "Value: prominent Expected: conspicuous Returned: conspicuous\n",
      "Value: zenith Expected: pinnacle Returned: pinnacle\n",
      "Value: flaw Expected: imperfect Returned: imperfect\n",
      "Value: urgently Expected: desperately Returned: desperately\n",
      "Value: consume Expected: eat Returned: eat\n",
      "Value: advent Expected: come Returned: stability\n",
      "Value: concisely Expected: succinctly Returned: succinctly\n",
      "Value: salute Expected: greet Returned: ceremony\n",
      "Value: solitary Expected: alone Returned: restless\n",
      "Value: hasten Expected: accelerate Returned: accelerate\n",
      "Value: perseverance Expected: endurance Returned: generosity\n",
      "Value: fanciful Expected: imaginative Returned: imaginative\n",
      "Value: show Expected: demonstrate Returned: demonstrate\n",
      "Value: constantly Expected: continually Returned: continually\n",
      "Value: issue Expected: subject Returned: subject\n",
      "Value: furnish Expected: supply Returned: impress\n",
      "Value: costly Expected: expensive Returned: expensive\n",
      "Value: recognize Expected: acknowledge Returned: acknowledge\n",
      "Value: spot Expected: location Returned: location\n",
      "Value: make Expected: earn Returned: earn\n",
      "Value: often Expected: frequently Returned: frequently\n",
      "Value: easygoing Expected: relax Returned: relax\n",
      "Value: debate Expected: argument Returned: argument\n",
      "Value: narrow Expected: thin Returned: thin\n",
      "Value: arrange Expected: plan Returned: explain\n",
      "Value: infinite Expected: limitless Returned: limitless\n",
      "Value: showy Expected: strike Returned: prickly\n",
      "Value: levy Expected: impose Returned: impose\n",
      "Value: deftly Expected: skillfully Returned: skillfully\n",
      "Value: distribute Expected: circulate Returned: commercialize\n",
      "Value: discrepancy Expected: difference Returned: difference\n",
      "Value: prolific Expected: productive Returned: productive\n",
      "Value: unmatched Expected: unequaled Returned: unequaled\n",
      "Value: peculiarly Expected: uniquely Returned: uniquely\n",
      "Value: hue Expected: color Returned: color\n",
      "Value: hind Expected: rear Returned: rear\n",
      "Value: highlight Expected: accentuate Returned: accentuate\n",
      "Value: hastily Expected: hurriedly Returned: hurriedly\n",
      "Value: temperate Expected: mild Returned: mild\n",
      "Value: grin Expected: smile Returned: smile\n",
      "Value: verbally Expected: orally Returned: orally\n",
      "Value: physician Expected: doctor Returned: doctor\n",
      "Value: essentially Expected: basically Returned: basically\n",
      "Value: keen Expected: sharp Returned: useful\n",
      "Value: situate Expected: position Returned: isolate\n",
      "Value: principal Expected: major Returned: major\n",
      "Value: slowly Expected: gradually Returned: gradually\n",
      "Value: build Expected: construct Returned: construct\n",
      "Value: task Expected: job Returned: job\n",
      "Value: unlikely Expected: improbable Returned: improbable\n",
      "Value: halfheartedly Expected: apathetically Returned: apathetically\n",
      "Value: annals Expected: chronicle Returned: chronicle\n",
      "Value: wildly Expected: furiously Returned: furiously\n",
      "Value: hail Expected: acclaim Returned: remember\n",
      "Value: command Expected: mastery Returned: mastery\n",
      "Value: concoct Expected: devise Returned: devise\n",
      "Value: prospective Expected: potential Returned: potential\n",
      "Value: generally Expected: broadly Returned: broadly\n",
      "Value: sustain Expected: prolong Returned: prolong\n",
      "Value: perilous Expected: dangerous Returned: dangerous\n",
      "Value: dissipate Expected: disperse Returned: disperse\n",
      "Value: primarily Expected: chiefly Returned: chiefly\n",
      "Value: colloquial Expected: conversational Returned: conversational\n",
      "Value: resolve Expected: settle Returned: settle\n",
      "Value: feasible Expected: possible Returned: possible\n",
      "Value: expeditiously Expected: rapidly Returned: rapidly\n",
      "Value: percentage Expected: proportion Returned: proportion\n",
      "Value: terminate Expected: end Returned: postpone\n",
      "Value: uniform Expected: alike Returned: alike\n",
      "Value: figure Expected: solve Returned: solve\n",
      "Value: sufficient Expected: enough Returned: enough\n",
      "Value: fashion Expected: manner Returned: manner\n",
      "Value: market Expected: sell Returned: sell\n",
      "Value: big Expected: large Returned: large\n",
      "Value: root Expected: origin Returned: cure\n",
      "Value: normally Expected: ordinarily Returned: ordinarily\n"
     ]
    }
   ],
   "source": [
    "cnt=0\n",
    "iter=0\n",
    "for i in tof:\n",
    "    iter+=1\n",
    "    if i[0]=='tranquillity':\n",
    "        continue\n",
    "    k=tof_similarity(i[0],i[1:])\n",
    "    print('Value:',i[0],'Expected:',i[1],'Returned:',k)\n",
    "    if k==i[1]:\n",
    "        cnt+=1\n",
    "    "
   ]
  },
  {
   "cell_type": "markdown",
   "id": "d58c3aea-8f54-4001-80e5-5d3d1d164104",
   "metadata": {},
   "source": [
    "Report your overall accuracy. How does this compare to\n",
    "chance performance (i.e., the performance you’d expect if the model just chose an answer at\n",
    "random)? Are you impressed with the performance? Do you notice any patterns in what types of\n",
    "questions your model answers correctly or not? (It’s okay if you do not, but say so)."
   ]
  },
  {
   "cell_type": "code",
   "execution_count": 115,
   "id": "8522a63e-e0ce-4a0b-92c2-231430f17535",
   "metadata": {},
   "outputs": [
    {
     "name": "stdout",
     "output_type": "stream",
     "text": [
      "Accuracy is: 82.5\n"
     ]
    }
   ],
   "source": [
    "print('Accuracy is:',cnt*100/iter)"
   ]
  },
  {
   "cell_type": "markdown",
   "id": "fb5b4d90-2163-4842-8b86-81bc187acf55",
   "metadata": {},
   "source": [
    "1. The Overall accuracy is 82.5, would be ~84% but as tranquillity does not exist in the courpus that the model was built on.\n",
    "2. The Chance performce would be around 25% for each row as the result of one row is independant of the other.\n",
    "3. The performance is preety good as the model is able to answer a standardized Language examination with 82.5% accuracy without being specifically trained to serve this purpose.\n",
    "4. The reasoning behind this is as synonyms are logically supposed to have colse vectors as they would be used in a similar context.\n",
    "5. The model answers questions where the target and expected context words are used synonymsly in general daya to day.\n",
    "6. The model answers questions incorrectly where the target varai"
   ]
  },
  {
   "cell_type": "markdown",
   "id": "f188481c-f3cd-4064-b537-b7ae4ae08fab",
   "metadata": {},
   "source": [
    "I spent over 20 hours on this assignment, the main reason being allocation of Ram to run the codes, due to high utilization of RAM earlier 8GB the code use to crash often and I had to restart from the begining. Only after I upgraded my RAM to 16 that I was able to successfully continue working on the code."
   ]
  }
 ],
 "metadata": {
  "kernelspec": {
   "display_name": "Python 3 (ipykernel)",
   "language": "python",
   "name": "python3"
  },
  "language_info": {
   "codemirror_mode": {
    "name": "ipython",
    "version": 3
   },
   "file_extension": ".py",
   "mimetype": "text/x-python",
   "name": "python",
   "nbconvert_exporter": "python",
   "pygments_lexer": "ipython3",
   "version": "3.10.13"
  }
 },
 "nbformat": 4,
 "nbformat_minor": 5
}
