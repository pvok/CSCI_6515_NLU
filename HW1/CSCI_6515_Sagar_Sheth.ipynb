{
 "cells": [
  {
   "cell_type": "code",
   "execution_count": 1,
   "id": "03e50cc3-9cf6-4b36-ab53-0492eaf6a815",
   "metadata": {},
   "outputs": [],
   "source": [
    "import os\n",
    "#import spacy\n",
    "import numpy as np\n",
    "import pandas as pd\n",
    "from math import log\n",
    "import string\n",
    "import matplotlib.pyplot as plt\n",
    "import matplotlib.ticker as ticker\n",
    "from sklearn.feature_extraction.text import CountVectorizer\n",
    "from sklearn.model_selection import train_test_split\n",
    "from sklearn.naive_bayes import MultinomialNB\n",
    "from sklearn.metrics import accuracy_score, classification_report\n",
    "from sklearn.linear_model import LogisticRegression\n",
    "import nltk\n",
    "from nltk.corpus import stopwords\n",
    "from nltk.stem import PorterStemmer\n",
    "from nltk.tokenize import word_tokenize\n",
    "from nltk.stem import WordNetLemmatizer\n",
    "from sklearn.feature_extraction.text import TfidfVectorizer"
   ]
  },
  {
   "cell_type": "code",
   "execution_count": 2,
   "id": "43d7427c-f913-4ffa-8f53-8d0df762649e",
   "metadata": {},
   "outputs": [
    {
     "data": {
      "text/html": [
       "<div>\n",
       "<style scoped>\n",
       "    .dataframe tbody tr th:only-of-type {\n",
       "        vertical-align: middle;\n",
       "    }\n",
       "\n",
       "    .dataframe tbody tr th {\n",
       "        vertical-align: top;\n",
       "    }\n",
       "\n",
       "    .dataframe thead th {\n",
       "        text-align: right;\n",
       "    }\n",
       "</style>\n",
       "<table border=\"1\" class=\"dataframe\">\n",
       "  <thead>\n",
       "    <tr style=\"text-align: right;\">\n",
       "      <th></th>\n",
       "      <th>textID</th>\n",
       "      <th>text</th>\n",
       "      <th>sentiment</th>\n",
       "    </tr>\n",
       "  </thead>\n",
       "  <tbody>\n",
       "    <tr>\n",
       "      <th>0</th>\n",
       "      <td>cb774db0d1</td>\n",
       "      <td>I`d have responded, if I were going</td>\n",
       "      <td>neutral</td>\n",
       "    </tr>\n",
       "    <tr>\n",
       "      <th>1</th>\n",
       "      <td>549e992a42</td>\n",
       "      <td>Sooo SAD I will miss you here in San Diego!!!</td>\n",
       "      <td>negative</td>\n",
       "    </tr>\n",
       "    <tr>\n",
       "      <th>2</th>\n",
       "      <td>088c60f138</td>\n",
       "      <td>my boss is bullying me...</td>\n",
       "      <td>negative</td>\n",
       "    </tr>\n",
       "    <tr>\n",
       "      <th>3</th>\n",
       "      <td>9642c003ef</td>\n",
       "      <td>what interview! leave me alone</td>\n",
       "      <td>negative</td>\n",
       "    </tr>\n",
       "    <tr>\n",
       "      <th>4</th>\n",
       "      <td>358bd9e861</td>\n",
       "      <td>Sons of ****, why couldn`t they put them on t...</td>\n",
       "      <td>negative</td>\n",
       "    </tr>\n",
       "    <tr>\n",
       "      <th>...</th>\n",
       "      <td>...</td>\n",
       "      <td>...</td>\n",
       "      <td>...</td>\n",
       "    </tr>\n",
       "    <tr>\n",
       "      <th>4995</th>\n",
       "      <td>7dfa892961</td>\n",
       "      <td>look like i can only quick post from the dash...</td>\n",
       "      <td>neutral</td>\n",
       "    </tr>\n",
       "    <tr>\n",
       "      <th>4996</th>\n",
       "      <td>b60b7e3175</td>\n",
       "      <td>Thanks Elaine. I`m clipping reviews for her s...</td>\n",
       "      <td>positive</td>\n",
       "    </tr>\n",
       "    <tr>\n",
       "      <th>4997</th>\n",
       "      <td>efb00d5c4d</td>\n",
       "      <td>K now that, that fiasco is all wrapped and goo...</td>\n",
       "      <td>positive</td>\n",
       "    </tr>\n",
       "    <tr>\n",
       "      <th>4998</th>\n",
       "      <td>65473dec6e</td>\n",
       "      <td>No. I won`t be back until the 7th</td>\n",
       "      <td>neutral</td>\n",
       "    </tr>\n",
       "    <tr>\n",
       "      <th>4999</th>\n",
       "      <td>375b64de34</td>\n",
       "      <td>Sooo tired and have a headache-all self inflic...</td>\n",
       "      <td>neutral</td>\n",
       "    </tr>\n",
       "  </tbody>\n",
       "</table>\n",
       "<p>5000 rows × 3 columns</p>\n",
       "</div>"
      ],
      "text/plain": [
       "          textID                                               text sentiment\n",
       "0     cb774db0d1                I`d have responded, if I were going   neutral\n",
       "1     549e992a42      Sooo SAD I will miss you here in San Diego!!!  negative\n",
       "2     088c60f138                          my boss is bullying me...  negative\n",
       "3     9642c003ef                     what interview! leave me alone  negative\n",
       "4     358bd9e861   Sons of ****, why couldn`t they put them on t...  negative\n",
       "...          ...                                                ...       ...\n",
       "4995  7dfa892961   look like i can only quick post from the dash...   neutral\n",
       "4996  b60b7e3175   Thanks Elaine. I`m clipping reviews for her s...  positive\n",
       "4997  efb00d5c4d  K now that, that fiasco is all wrapped and goo...  positive\n",
       "4998  65473dec6e                  No. I won`t be back until the 7th   neutral\n",
       "4999  375b64de34  Sooo tired and have a headache-all self inflic...   neutral\n",
       "\n",
       "[5000 rows x 3 columns]"
      ]
     },
     "execution_count": 2,
     "metadata": {},
     "output_type": "execute_result"
    }
   ],
   "source": [
    "data= pd.read_csv(\"Tweets_5K.csv\")\n",
    "data"
   ]
  },
  {
   "cell_type": "code",
   "execution_count": 3,
   "id": "8f32e662-54a7-4e3e-b23d-6a44cf0d2e5b",
   "metadata": {},
   "outputs": [
    {
     "name": "stdout",
     "output_type": "stream",
     "text": [
      "Column Names:\n"
     ]
    },
    {
     "data": {
      "text/plain": [
       "textID       object\n",
       "text         object\n",
       "sentiment    object\n",
       "dtype: object"
      ]
     },
     "execution_count": 3,
     "metadata": {},
     "output_type": "execute_result"
    }
   ],
   "source": [
    "print('Column Names:')\n",
    "data.dtypes"
   ]
  },
  {
   "cell_type": "code",
   "execution_count": 4,
   "id": "f08f7b87-bd68-4a8d-8e11-3d509b59965a",
   "metadata": {},
   "outputs": [
    {
     "data": {
      "text/plain": [
       "Text(0, 0.5, 'Value')"
      ]
     },
     "execution_count": 4,
     "metadata": {},
     "output_type": "execute_result"
    },
    {
     "data": {
      "image/png": "[encoded data removed]",
      "text/plain": [
       "<Figure size 640x480 with 1 Axes>"
      ]
     },
     "metadata": {},
     "output_type": "display_data"
    }
   ],
   "source": [
    "plt.hist(data['sentiment'])\n",
    "plt.title('Sentiment')\n",
    "plt.ylabel('Value')"
   ]
  },
  {
   "cell_type": "code",
   "execution_count": 5,
   "id": "c8a2aa28-e082-4dc5-a7e4-b2ac2b85a5b8",
   "metadata": {},
   "outputs": [],
   "source": [
    "basic_preproc_tweets=data.copy()\n",
    "basic_preproc_tweets['labels']= basic_preproc_tweets['sentiment'].map({'neutral':0, 'negative':-1, 'positive':1})"
   ]
  },
  {
   "cell_type": "code",
   "execution_count": 6,
   "id": "bd8e15d7-dad6-4114-8284-1271c9d94558",
   "metadata": {},
   "outputs": [],
   "source": [
    "basic_preproc_tweets['token']=basic_preproc_tweets['text'].apply(lambda x: x.split())"
   ]
  },
  {
   "cell_type": "code",
   "execution_count": 7,
   "id": "448170b1-0c0f-4317-96b1-6ace6619e7f0",
   "metadata": {},
   "outputs": [
    {
     "data": {
      "text/html": [
       "<div>\n",
       "<style scoped>\n",
       "    .dataframe tbody tr th:only-of-type {\n",
       "        vertical-align: middle;\n",
       "    }\n",
       "\n",
       "    .dataframe tbody tr th {\n",
       "        vertical-align: top;\n",
       "    }\n",
       "\n",
       "    .dataframe thead th {\n",
       "        text-align: right;\n",
       "    }\n",
       "</style>\n",
       "<table border=\"1\" class=\"dataframe\">\n",
       "  <thead>\n",
       "    <tr style=\"text-align: right;\">\n",
       "      <th></th>\n",
       "      <th>textID</th>\n",
       "      <th>text</th>\n",
       "      <th>sentiment</th>\n",
       "      <th>labels</th>\n",
       "      <th>token</th>\n",
       "    </tr>\n",
       "  </thead>\n",
       "  <tbody>\n",
       "    <tr>\n",
       "      <th>0</th>\n",
       "      <td>cb774db0d1</td>\n",
       "      <td>I`d have responded, if I were going</td>\n",
       "      <td>neutral</td>\n",
       "      <td>0</td>\n",
       "      <td>[I`d, have, responded,, if, I, were, going]</td>\n",
       "    </tr>\n",
       "    <tr>\n",
       "      <th>1</th>\n",
       "      <td>549e992a42</td>\n",
       "      <td>Sooo SAD I will miss you here in San Diego!!!</td>\n",
       "      <td>negative</td>\n",
       "      <td>-1</td>\n",
       "      <td>[Sooo, SAD, I, will, miss, you, here, in, San,...</td>\n",
       "    </tr>\n",
       "    <tr>\n",
       "      <th>2</th>\n",
       "      <td>088c60f138</td>\n",
       "      <td>my boss is bullying me...</td>\n",
       "      <td>negative</td>\n",
       "      <td>-1</td>\n",
       "      <td>[my, boss, is, bullying, me...]</td>\n",
       "    </tr>\n",
       "    <tr>\n",
       "      <th>3</th>\n",
       "      <td>9642c003ef</td>\n",
       "      <td>what interview! leave me alone</td>\n",
       "      <td>negative</td>\n",
       "      <td>-1</td>\n",
       "      <td>[what, interview!, leave, me, alone]</td>\n",
       "    </tr>\n",
       "    <tr>\n",
       "      <th>4</th>\n",
       "      <td>358bd9e861</td>\n",
       "      <td>Sons of ****, why couldn`t they put them on t...</td>\n",
       "      <td>negative</td>\n",
       "      <td>-1</td>\n",
       "      <td>[Sons, of, ****,, why, couldn`t, they, put, th...</td>\n",
       "    </tr>\n",
       "    <tr>\n",
       "      <th>...</th>\n",
       "      <td>...</td>\n",
       "      <td>...</td>\n",
       "      <td>...</td>\n",
       "      <td>...</td>\n",
       "      <td>...</td>\n",
       "    </tr>\n",
       "    <tr>\n",
       "      <th>4995</th>\n",
       "      <td>7dfa892961</td>\n",
       "      <td>look like i can only quick post from the dash...</td>\n",
       "      <td>neutral</td>\n",
       "      <td>0</td>\n",
       "      <td>[look, like, i, can, only, quick, post, from, ...</td>\n",
       "    </tr>\n",
       "    <tr>\n",
       "      <th>4996</th>\n",
       "      <td>b60b7e3175</td>\n",
       "      <td>Thanks Elaine. I`m clipping reviews for her s...</td>\n",
       "      <td>positive</td>\n",
       "      <td>1</td>\n",
       "      <td>[Thanks, Elaine., I`m, clipping, reviews, for,...</td>\n",
       "    </tr>\n",
       "    <tr>\n",
       "      <th>4997</th>\n",
       "      <td>efb00d5c4d</td>\n",
       "      <td>K now that, that fiasco is all wrapped and goo...</td>\n",
       "      <td>positive</td>\n",
       "      <td>1</td>\n",
       "      <td>[K, now, that,, that, fiasco, is, all, wrapped...</td>\n",
       "    </tr>\n",
       "    <tr>\n",
       "      <th>4998</th>\n",
       "      <td>65473dec6e</td>\n",
       "      <td>No. I won`t be back until the 7th</td>\n",
       "      <td>neutral</td>\n",
       "      <td>0</td>\n",
       "      <td>[No., I, won`t, be, back, until, the, 7th]</td>\n",
       "    </tr>\n",
       "    <tr>\n",
       "      <th>4999</th>\n",
       "      <td>375b64de34</td>\n",
       "      <td>Sooo tired and have a headache-all self inflic...</td>\n",
       "      <td>neutral</td>\n",
       "      <td>0</td>\n",
       "      <td>[Sooo, tired, and, have, a, headache-all, self...</td>\n",
       "    </tr>\n",
       "  </tbody>\n",
       "</table>\n",
       "<p>5000 rows × 5 columns</p>\n",
       "</div>"
      ],
      "text/plain": [
       "          textID                                               text sentiment  \\\n",
       "0     cb774db0d1                I`d have responded, if I were going   neutral   \n",
       "1     549e992a42      Sooo SAD I will miss you here in San Diego!!!  negative   \n",
       "2     088c60f138                          my boss is bullying me...  negative   \n",
       "3     9642c003ef                     what interview! leave me alone  negative   \n",
       "4     358bd9e861   Sons of ****, why couldn`t they put them on t...  negative   \n",
       "...          ...                                                ...       ...   \n",
       "4995  7dfa892961   look like i can only quick post from the dash...   neutral   \n",
       "4996  b60b7e3175   Thanks Elaine. I`m clipping reviews for her s...  positive   \n",
       "4997  efb00d5c4d  K now that, that fiasco is all wrapped and goo...  positive   \n",
       "4998  65473dec6e                  No. I won`t be back until the 7th   neutral   \n",
       "4999  375b64de34  Sooo tired and have a headache-all self inflic...   neutral   \n",
       "\n",
       "      labels                                              token  \n",
       "0          0        [I`d, have, responded,, if, I, were, going]  \n",
       "1         -1  [Sooo, SAD, I, will, miss, you, here, in, San,...  \n",
       "2         -1                    [my, boss, is, bullying, me...]  \n",
       "3         -1               [what, interview!, leave, me, alone]  \n",
       "4         -1  [Sons, of, ****,, why, couldn`t, they, put, th...  \n",
       "...      ...                                                ...  \n",
       "4995       0  [look, like, i, can, only, quick, post, from, ...  \n",
       "4996       1  [Thanks, Elaine., I`m, clipping, reviews, for,...  \n",
       "4997       1  [K, now, that,, that, fiasco, is, all, wrapped...  \n",
       "4998       0         [No., I, won`t, be, back, until, the, 7th]  \n",
       "4999       0  [Sooo, tired, and, have, a, headache-all, self...  \n",
       "\n",
       "[5000 rows x 5 columns]"
      ]
     },
     "execution_count": 7,
     "metadata": {},
     "output_type": "execute_result"
    }
   ],
   "source": [
    "basic_preproc_tweets"
   ]
  },
  {
   "cell_type": "code",
   "execution_count": 8,
   "id": "8c392372-428a-4173-96ce-dbb792aff267",
   "metadata": {},
   "outputs": [
    {
     "data": {
      "image/png": "[encoded data removed]",
      "text/plain": [
       "<Figure size 640x480 with 1 Axes>"
      ]
     },
     "metadata": {},
     "output_type": "display_data"
    }
   ],
   "source": [
    "from collections import Counter\n",
    "all_processed_words = [word for words_list in basic_preproc_tweets['token'] for word in words_list]\n",
    "\n",
    "word_frequencies = Counter(all_processed_words)\n",
    "\n",
    "top_n = 20 \n",
    "top_words, top_frequencies = zip(*word_frequencies.most_common(top_n))\n",
    "\n",
    "plt.bar(top_words, top_frequencies)\n",
    "plt.xlabel('Words')\n",
    "plt.ylabel('Frequency')\n",
    "plt.title(f'Top {top_n} Most Common Words')\n",
    "plt.xticks(rotation=90, ha='right')\n",
    "plt.show()"
   ]
  },
  {
   "cell_type": "code",
   "execution_count": 9,
   "id": "12acee60-e6a5-4df2-8704-66e4d426e43b",
   "metadata": {},
   "outputs": [
    {
     "data": {
      "image/png": "[encoded data removed]",
      "text/plain": [
       "<Figure size 1500x300 with 3 Axes>"
      ]
     },
     "metadata": {},
     "output_type": "display_data"
    }
   ],
   "source": [
    "top_words_by_emotion = {}\n",
    "grouped_df = basic_preproc_tweets.groupby('sentiment')\n",
    "for emotion, group in grouped_df:\n",
    "    all_processed_words = [word for words_list in group['token'] for word in words_list]\n",
    "    word_frequencies = Counter(all_processed_words)\n",
    "    top_n = 10\n",
    "    top_words = [word for word, _ in word_frequencies.most_common(top_n)]\n",
    "\n",
    "    top_words_by_emotion[emotion] = top_words\n",
    "\n",
    "num_rows = (len(top_words_by_emotion) + 2) // 3\n",
    "plots_per_row = 3\n",
    "\n",
    "fig, axes = plt.subplots(num_rows, plots_per_row, figsize=(15, 3 * num_rows))\n",
    "fig.tight_layout(pad=3.0)\n",
    "\n",
    "axes = axes.flatten()\n",
    "\n",
    "for i, (emotion, top_words) in enumerate(top_words_by_emotion.items()):\n",
    "    ax = axes[i]\n",
    "    sorted_word_frequencies = sorted(\n",
    "        ((word, word_frequencies[word]) for word in top_words),\n",
    "        key=lambda x: x[1],\n",
    "        reverse=True\n",
    "    )\n",
    "    \n",
    "    sorted_words, sorted_frequencies = zip(*sorted_word_frequencies)\n",
    "    ax.bar(sorted_words, sorted_frequencies)\n",
    "    ax.set_xlabel('Words')\n",
    "    ax.set_ylabel('Frequency')\n",
    "    ax.set_title(f'Top {top_n} Most Common Words for Emotion: {emotion}')\n",
    "\n",
    "for i in range(len(top_words_by_emotion), len(axes)):\n",
    "    fig.delaxes(axes[i])\n",
    "\n",
    "plt.tight_layout()\n",
    "plt.show()"
   ]
  },
  {
   "cell_type": "markdown",
   "id": "eed87341-16e1-4dd3-bb43-51d5e342fc6d",
   "metadata": {},
   "source": [
    "#### Creating Bag of Words"
   ]
  },
  {
   "cell_type": "code",
   "execution_count": 10,
   "id": "f7cc68b2-d104-49db-bdc6-d5e9bacb75b9",
   "metadata": {},
   "outputs": [
    {
     "data": {
      "text/html": [
       "<div>\n",
       "<style scoped>\n",
       "    .dataframe tbody tr th:only-of-type {\n",
       "        vertical-align: middle;\n",
       "    }\n",
       "\n",
       "    .dataframe tbody tr th {\n",
       "        vertical-align: top;\n",
       "    }\n",
       "\n",
       "    .dataframe thead th {\n",
       "        text-align: right;\n",
       "    }\n",
       "</style>\n",
       "<table border=\"1\" class=\"dataframe\">\n",
       "  <thead>\n",
       "    <tr style=\"text-align: right;\">\n",
       "      <th></th>\n",
       "      <th>00</th>\n",
       "      <th>000</th>\n",
       "      <th>01</th>\n",
       "      <th>07</th>\n",
       "      <th>07XOh</th>\n",
       "      <th>07am</th>\n",
       "      <th>08</th>\n",
       "      <th>09</th>\n",
       "      <th>097dfj</th>\n",
       "      <th>0RPM</th>\n",
       "      <th>...</th>\n",
       "      <th>½ndel</th>\n",
       "      <th>½o</th>\n",
       "      <th>½re</th>\n",
       "      <th>½s</th>\n",
       "      <th>½sseldorf</th>\n",
       "      <th>½sst</th>\n",
       "      <th>½t</th>\n",
       "      <th>½ve</th>\n",
       "      <th>½you</th>\n",
       "      <th>½ï</th>\n",
       "    </tr>\n",
       "  </thead>\n",
       "  <tbody>\n",
       "    <tr>\n",
       "      <th>0</th>\n",
       "      <td>0</td>\n",
       "      <td>0</td>\n",
       "      <td>0</td>\n",
       "      <td>0</td>\n",
       "      <td>0</td>\n",
       "      <td>0</td>\n",
       "      <td>0</td>\n",
       "      <td>0</td>\n",
       "      <td>0</td>\n",
       "      <td>0</td>\n",
       "      <td>...</td>\n",
       "      <td>0</td>\n",
       "      <td>0</td>\n",
       "      <td>0</td>\n",
       "      <td>0</td>\n",
       "      <td>0</td>\n",
       "      <td>0</td>\n",
       "      <td>0</td>\n",
       "      <td>0</td>\n",
       "      <td>0</td>\n",
       "      <td>0</td>\n",
       "    </tr>\n",
       "    <tr>\n",
       "      <th>1</th>\n",
       "      <td>0</td>\n",
       "      <td>0</td>\n",
       "      <td>0</td>\n",
       "      <td>0</td>\n",
       "      <td>0</td>\n",
       "      <td>0</td>\n",
       "      <td>0</td>\n",
       "      <td>0</td>\n",
       "      <td>0</td>\n",
       "      <td>0</td>\n",
       "      <td>...</td>\n",
       "      <td>0</td>\n",
       "      <td>0</td>\n",
       "      <td>0</td>\n",
       "      <td>0</td>\n",
       "      <td>0</td>\n",
       "      <td>0</td>\n",
       "      <td>0</td>\n",
       "      <td>0</td>\n",
       "      <td>0</td>\n",
       "      <td>0</td>\n",
       "    </tr>\n",
       "    <tr>\n",
       "      <th>2</th>\n",
       "      <td>0</td>\n",
       "      <td>0</td>\n",
       "      <td>0</td>\n",
       "      <td>0</td>\n",
       "      <td>0</td>\n",
       "      <td>0</td>\n",
       "      <td>0</td>\n",
       "      <td>0</td>\n",
       "      <td>0</td>\n",
       "      <td>0</td>\n",
       "      <td>...</td>\n",
       "      <td>0</td>\n",
       "      <td>0</td>\n",
       "      <td>0</td>\n",
       "      <td>0</td>\n",
       "      <td>0</td>\n",
       "      <td>0</td>\n",
       "      <td>0</td>\n",
       "      <td>0</td>\n",
       "      <td>0</td>\n",
       "      <td>0</td>\n",
       "    </tr>\n",
       "    <tr>\n",
       "      <th>3</th>\n",
       "      <td>0</td>\n",
       "      <td>0</td>\n",
       "      <td>0</td>\n",
       "      <td>0</td>\n",
       "      <td>0</td>\n",
       "      <td>0</td>\n",
       "      <td>0</td>\n",
       "      <td>0</td>\n",
       "      <td>0</td>\n",
       "      <td>0</td>\n",
       "      <td>...</td>\n",
       "      <td>0</td>\n",
       "      <td>0</td>\n",
       "      <td>0</td>\n",
       "      <td>0</td>\n",
       "      <td>0</td>\n",
       "      <td>0</td>\n",
       "      <td>0</td>\n",
       "      <td>0</td>\n",
       "      <td>0</td>\n",
       "      <td>0</td>\n",
       "    </tr>\n",
       "    <tr>\n",
       "      <th>4</th>\n",
       "      <td>0</td>\n",
       "      <td>0</td>\n",
       "      <td>0</td>\n",
       "      <td>0</td>\n",
       "      <td>0</td>\n",
       "      <td>0</td>\n",
       "      <td>0</td>\n",
       "      <td>0</td>\n",
       "      <td>0</td>\n",
       "      <td>0</td>\n",
       "      <td>...</td>\n",
       "      <td>0</td>\n",
       "      <td>0</td>\n",
       "      <td>0</td>\n",
       "      <td>0</td>\n",
       "      <td>0</td>\n",
       "      <td>0</td>\n",
       "      <td>0</td>\n",
       "      <td>0</td>\n",
       "      <td>0</td>\n",
       "      <td>0</td>\n",
       "    </tr>\n",
       "    <tr>\n",
       "      <th>...</th>\n",
       "      <td>...</td>\n",
       "      <td>...</td>\n",
       "      <td>...</td>\n",
       "      <td>...</td>\n",
       "      <td>...</td>\n",
       "      <td>...</td>\n",
       "      <td>...</td>\n",
       "      <td>...</td>\n",
       "      <td>...</td>\n",
       "      <td>...</td>\n",
       "      <td>...</td>\n",
       "      <td>...</td>\n",
       "      <td>...</td>\n",
       "      <td>...</td>\n",
       "      <td>...</td>\n",
       "      <td>...</td>\n",
       "      <td>...</td>\n",
       "      <td>...</td>\n",
       "      <td>...</td>\n",
       "      <td>...</td>\n",
       "      <td>...</td>\n",
       "    </tr>\n",
       "    <tr>\n",
       "      <th>4995</th>\n",
       "      <td>0</td>\n",
       "      <td>0</td>\n",
       "      <td>0</td>\n",
       "      <td>0</td>\n",
       "      <td>0</td>\n",
       "      <td>0</td>\n",
       "      <td>0</td>\n",
       "      <td>0</td>\n",
       "      <td>0</td>\n",
       "      <td>0</td>\n",
       "      <td>...</td>\n",
       "      <td>0</td>\n",
       "      <td>0</td>\n",
       "      <td>0</td>\n",
       "      <td>0</td>\n",
       "      <td>0</td>\n",
       "      <td>0</td>\n",
       "      <td>0</td>\n",
       "      <td>0</td>\n",
       "      <td>0</td>\n",
       "      <td>0</td>\n",
       "    </tr>\n",
       "    <tr>\n",
       "      <th>4996</th>\n",
       "      <td>0</td>\n",
       "      <td>0</td>\n",
       "      <td>0</td>\n",
       "      <td>0</td>\n",
       "      <td>0</td>\n",
       "      <td>0</td>\n",
       "      <td>0</td>\n",
       "      <td>0</td>\n",
       "      <td>0</td>\n",
       "      <td>0</td>\n",
       "      <td>...</td>\n",
       "      <td>0</td>\n",
       "      <td>0</td>\n",
       "      <td>0</td>\n",
       "      <td>0</td>\n",
       "      <td>0</td>\n",
       "      <td>0</td>\n",
       "      <td>0</td>\n",
       "      <td>0</td>\n",
       "      <td>0</td>\n",
       "      <td>0</td>\n",
       "    </tr>\n",
       "    <tr>\n",
       "      <th>4997</th>\n",
       "      <td>0</td>\n",
       "      <td>0</td>\n",
       "      <td>0</td>\n",
       "      <td>0</td>\n",
       "      <td>0</td>\n",
       "      <td>0</td>\n",
       "      <td>0</td>\n",
       "      <td>0</td>\n",
       "      <td>0</td>\n",
       "      <td>0</td>\n",
       "      <td>...</td>\n",
       "      <td>0</td>\n",
       "      <td>0</td>\n",
       "      <td>0</td>\n",
       "      <td>0</td>\n",
       "      <td>0</td>\n",
       "      <td>0</td>\n",
       "      <td>0</td>\n",
       "      <td>0</td>\n",
       "      <td>0</td>\n",
       "      <td>0</td>\n",
       "    </tr>\n",
       "    <tr>\n",
       "      <th>4998</th>\n",
       "      <td>0</td>\n",
       "      <td>0</td>\n",
       "      <td>0</td>\n",
       "      <td>0</td>\n",
       "      <td>0</td>\n",
       "      <td>0</td>\n",
       "      <td>0</td>\n",
       "      <td>0</td>\n",
       "      <td>0</td>\n",
       "      <td>0</td>\n",
       "      <td>...</td>\n",
       "      <td>0</td>\n",
       "      <td>0</td>\n",
       "      <td>0</td>\n",
       "      <td>0</td>\n",
       "      <td>0</td>\n",
       "      <td>0</td>\n",
       "      <td>0</td>\n",
       "      <td>0</td>\n",
       "      <td>0</td>\n",
       "      <td>0</td>\n",
       "    </tr>\n",
       "    <tr>\n",
       "      <th>4999</th>\n",
       "      <td>0</td>\n",
       "      <td>0</td>\n",
       "      <td>0</td>\n",
       "      <td>0</td>\n",
       "      <td>0</td>\n",
       "      <td>0</td>\n",
       "      <td>0</td>\n",
       "      <td>0</td>\n",
       "      <td>0</td>\n",
       "      <td>0</td>\n",
       "      <td>...</td>\n",
       "      <td>0</td>\n",
       "      <td>0</td>\n",
       "      <td>0</td>\n",
       "      <td>0</td>\n",
       "      <td>0</td>\n",
       "      <td>0</td>\n",
       "      <td>0</td>\n",
       "      <td>0</td>\n",
       "      <td>0</td>\n",
       "      <td>0</td>\n",
       "    </tr>\n",
       "  </tbody>\n",
       "</table>\n",
       "<p>5000 rows × 10849 columns</p>\n",
       "</div>"
      ],
      "text/plain": [
       "      00  000  01  07  07XOh  07am  08  09  097dfj  0RPM  ...  ½ndel  ½o  ½re  \\\n",
       "0      0    0   0   0      0     0   0   0       0     0  ...      0   0    0   \n",
       "1      0    0   0   0      0     0   0   0       0     0  ...      0   0    0   \n",
       "2      0    0   0   0      0     0   0   0       0     0  ...      0   0    0   \n",
       "3      0    0   0   0      0     0   0   0       0     0  ...      0   0    0   \n",
       "4      0    0   0   0      0     0   0   0       0     0  ...      0   0    0   \n",
       "...   ..  ...  ..  ..    ...   ...  ..  ..     ...   ...  ...    ...  ..  ...   \n",
       "4995   0    0   0   0      0     0   0   0       0     0  ...      0   0    0   \n",
       "4996   0    0   0   0      0     0   0   0       0     0  ...      0   0    0   \n",
       "4997   0    0   0   0      0     0   0   0       0     0  ...      0   0    0   \n",
       "4998   0    0   0   0      0     0   0   0       0     0  ...      0   0    0   \n",
       "4999   0    0   0   0      0     0   0   0       0     0  ...      0   0    0   \n",
       "\n",
       "      ½s  ½sseldorf  ½sst  ½t  ½ve  ½you  ½ï  \n",
       "0      0          0     0   0    0     0   0  \n",
       "1      0          0     0   0    0     0   0  \n",
       "2      0          0     0   0    0     0   0  \n",
       "3      0          0     0   0    0     0   0  \n",
       "4      0          0     0   0    0     0   0  \n",
       "...   ..        ...   ...  ..  ...   ...  ..  \n",
       "4995   0          0     0   0    0     0   0  \n",
       "4996   0          0     0   0    0     0   0  \n",
       "4997   0          0     0   0    0     0   0  \n",
       "4998   0          0     0   0    0     0   0  \n",
       "4999   0          0     0   0    0     0   0  \n",
       "\n",
       "[5000 rows x 10849 columns]"
      ]
     },
     "execution_count": 10,
     "metadata": {},
     "output_type": "execute_result"
    }
   ],
   "source": [
    "vectorizer = CountVectorizer(lowercase=False)\n",
    "word = vectorizer.fit_transform(basic_preproc_tweets['text'])\n",
    "\n",
    "basic_preproc_tweets_bow = pd.DataFrame(word.toarray(), columns=vectorizer.get_feature_names_out())\n",
    "basic_preproc_tweets_bow"
   ]
  },
  {
   "cell_type": "markdown",
   "id": "1e27af64-4080-4582-baaf-523a6a01f0c6",
   "metadata": {},
   "source": [
    "### Converting the bag of words into a numpy array for modelling"
   ]
  },
  {
   "cell_type": "code",
   "execution_count": 11,
   "id": "5000b425-d88f-43ad-aebc-0292ef2e7732",
   "metadata": {},
   "outputs": [],
   "source": [
    "np.random.seed(100)\n",
    "bow_np = basic_preproc_tweets_bow.to_numpy()\n",
    "x_train, x_test = train_test_split(bow_np, test_size=0.2, shuffle=False)\n",
    "y_train, y_test = train_test_split(basic_preproc_tweets['labels'].to_numpy(), test_size=0.2, shuffle=False)"
   ]
  },
  {
   "cell_type": "code",
   "execution_count": 12,
   "id": "185b80ef-caeb-4c70-84f2-a3c04a4815e0",
   "metadata": {},
   "outputs": [
    {
     "name": "stdout",
     "output_type": "stream",
     "text": [
      "(4000, 10849)\n",
      "(4000,)\n"
     ]
    }
   ],
   "source": [
    "print(x_train.shape)\n",
    "print(y_train.shape)"
   ]
  },
  {
   "cell_type": "markdown",
   "id": "d4aaf0bb-bc81-4c1d-be85-cc3e510e8bcd",
   "metadata": {},
   "source": [
    "### Questions to answer and hand-in (you may need to write additional code and/or print\n",
    "statements to answer these questions):\n",
    "1. What are the dimensions of your feature matrix (X)?\n",
    "2. What is the value of X[1460][1460]?\n",
    "3. What does this value mean? What feature does the 1460th column represent?"
   ]
  },
  {
   "cell_type": "code",
   "execution_count": 13,
   "id": "b3becbe0-b499-419a-8397-a194a33b9f75",
   "metadata": {},
   "outputs": [
    {
     "name": "stdout",
     "output_type": "stream",
     "text": [
      "(5000, 10849)\n",
      "(4000, 10849)\n"
     ]
    }
   ],
   "source": [
    "print(bow_np.shape)\n",
    "print(x_train.shape)"
   ]
  },
  {
   "cell_type": "markdown",
   "id": "64d0e8b5-e1d8-4c13-8a6b-264bc7f08f81",
   "metadata": {},
   "source": [
    "Size of features before splitting is 10849 </br>\n",
    "Size of features after splitting for train is 10849"
   ]
  },
  {
   "cell_type": "code",
   "execution_count": 14,
   "id": "7b750a43-8f30-41c3-a183-7ee86d4eeb21",
   "metadata": {},
   "outputs": [
    {
     "data": {
      "text/plain": [
       "0"
      ]
     },
     "execution_count": 14,
     "metadata": {},
     "output_type": "execute_result"
    }
   ],
   "source": [
    "x_train[1460][1460]"
   ]
  },
  {
   "cell_type": "markdown",
   "id": "9e729261-da3a-4e8f-88ec-f7220a230e85",
   "metadata": {},
   "source": [
    "value of X[1460][1460] is 0"
   ]
  },
  {
   "cell_type": "code",
   "execution_count": 15,
   "id": "d1aca1b2-602d-485e-bda4-e4f4783c4cc2",
   "metadata": {},
   "outputs": [
    {
     "data": {
      "text/plain": [
       "'Gottta'"
      ]
     },
     "execution_count": 15,
     "metadata": {},
     "output_type": "execute_result"
    }
   ],
   "source": [
    "basic_preproc_tweets_bow.columns[1460]"
   ]
  },
  {
   "cell_type": "markdown",
   "id": "440006db-2f87-481e-9e83-e388f730fb1d",
   "metadata": {},
   "source": [
    "#### This Value gives us that the Doument 1461(python numbering starts from 0) the value of word Gottta is 0"
   ]
  },
  {
   "cell_type": "markdown",
   "id": "9dc1d397-8036-4411-b8ca-452b87a869fa",
   "metadata": {},
   "source": [
    "## Part 2: Implementing Naive Bayes"
   ]
  },
  {
   "cell_type": "markdown",
   "id": "f52f9694-3e73-4e57-975d-b4b29655a8e4",
   "metadata": {},
   "source": [
    "### Implement and run Naive Bayes"
   ]
  },
  {
   "cell_type": "code",
   "execution_count": 16,
   "id": "31503cda-aa13-4c09-a8a4-d25366ea53b0",
   "metadata": {},
   "outputs": [],
   "source": [
    "classifier = MultinomialNB()\n",
    "classifier.fit(x_train, y_train)\n",
    "y_pred = classifier.predict(x_train)"
   ]
  },
  {
   "cell_type": "code",
   "execution_count": 17,
   "id": "6f93432c-7413-402b-a09e-6019391205ad",
   "metadata": {},
   "outputs": [
    {
     "name": "stdout",
     "output_type": "stream",
     "text": [
      "Accuracy: 0.9075\n",
      "              precision    recall  f1-score   support\n",
      "\n",
      "          -1       0.94      0.87      0.90      1120\n",
      "           0       0.87      0.93      0.90      1596\n",
      "           1       0.93      0.91      0.92      1284\n",
      "\n",
      "    accuracy                           0.91      4000\n",
      "   macro avg       0.91      0.90      0.91      4000\n",
      "weighted avg       0.91      0.91      0.91      4000\n",
      "\n"
     ]
    }
   ],
   "source": [
    "print(\"Accuracy:\", accuracy_score(y_train, y_pred))\n",
    "print(classification_report(y_train, y_pred))"
   ]
  },
  {
   "cell_type": "markdown",
   "id": "02867f67-38c6-4729-996b-d06cafb5bbcf",
   "metadata": {},
   "source": [
    "### Report the model’s accuracy on the unseen test set. How does this compare to a classifier that always outputs the most frequent category in the training set (what is that classifier’s accuracy)?)?"
   ]
  },
  {
   "cell_type": "code",
   "execution_count": 18,
   "id": "2be5fec2-87b5-4dc1-96ed-ee1b71084879",
   "metadata": {},
   "outputs": [],
   "source": [
    "y_pred_test=classifier.predict(x_test)"
   ]
  },
  {
   "cell_type": "code",
   "execution_count": 19,
   "id": "c1fdc239-f963-43a4-a174-b418e760c564",
   "metadata": {},
   "outputs": [
    {
     "name": "stdout",
     "output_type": "stream",
     "text": [
      "Accuracy: 0.591\n",
      "              precision    recall  f1-score   support\n",
      "\n",
      "          -1       0.57      0.49      0.53       265\n",
      "           0       0.55      0.62      0.58       427\n",
      "           1       0.67      0.64      0.65       308\n",
      "\n",
      "    accuracy                           0.59      1000\n",
      "   macro avg       0.60      0.58      0.59      1000\n",
      "weighted avg       0.59      0.59      0.59      1000\n",
      "\n"
     ]
    }
   ],
   "source": [
    "print(\"Accuracy:\", accuracy_score(y_test, y_pred_test))\n",
    "print(classification_report(y_test, y_pred_test))"
   ]
  },
  {
   "cell_type": "code",
   "execution_count": 20,
   "id": "22e0a03e-87b1-42b6-8382-d3225b8299b9",
   "metadata": {},
   "outputs": [
    {
     "name": "stdout",
     "output_type": "stream",
     "text": [
      "Accuracy: 0.427\n",
      "              precision    recall  f1-score   support\n",
      "\n",
      "          -1       0.00      0.00      0.00       265\n",
      "           0       0.43      1.00      0.60       427\n",
      "           1       0.00      0.00      0.00       308\n",
      "\n",
      "    accuracy                           0.43      1000\n",
      "   macro avg       0.14      0.33      0.20      1000\n",
      "weighted avg       0.18      0.43      0.26      1000\n",
      "\n"
     ]
    },
    {
     "name": "stderr",
     "output_type": "stream",
     "text": [
      "C:\\Users\\sagar\\anaconda3\\envs\\nn_dl\\lib\\site-packages\\sklearn\\metrics\\_classification.py:1497: UndefinedMetricWarning: Precision is ill-defined and being set to 0.0 in labels with no predicted samples. Use `zero_division` parameter to control this behavior.\n",
      "  _warn_prf(average, modifier, f\"{metric.capitalize()} is\", len(result))\n",
      "C:\\Users\\sagar\\anaconda3\\envs\\nn_dl\\lib\\site-packages\\sklearn\\metrics\\_classification.py:1497: UndefinedMetricWarning: Precision is ill-defined and being set to 0.0 in labels with no predicted samples. Use `zero_division` parameter to control this behavior.\n",
      "  _warn_prf(average, modifier, f\"{metric.capitalize()} is\", len(result))\n",
      "C:\\Users\\sagar\\anaconda3\\envs\\nn_dl\\lib\\site-packages\\sklearn\\metrics\\_classification.py:1497: UndefinedMetricWarning: Precision is ill-defined and being set to 0.0 in labels with no predicted samples. Use `zero_division` parameter to control this behavior.\n",
      "  _warn_prf(average, modifier, f\"{metric.capitalize()} is\", len(result))\n"
     ]
    }
   ],
   "source": [
    "most_freq_class=([0]*len(y_test))\n",
    "print(\"Accuracy:\", accuracy_score(y_test, most_freq_class))\n",
    "print(classification_report(y_test, most_freq_class))"
   ]
  },
  {
   "cell_type": "markdown",
   "id": "084aca76-2f03-4c46-b5ae-0cf6d606e8a8",
   "metadata": {},
   "source": [
    "### The Accuracy of the Most freq Classifier is worse than our model, although the model performs poorly on the unseen data compared to the training data. It performs better than the baseline of just classifying everything as Neutral the most frequent class"
   ]
  },
  {
   "cell_type": "markdown",
   "id": "518ee9c6-00c4-4778-ad80-44aebc49fee3",
   "metadata": {},
   "source": [
    "#### 1. Calculate whether the Naive Bayes classifier you trained would classify the following tweet as positive, neutral, or negative: “Happy birthday Annemarie”."
   ]
  },
  {
   "cell_type": "markdown",
   "id": "8869ced2-c55c-4ef4-ab9a-c49bdd39a956",
   "metadata": {},
   "source": [
    "#### Priors"
   ]
  },
  {
   "cell_type": "code",
   "execution_count": 21,
   "id": "c79e3842-f561-408f-add9-fd079c7c5f46",
   "metadata": {},
   "outputs": [
    {
     "name": "stdout",
     "output_type": "stream",
     "text": [
      "1596\n",
      "1120\n",
      "1284\n",
      "0.399\n",
      "0.28\n",
      "0.321\n"
     ]
    }
   ],
   "source": [
    "t_neutral=0\n",
    "t_negative=0\n",
    "t_positive=0\n",
    "for i in y_train:\n",
    "    if i==0:\n",
    "        t_neutral=t_neutral+1\n",
    "    elif i==-1:\n",
    "        t_negative=t_negative+1\n",
    "    else:\n",
    "        t_positive=t_positive+1\n",
    "print(t_neutral)\n",
    "print(t_negative)\n",
    "print(t_positive)\n",
    "pneu=t_neutral/len(x_train)\n",
    "pneg=t_negative/len(x_train)\n",
    "ppos=t_positive/len(x_train)\n",
    "print(pneu)\n",
    "print(pneg)\n",
    "print(ppos)"
   ]
  },
  {
   "cell_type": "code",
   "execution_count": 22,
   "id": "adee8641-253a-4fb6-98af-435503546e22",
   "metadata": {},
   "outputs": [
    {
     "data": {
      "text/plain": [
       "1561"
      ]
     },
     "execution_count": 22,
     "metadata": {},
     "output_type": "execute_result"
    }
   ],
   "source": [
    "basic_preproc_tweets_bow.columns.get_loc('Happy')"
   ]
  },
  {
   "cell_type": "code",
   "execution_count": 23,
   "id": "5402ec77-0d62-472a-9c5b-c5c81652e22b",
   "metadata": {},
   "outputs": [
    {
     "data": {
      "text/plain": [
       "4371"
      ]
     },
     "execution_count": 23,
     "metadata": {},
     "output_type": "execute_result"
    }
   ],
   "source": [
    "basic_preproc_tweets_bow.columns.get_loc('birthday')"
   ]
  },
  {
   "cell_type": "code",
   "execution_count": 24,
   "id": "682cc013-4d9d-4a9a-ae0d-9c7ea55ad2f0",
   "metadata": {},
   "outputs": [],
   "source": [
    "#basic_preproc_tweets_bow.columns.get_loc('Annie')"
   ]
  },
  {
   "cell_type": "markdown",
   "id": "af4710d0-f7dd-435d-8b84-022378aca6f9",
   "metadata": {},
   "source": [
    "$ p(w_i|c) = \\frac{count (w_i,c)+1}{\\sum_{w \\in V}{count(w,c)}+1}$"
   ]
  },
  {
   "cell_type": "code",
   "execution_count": 25,
   "id": "c1144219-4391-4115-9260-e679baa32b62",
   "metadata": {},
   "outputs": [],
   "source": [
    "b_neutral=0\n",
    "b_negative=0\n",
    "b_positive=0\n",
    "for i in range(len(x_train)):\n",
    "    if x_train[i][basic_preproc_tweets_bow.columns.get_loc('birthday')]==1:\n",
    "        if y_train[i]==0:\n",
    "            b_neutral=b_neutral+1\n",
    "        elif y_train[i]==-1:\n",
    "            b_negative=b_negative+1\n",
    "        else:\n",
    "            b_positive=b_positive+1"
   ]
  },
  {
   "cell_type": "code",
   "execution_count": 26,
   "id": "cddcb9c0-1b6d-4d33-b707-bb05b77d8c8d",
   "metadata": {},
   "outputs": [
    {
     "name": "stdout",
     "output_type": "stream",
     "text": [
      "7\n",
      "2\n",
      "11\n",
      "0.005012531328320802\n",
      "0.0026785714285714286\n",
      "0.009345794392523364\n"
     ]
    }
   ],
   "source": [
    "print(b_neutral)\n",
    "print(b_negative)\n",
    "print(b_positive)\n",
    "p_birthday_neu=(b_neutral+1)/t_neutral\n",
    "p_birthday_neg=(b_negative+1)/t_negative\n",
    "p_birthday_pos=(b_positive+1)/t_positive\n",
    "print(p_birthday_neu)\n",
    "print(p_birthday_neg)\n",
    "print(p_birthday_pos)"
   ]
  },
  {
   "cell_type": "code",
   "execution_count": 27,
   "id": "6c543668-1e57-485c-bb13-1e51be2047d1",
   "metadata": {},
   "outputs": [],
   "source": [
    "h_neutral=0\n",
    "h_negative=0\n",
    "h_positive=0\n",
    "for i in range(len(x_train)):\n",
    "    if x_train[i][basic_preproc_tweets_bow.columns.get_loc('Happy')]==1:\n",
    "        if y_train[i]==0:\n",
    "            h_neutral=h_neutral+1\n",
    "        elif y_train[i]==-1:\n",
    "            h_negative=h_negative+1\n",
    "        else:\n",
    "            h_positive=h_positive+1"
   ]
  },
  {
   "cell_type": "code",
   "execution_count": 28,
   "id": "1d5af589-c8cb-4f31-9d25-b1d85397fa76",
   "metadata": {},
   "outputs": [
    {
     "name": "stdout",
     "output_type": "stream",
     "text": [
      "4\n",
      "2\n",
      "59\n",
      "0.003132832080200501\n",
      "0.0026785714285714286\n",
      "0.04672897196261682\n"
     ]
    }
   ],
   "source": [
    "print(h_neutral)\n",
    "print(h_negative)\n",
    "print(h_positive)\n",
    "p_Happy_neu=(h_neutral+1)/t_neutral\n",
    "p_Happy_neg=(h_negative+1)/t_negative\n",
    "p_Happy_pos=(h_positive+1)/t_positive\n",
    "print(p_Happy_neu)\n",
    "print(p_Happy_neg)\n",
    "print(p_Happy_pos)"
   ]
  },
  {
   "cell_type": "markdown",
   "id": "69dc9bf3-1464-4a56-b3a8-4fc9d6d65734",
   "metadata": {},
   "source": [
    "### P(Positive)"
   ]
  },
  {
   "cell_type": "code",
   "execution_count": 29,
   "id": "f7d2b5ca-6328-4b95-8b8d-c819a552b1a8",
   "metadata": {},
   "outputs": [
    {
     "name": "stdout",
     "output_type": "stream",
     "text": [
      "0.00014018691588785044\n"
     ]
    }
   ],
   "source": [
    "PPos=ppos*p_Happy_pos*p_birthday_pos\n",
    "print(PPos)"
   ]
  },
  {
   "cell_type": "markdown",
   "id": "27836b67-17b9-4912-8af6-cb88a808d690",
   "metadata": {},
   "source": [
    "### P(Negative)"
   ]
  },
  {
   "cell_type": "code",
   "execution_count": 30,
   "id": "e1778feb-30f2-430a-8389-f3f91dbeb894",
   "metadata": {},
   "outputs": [
    {
     "name": "stdout",
     "output_type": "stream",
     "text": [
      "2.008928571428572e-06\n"
     ]
    }
   ],
   "source": [
    "PNeg=pneg*p_Happy_neg*p_birthday_neg\n",
    "print(PNeg)"
   ]
  },
  {
   "cell_type": "markdown",
   "id": "a7446fda-60d3-497a-abff-6a26b6db8504",
   "metadata": {},
   "source": [
    "### P(Neutral)"
   ]
  },
  {
   "cell_type": "code",
   "execution_count": 31,
   "id": "cfe890aa-fda4-41d9-9dd0-5d98d04a8713",
   "metadata": {},
   "outputs": [
    {
     "name": "stdout",
     "output_type": "stream",
     "text": [
      "6.265664160401002e-06\n"
     ]
    }
   ],
   "source": [
    "PNeu=pneu*p_Happy_neu*p_birthday_neu\n",
    "print(PNeu)"
   ]
  },
  {
   "cell_type": "markdown",
   "id": "c673b7fc-a34f-41bc-a3f2-e3d4a804b2e8",
   "metadata": {},
   "source": [
    "### The Probability of Positive class is higher and therefore it would be classified as Positive"
   ]
  },
  {
   "cell_type": "markdown",
   "id": "efe2a069-399f-4c32-9ad5-b45cd004bfd5",
   "metadata": {},
   "source": [
    "## Part 3: Implementing Logistic Regression"
   ]
  },
  {
   "cell_type": "code",
   "execution_count": 32,
   "id": "c8874444-71dc-4893-9a37-e041105ef2a7",
   "metadata": {},
   "outputs": [],
   "source": [
    "classifier = LogisticRegression()\n",
    "classifier.fit(x_train, y_train)\n",
    "y_pred = classifier.predict(x_train)"
   ]
  },
  {
   "cell_type": "code",
   "execution_count": 33,
   "id": "af2ce541-06f9-4d11-83d9-d7b8dad10284",
   "metadata": {},
   "outputs": [
    {
     "name": "stdout",
     "output_type": "stream",
     "text": [
      "Accuracy: 0.97775\n",
      "              precision    recall  f1-score   support\n",
      "\n",
      "          -1       0.98      0.97      0.98      1120\n",
      "           0       0.97      0.98      0.98      1596\n",
      "           1       0.99      0.98      0.98      1284\n",
      "\n",
      "    accuracy                           0.98      4000\n",
      "   macro avg       0.98      0.98      0.98      4000\n",
      "weighted avg       0.98      0.98      0.98      4000\n",
      "\n"
     ]
    }
   ],
   "source": [
    "print(\"Accuracy:\", accuracy_score(y_train, y_pred))\n",
    "print(classification_report(y_train, y_pred))"
   ]
  },
  {
   "cell_type": "markdown",
   "id": "13f91d33-a062-4dad-b390-0e7f28d62b66",
   "metadata": {},
   "source": [
    "#### How many parameters did your multiclass logistic regression model learn??"
   ]
  },
  {
   "cell_type": "code",
   "execution_count": 34,
   "id": "57de54e1-6bd9-4621-a816-0ffb7aaab8da",
   "metadata": {},
   "outputs": [
    {
     "data": {
      "text/plain": [
       "(1000, 10849)"
      ]
     },
     "execution_count": 34,
     "metadata": {},
     "output_type": "execute_result"
    }
   ],
   "source": [
    "x_test.shape"
   ]
  },
  {
   "cell_type": "markdown",
   "id": "85cf3936-559b-4e1e-9389-0d16b26d0425",
   "metadata": {},
   "source": [
    "Therefore the no of parameters learnt is No of Classes x (No of Features + inercept) </br>\n",
    "3x(10849+1)"
   ]
  },
  {
   "cell_type": "code",
   "execution_count": 35,
   "id": "5d3b9bf5-446c-436e-b6ef-0d1a9565ce7e",
   "metadata": {},
   "outputs": [
    {
     "data": {
      "text/plain": [
       "32550"
      ]
     },
     "execution_count": 35,
     "metadata": {},
     "output_type": "execute_result"
    }
   ],
   "source": [
    "3*(10849+1)"
   ]
  },
  {
   "cell_type": "markdown",
   "id": "75db2da9-3751-44a6-b393-868e8daecd81",
   "metadata": {},
   "source": [
    "#### Report the model’s accuracy on the unseen test set. How does this compare to a classifier that always outputs the most frequent category in the training set and the Naive Bayes classifier from Part 2?2?"
   ]
  },
  {
   "cell_type": "code",
   "execution_count": 36,
   "id": "63f2132e-0dca-4740-8597-ffd08c1529d8",
   "metadata": {},
   "outputs": [],
   "source": [
    "y_pred_test=classifier.predict(x_test)"
   ]
  },
  {
   "cell_type": "code",
   "execution_count": 37,
   "id": "1f623770-2482-4530-bae0-5cc206658480",
   "metadata": {},
   "outputs": [
    {
     "name": "stdout",
     "output_type": "stream",
     "text": [
      "Accuracy: 0.606\n",
      "              precision    recall  f1-score   support\n",
      "\n",
      "          -1       0.55      0.47      0.51       265\n",
      "           0       0.57      0.67      0.62       427\n",
      "           1       0.71      0.64      0.67       308\n",
      "\n",
      "    accuracy                           0.61      1000\n",
      "   macro avg       0.61      0.59      0.60      1000\n",
      "weighted avg       0.61      0.61      0.60      1000\n",
      "\n"
     ]
    }
   ],
   "source": [
    "print(\"Accuracy:\", accuracy_score(y_test, y_pred_test))\n",
    "print(classification_report(y_test, y_pred_test))"
   ]
  },
  {
   "cell_type": "markdown",
   "id": "869b07b5-be7e-41e3-8039-5ee6dd1c3213",
   "metadata": {},
   "source": [
    "### The Accuracy of the Most freq Classifier is worse than our Logistic regression model, although the model performs poorly on the unseen data compared to the training data. It performs better than the baseline of just classifying everything as Neutral the most frequent class."
   ]
  },
  {
   "cell_type": "markdown",
   "id": "ac351a8d-9e44-49ce-9f6b-7405be137198",
   "metadata": {},
   "source": [
    "### The performce of the Naive Bias v/s Logistic regression is very similar on the unseen data where the Logistic Regression model just mariginally out performs the Naive Bias Model"
   ]
  },
  {
   "cell_type": "markdown",
   "id": "64152ec3-596f-4982-b093-5a07d99fff9e",
   "metadata": {},
   "source": [
    "## Part 4: Implementing more elaborate pre-processing"
   ]
  },
  {
   "cell_type": "markdown",
   "id": "49c33189-2834-4786-a3e4-b1547165aa0d",
   "metadata": {},
   "source": [
    "### Performing Tokenization and Lemmatization along with removal of stop words"
   ]
  },
  {
   "cell_type": "code",
   "execution_count": 38,
   "id": "220576a5-9b72-460f-9902-3745d80eb059",
   "metadata": {},
   "outputs": [],
   "source": [
    "basic_preproc_tweets2=data.copy()\n",
    "basic_preproc_tweets2['labels']= basic_preproc_tweets['sentiment'].map({'neutral':0, 'negative':-1, 'positive':1})"
   ]
  },
  {
   "cell_type": "code",
   "execution_count": 39,
   "id": "a57be833-0696-43d4-94fa-a78e6c688bac",
   "metadata": {},
   "outputs": [
    {
     "name": "stdout",
     "output_type": "stream",
     "text": [
      "                                                   text  \\\n",
      "0                   I`d have responded, if I were going   \n",
      "1         Sooo SAD I will miss you here in San Diego!!!   \n",
      "2                             my boss is bullying me...   \n",
      "3                        what interview! leave me alone   \n",
      "4      Sons of ****, why couldn`t they put them on t...   \n",
      "...                                                 ...   \n",
      "4995   look like i can only quick post from the dash...   \n",
      "4996   Thanks Elaine. I`m clipping reviews for her s...   \n",
      "4997  K now that, that fiasco is all wrapped and goo...   \n",
      "4998                  No. I won`t be back until the 7th   \n",
      "4999  Sooo tired and have a headache-all self inflic...   \n",
      "\n",
      "                                                  token  \n",
      "0                                    [responded, going]  \n",
      "1                         [sooo, sad, miss, san, diego]  \n",
      "2                                       [bos, bullying]  \n",
      "3                             [interview, leave, alone]  \n",
      "4                  [son, put, release, already, bought]  \n",
      "...                                                 ...  \n",
      "4995               [look, like, quick, post, dashboard]  \n",
      "4996      [thanks, elaine, clipping, review, scrapbook]  \n",
      "4997  [k, fiasco, wrapped, good, go, back, studying,...  \n",
      "4998                                        [back, 7th]  \n",
      "4999  [sooo, tired, self, inflicted, course, good, t...  \n",
      "\n",
      "[5000 rows x 2 columns]\n"
     ]
    }
   ],
   "source": [
    "#nltk.download('punkt')\n",
    "#nltk.download('wordnet')\n",
    "#nltk.download('stopwords')\n",
    "\n",
    "stop_words = set(stopwords.words('english'))\n",
    "lemmatizer = WordNetLemmatizer()\n",
    "\n",
    "def tokenize_text(text):\n",
    "    words = word_tokenize(text.lower())\n",
    "    filtered_words = [lemmatizer.lemmatize(word) for word in words if word.isalnum() and word not in stop_words]\n",
    "    \n",
    "    return [lemmatizer.lemmatize(word) for word in words if word.isalnum() and word not in string.punctuation] if not filtered_words else filtered_words\n",
    "\n",
    "basic_preproc_tweets2['token'] = basic_preproc_tweets2['text'].apply(tokenize_text)\n",
    "\n",
    "print(basic_preproc_tweets2[['text', 'token']])"
   ]
  },
  {
   "cell_type": "code",
   "execution_count": 40,
   "id": "e4d8f764-f332-413e-93fd-273395100008",
   "metadata": {},
   "outputs": [
    {
     "data": {
      "image/png": "[encoded data removed]",
      "text/plain": [
       "<Figure size 640x480 with 1 Axes>"
      ]
     },
     "metadata": {},
     "output_type": "display_data"
    }
   ],
   "source": [
    "from collections import Counter\n",
    "all_processed_words = [word for words_list in basic_preproc_tweets2['token'] for word in words_list]\n",
    "\n",
    "word_frequencies = Counter(all_processed_words)\n",
    "\n",
    "top_n = 20 \n",
    "top_words, top_frequencies = zip(*word_frequencies.most_common(top_n))\n",
    "\n",
    "plt.bar(top_words, top_frequencies)\n",
    "plt.xlabel('Words')\n",
    "plt.ylabel('Frequency')\n",
    "plt.title(f'Top {top_n} Most Common Words')\n",
    "plt.xticks(rotation=90, ha='right')\n",
    "plt.show()"
   ]
  },
  {
   "cell_type": "code",
   "execution_count": 41,
   "id": "db90e4d3-759f-4671-9e47-fc1ccc83408d",
   "metadata": {},
   "outputs": [
    {
     "data": {
      "image/png": "[encoded data removed]",
      "text/plain": [
       "<Figure size 1500x300 with 3 Axes>"
      ]
     },
     "metadata": {},
     "output_type": "display_data"
    }
   ],
   "source": [
    "top_words_by_emotion = {}\n",
    "grouped_df = basic_preproc_tweets2.groupby('sentiment')\n",
    "for emotion, group in grouped_df:\n",
    "    all_processed_words = [word for words_list in group['token'] for word in words_list]\n",
    "    word_frequencies = Counter(all_processed_words)\n",
    "    top_n = 10\n",
    "    top_words = [word for word, _ in word_frequencies.most_common(top_n)]\n",
    "\n",
    "    top_words_by_emotion[emotion] = top_words\n",
    "\n",
    "num_rows = (len(top_words_by_emotion) + 2) // 3\n",
    "plots_per_row = 3\n",
    "\n",
    "fig, axes = plt.subplots(num_rows, plots_per_row, figsize=(15, 3 * num_rows))\n",
    "fig.tight_layout(pad=3.0)\n",
    "\n",
    "axes = axes.flatten()\n",
    "\n",
    "for i, (emotion, top_words) in enumerate(top_words_by_emotion.items()):\n",
    "    ax = axes[i]\n",
    "    sorted_word_frequencies = sorted(\n",
    "        ((word, word_frequencies[word]) for word in top_words),\n",
    "        key=lambda x: x[1],\n",
    "        reverse=True\n",
    "    )\n",
    "    \n",
    "    sorted_words, sorted_frequencies = zip(*sorted_word_frequencies)\n",
    "    ax.bar(sorted_words, sorted_frequencies)\n",
    "    ax.set_xlabel('Words')\n",
    "    ax.set_ylabel('Frequency')\n",
    "    ax.set_title(f'Top {top_n} Most Common Words for Emotion: {emotion}')\n",
    "\n",
    "for i in range(len(top_words_by_emotion), len(axes)):\n",
    "    fig.delaxes(axes[i])\n",
    "\n",
    "plt.tight_layout()\n",
    "plt.show()"
   ]
  },
  {
   "cell_type": "markdown",
   "id": "13b07d25-60c2-4078-a629-566b4c2d21cc",
   "metadata": {},
   "source": [
    "#### Creating Bag of words with top 1000 words and one OOV word"
   ]
  },
  {
   "cell_type": "code",
   "execution_count": 42,
   "id": "8f0c4b1d-ec75-4ebc-bbfa-398bd4abfa83",
   "metadata": {},
   "outputs": [],
   "source": [
    "basic_preproc_tweets2['text2']=basic_preproc_tweets2['token'].apply(lambda text: ' '.join(text))"
   ]
  },
  {
   "cell_type": "code",
   "execution_count": 43,
   "id": "d2b871fb-44c9-4772-855a-e79330f1f4f1",
   "metadata": {},
   "outputs": [],
   "source": [
    "vectorizer = CountVectorizer(max_features=1000)\n",
    "word = vectorizer.fit_transform(basic_preproc_tweets2['text2'])"
   ]
  },
  {
   "cell_type": "code",
   "execution_count": 44,
   "id": "7d80727c-c761-479a-82d9-9b08c57efdb5",
   "metadata": {},
   "outputs": [
    {
     "data": {
      "text/html": [
       "<div>\n",
       "<style scoped>\n",
       "    .dataframe tbody tr th:only-of-type {\n",
       "        vertical-align: middle;\n",
       "    }\n",
       "\n",
       "    .dataframe tbody tr th {\n",
       "        vertical-align: top;\n",
       "    }\n",
       "\n",
       "    .dataframe thead th {\n",
       "        text-align: right;\n",
       "    }\n",
       "</style>\n",
       "<table border=\"1\" class=\"dataframe\">\n",
       "  <thead>\n",
       "    <tr style=\"text-align: right;\">\n",
       "      <th></th>\n",
       "      <th>10</th>\n",
       "      <th>12</th>\n",
       "      <th>15</th>\n",
       "      <th>1st</th>\n",
       "      <th>20</th>\n",
       "      <th>24</th>\n",
       "      <th>25</th>\n",
       "      <th>2day</th>\n",
       "      <th>2nite</th>\n",
       "      <th>30</th>\n",
       "      <th>...</th>\n",
       "      <th>yep</th>\n",
       "      <th>yes</th>\n",
       "      <th>yesterday</th>\n",
       "      <th>yet</th>\n",
       "      <th>young</th>\n",
       "      <th>youtube</th>\n",
       "      <th>yr</th>\n",
       "      <th>yum</th>\n",
       "      <th>yummy</th>\n",
       "      <th>OOV</th>\n",
       "    </tr>\n",
       "  </thead>\n",
       "  <tbody>\n",
       "    <tr>\n",
       "      <th>0</th>\n",
       "      <td>0</td>\n",
       "      <td>0</td>\n",
       "      <td>0</td>\n",
       "      <td>0</td>\n",
       "      <td>0</td>\n",
       "      <td>0</td>\n",
       "      <td>0</td>\n",
       "      <td>0</td>\n",
       "      <td>0</td>\n",
       "      <td>0</td>\n",
       "      <td>...</td>\n",
       "      <td>0</td>\n",
       "      <td>0</td>\n",
       "      <td>0</td>\n",
       "      <td>0</td>\n",
       "      <td>0</td>\n",
       "      <td>0</td>\n",
       "      <td>0</td>\n",
       "      <td>0</td>\n",
       "      <td>0</td>\n",
       "      <td>0</td>\n",
       "    </tr>\n",
       "    <tr>\n",
       "      <th>1</th>\n",
       "      <td>0</td>\n",
       "      <td>0</td>\n",
       "      <td>0</td>\n",
       "      <td>0</td>\n",
       "      <td>0</td>\n",
       "      <td>0</td>\n",
       "      <td>0</td>\n",
       "      <td>0</td>\n",
       "      <td>0</td>\n",
       "      <td>0</td>\n",
       "      <td>...</td>\n",
       "      <td>0</td>\n",
       "      <td>0</td>\n",
       "      <td>0</td>\n",
       "      <td>0</td>\n",
       "      <td>0</td>\n",
       "      <td>0</td>\n",
       "      <td>0</td>\n",
       "      <td>0</td>\n",
       "      <td>0</td>\n",
       "      <td>0</td>\n",
       "    </tr>\n",
       "    <tr>\n",
       "      <th>2</th>\n",
       "      <td>0</td>\n",
       "      <td>0</td>\n",
       "      <td>0</td>\n",
       "      <td>0</td>\n",
       "      <td>0</td>\n",
       "      <td>0</td>\n",
       "      <td>0</td>\n",
       "      <td>0</td>\n",
       "      <td>0</td>\n",
       "      <td>0</td>\n",
       "      <td>...</td>\n",
       "      <td>0</td>\n",
       "      <td>0</td>\n",
       "      <td>0</td>\n",
       "      <td>0</td>\n",
       "      <td>0</td>\n",
       "      <td>0</td>\n",
       "      <td>0</td>\n",
       "      <td>0</td>\n",
       "      <td>0</td>\n",
       "      <td>0</td>\n",
       "    </tr>\n",
       "    <tr>\n",
       "      <th>3</th>\n",
       "      <td>0</td>\n",
       "      <td>0</td>\n",
       "      <td>0</td>\n",
       "      <td>0</td>\n",
       "      <td>0</td>\n",
       "      <td>0</td>\n",
       "      <td>0</td>\n",
       "      <td>0</td>\n",
       "      <td>0</td>\n",
       "      <td>0</td>\n",
       "      <td>...</td>\n",
       "      <td>0</td>\n",
       "      <td>0</td>\n",
       "      <td>0</td>\n",
       "      <td>0</td>\n",
       "      <td>0</td>\n",
       "      <td>0</td>\n",
       "      <td>0</td>\n",
       "      <td>0</td>\n",
       "      <td>0</td>\n",
       "      <td>0</td>\n",
       "    </tr>\n",
       "    <tr>\n",
       "      <th>4</th>\n",
       "      <td>0</td>\n",
       "      <td>0</td>\n",
       "      <td>0</td>\n",
       "      <td>0</td>\n",
       "      <td>0</td>\n",
       "      <td>0</td>\n",
       "      <td>0</td>\n",
       "      <td>0</td>\n",
       "      <td>0</td>\n",
       "      <td>0</td>\n",
       "      <td>...</td>\n",
       "      <td>0</td>\n",
       "      <td>0</td>\n",
       "      <td>0</td>\n",
       "      <td>0</td>\n",
       "      <td>0</td>\n",
       "      <td>0</td>\n",
       "      <td>0</td>\n",
       "      <td>0</td>\n",
       "      <td>0</td>\n",
       "      <td>0</td>\n",
       "    </tr>\n",
       "    <tr>\n",
       "      <th>...</th>\n",
       "      <td>...</td>\n",
       "      <td>...</td>\n",
       "      <td>...</td>\n",
       "      <td>...</td>\n",
       "      <td>...</td>\n",
       "      <td>...</td>\n",
       "      <td>...</td>\n",
       "      <td>...</td>\n",
       "      <td>...</td>\n",
       "      <td>...</td>\n",
       "      <td>...</td>\n",
       "      <td>...</td>\n",
       "      <td>...</td>\n",
       "      <td>...</td>\n",
       "      <td>...</td>\n",
       "      <td>...</td>\n",
       "      <td>...</td>\n",
       "      <td>...</td>\n",
       "      <td>...</td>\n",
       "      <td>...</td>\n",
       "      <td>...</td>\n",
       "    </tr>\n",
       "    <tr>\n",
       "      <th>4995</th>\n",
       "      <td>0</td>\n",
       "      <td>0</td>\n",
       "      <td>0</td>\n",
       "      <td>0</td>\n",
       "      <td>0</td>\n",
       "      <td>0</td>\n",
       "      <td>0</td>\n",
       "      <td>0</td>\n",
       "      <td>0</td>\n",
       "      <td>0</td>\n",
       "      <td>...</td>\n",
       "      <td>0</td>\n",
       "      <td>0</td>\n",
       "      <td>0</td>\n",
       "      <td>0</td>\n",
       "      <td>0</td>\n",
       "      <td>0</td>\n",
       "      <td>0</td>\n",
       "      <td>0</td>\n",
       "      <td>0</td>\n",
       "      <td>0</td>\n",
       "    </tr>\n",
       "    <tr>\n",
       "      <th>4996</th>\n",
       "      <td>0</td>\n",
       "      <td>0</td>\n",
       "      <td>0</td>\n",
       "      <td>0</td>\n",
       "      <td>0</td>\n",
       "      <td>0</td>\n",
       "      <td>0</td>\n",
       "      <td>0</td>\n",
       "      <td>0</td>\n",
       "      <td>0</td>\n",
       "      <td>...</td>\n",
       "      <td>0</td>\n",
       "      <td>0</td>\n",
       "      <td>0</td>\n",
       "      <td>0</td>\n",
       "      <td>0</td>\n",
       "      <td>0</td>\n",
       "      <td>0</td>\n",
       "      <td>0</td>\n",
       "      <td>0</td>\n",
       "      <td>0</td>\n",
       "    </tr>\n",
       "    <tr>\n",
       "      <th>4997</th>\n",
       "      <td>0</td>\n",
       "      <td>0</td>\n",
       "      <td>0</td>\n",
       "      <td>0</td>\n",
       "      <td>0</td>\n",
       "      <td>0</td>\n",
       "      <td>0</td>\n",
       "      <td>0</td>\n",
       "      <td>0</td>\n",
       "      <td>0</td>\n",
       "      <td>...</td>\n",
       "      <td>0</td>\n",
       "      <td>0</td>\n",
       "      <td>0</td>\n",
       "      <td>0</td>\n",
       "      <td>0</td>\n",
       "      <td>0</td>\n",
       "      <td>0</td>\n",
       "      <td>0</td>\n",
       "      <td>0</td>\n",
       "      <td>0</td>\n",
       "    </tr>\n",
       "    <tr>\n",
       "      <th>4998</th>\n",
       "      <td>0</td>\n",
       "      <td>0</td>\n",
       "      <td>0</td>\n",
       "      <td>0</td>\n",
       "      <td>0</td>\n",
       "      <td>0</td>\n",
       "      <td>0</td>\n",
       "      <td>0</td>\n",
       "      <td>0</td>\n",
       "      <td>0</td>\n",
       "      <td>...</td>\n",
       "      <td>0</td>\n",
       "      <td>0</td>\n",
       "      <td>0</td>\n",
       "      <td>0</td>\n",
       "      <td>0</td>\n",
       "      <td>0</td>\n",
       "      <td>0</td>\n",
       "      <td>0</td>\n",
       "      <td>0</td>\n",
       "      <td>0</td>\n",
       "    </tr>\n",
       "    <tr>\n",
       "      <th>4999</th>\n",
       "      <td>0</td>\n",
       "      <td>0</td>\n",
       "      <td>0</td>\n",
       "      <td>0</td>\n",
       "      <td>0</td>\n",
       "      <td>0</td>\n",
       "      <td>0</td>\n",
       "      <td>0</td>\n",
       "      <td>0</td>\n",
       "      <td>0</td>\n",
       "      <td>...</td>\n",
       "      <td>0</td>\n",
       "      <td>0</td>\n",
       "      <td>0</td>\n",
       "      <td>0</td>\n",
       "      <td>0</td>\n",
       "      <td>0</td>\n",
       "      <td>0</td>\n",
       "      <td>0</td>\n",
       "      <td>0</td>\n",
       "      <td>0</td>\n",
       "    </tr>\n",
       "  </tbody>\n",
       "</table>\n",
       "<p>5000 rows × 1001 columns</p>\n",
       "</div>"
      ],
      "text/plain": [
       "      10  12  15  1st  20  24  25  2day  2nite  30  ...  yep  yes  yesterday  \\\n",
       "0      0   0   0    0   0   0   0     0      0   0  ...    0    0          0   \n",
       "1      0   0   0    0   0   0   0     0      0   0  ...    0    0          0   \n",
       "2      0   0   0    0   0   0   0     0      0   0  ...    0    0          0   \n",
       "3      0   0   0    0   0   0   0     0      0   0  ...    0    0          0   \n",
       "4      0   0   0    0   0   0   0     0      0   0  ...    0    0          0   \n",
       "...   ..  ..  ..  ...  ..  ..  ..   ...    ...  ..  ...  ...  ...        ...   \n",
       "4995   0   0   0    0   0   0   0     0      0   0  ...    0    0          0   \n",
       "4996   0   0   0    0   0   0   0     0      0   0  ...    0    0          0   \n",
       "4997   0   0   0    0   0   0   0     0      0   0  ...    0    0          0   \n",
       "4998   0   0   0    0   0   0   0     0      0   0  ...    0    0          0   \n",
       "4999   0   0   0    0   0   0   0     0      0   0  ...    0    0          0   \n",
       "\n",
       "      yet  young  youtube  yr  yum  yummy  OOV  \n",
       "0       0      0        0   0    0      0    0  \n",
       "1       0      0        0   0    0      0    0  \n",
       "2       0      0        0   0    0      0    0  \n",
       "3       0      0        0   0    0      0    0  \n",
       "4       0      0        0   0    0      0    0  \n",
       "...   ...    ...      ...  ..  ...    ...  ...  \n",
       "4995    0      0        0   0    0      0    0  \n",
       "4996    0      0        0   0    0      0    0  \n",
       "4997    0      0        0   0    0      0    0  \n",
       "4998    0      0        0   0    0      0    0  \n",
       "4999    0      0        0   0    0      0    0  \n",
       "\n",
       "[5000 rows x 1001 columns]"
      ]
     },
     "execution_count": 44,
     "metadata": {},
     "output_type": "execute_result"
    }
   ],
   "source": [
    "basic_preproc_tweets_bow2 = pd.DataFrame(word.toarray(), columns=vectorizer.get_feature_names_out())\n",
    "basic_preproc_tweets_bow2['OOV']=0\n",
    "basic_preproc_tweets_bow2"
   ]
  },
  {
   "cell_type": "code",
   "execution_count": 45,
   "id": "41225fe5-f93b-4a63-8efa-c6bb4fc18fbb",
   "metadata": {},
   "outputs": [],
   "source": [
    "bow_np = basic_preproc_tweets_bow2.to_numpy()\n",
    "x_train, x_test = train_test_split(bow_np, test_size=0.2, shuffle=False)\n",
    "y_train, y_test = train_test_split(basic_preproc_tweets2['labels'].to_numpy(), test_size=0.2, shuffle=False)"
   ]
  },
  {
   "cell_type": "markdown",
   "id": "3b228ad0-a2f9-481d-9165-6d0dabc71c54",
   "metadata": {},
   "source": [
    "#### Implementing Naive Bias"
   ]
  },
  {
   "cell_type": "code",
   "execution_count": 46,
   "id": "5a419845-8e3e-4b47-9b68-9681088bcf61",
   "metadata": {},
   "outputs": [
    {
     "name": "stdout",
     "output_type": "stream",
     "text": [
      "Accuracy: 0.73675\n",
      "              precision    recall  f1-score   support\n",
      "\n",
      "          -1       0.76      0.68      0.72      1120\n",
      "           0       0.70      0.77      0.73      1596\n",
      "           1       0.77      0.75      0.76      1284\n",
      "\n",
      "    accuracy                           0.74      4000\n",
      "   macro avg       0.74      0.73      0.74      4000\n",
      "weighted avg       0.74      0.74      0.74      4000\n",
      "\n"
     ]
    }
   ],
   "source": [
    "classifier = MultinomialNB()\n",
    "classifier.fit(x_train, y_train)\n",
    "y_pred = classifier.predict(x_train)\n",
    "\n",
    "print(\"Accuracy:\", accuracy_score(y_train, y_pred))\n",
    "print(classification_report(y_train, y_pred))"
   ]
  },
  {
   "cell_type": "code",
   "execution_count": 47,
   "id": "0d458c69-4437-423e-8aed-47411d5f2022",
   "metadata": {},
   "outputs": [
    {
     "name": "stdout",
     "output_type": "stream",
     "text": [
      "Accuracy: 0.607\n",
      "              precision    recall  f1-score   support\n",
      "\n",
      "          -1       0.61      0.49      0.54       265\n",
      "           0       0.57      0.64      0.60       427\n",
      "           1       0.67      0.66      0.66       308\n",
      "\n",
      "    accuracy                           0.61      1000\n",
      "   macro avg       0.61      0.60      0.60      1000\n",
      "weighted avg       0.61      0.61      0.61      1000\n",
      "\n"
     ]
    }
   ],
   "source": [
    "y_pred_test=classifier.predict(x_test)\n",
    "print(\"Accuracy:\", accuracy_score(y_test, y_pred_test))\n",
    "print(classification_report(y_test, y_pred_test))"
   ]
  },
  {
   "cell_type": "markdown",
   "id": "8555c2e7-4987-4144-9807-3ebfc1250dd6",
   "metadata": {},
   "source": [
    "#### Implementing Logistic Regression"
   ]
  },
  {
   "cell_type": "code",
   "execution_count": 48,
   "id": "5b0a7752-91ca-4742-8c6d-b6c63777ce92",
   "metadata": {},
   "outputs": [
    {
     "name": "stdout",
     "output_type": "stream",
     "text": [
      "Accuracy: 0.79925\n",
      "              precision    recall  f1-score   support\n",
      "\n",
      "          -1       0.83      0.72      0.77      1120\n",
      "           0       0.74      0.86      0.79      1596\n",
      "           1       0.87      0.79      0.83      1284\n",
      "\n",
      "    accuracy                           0.80      4000\n",
      "   macro avg       0.81      0.79      0.80      4000\n",
      "weighted avg       0.81      0.80      0.80      4000\n",
      "\n"
     ]
    }
   ],
   "source": [
    "classifier = LogisticRegression()\n",
    "classifier.fit(x_train, y_train)\n",
    "y_pred = classifier.predict(x_train)\n",
    "\n",
    "print(\"Accuracy:\", accuracy_score(y_train, y_pred))\n",
    "print(classification_report(y_train, y_pred))"
   ]
  },
  {
   "cell_type": "code",
   "execution_count": 49,
   "id": "048478fa-47f2-4823-979a-1e17596cea8e",
   "metadata": {},
   "outputs": [
    {
     "name": "stdout",
     "output_type": "stream",
     "text": [
      "Accuracy: 0.631\n",
      "              precision    recall  f1-score   support\n",
      "\n",
      "          -1       0.59      0.48      0.53       265\n",
      "           0       0.59      0.68      0.63       427\n",
      "           1       0.72      0.70      0.71       308\n",
      "\n",
      "    accuracy                           0.63      1000\n",
      "   macro avg       0.63      0.62      0.62      1000\n",
      "weighted avg       0.63      0.63      0.63      1000\n",
      "\n"
     ]
    }
   ],
   "source": [
    "y_pred_test=classifier.predict(x_test)\n",
    "\n",
    "print(\"Accuracy:\", accuracy_score(y_test, y_pred_test))\n",
    "print(classification_report(y_test, y_pred_test))"
   ]
  },
  {
   "cell_type": "markdown",
   "id": "fc8ebd13-145f-4d59-8803-b812732db406",
   "metadata": {},
   "source": [
    "### How does this impact the performance of your Naive Bayes and Logistic Regression classification results?"
   ]
  },
  {
   "cell_type": "code",
   "execution_count": 50,
   "id": "4c8fb570-6626-4cb0-960c-a38710a03d81",
   "metadata": {},
   "outputs": [],
   "source": [
    "old_naive=[0.591]*10\n",
    "old_logistic=[0.606]*10\n",
    "new_naive=[0.607]*10\n",
    "new_logistic=[0.631]*10\n",
    "most_freq=[0.427]*10\n",
    "x=list(range(10))"
   ]
  },
  {
   "cell_type": "code",
   "execution_count": 51,
   "id": "8879dc49-2da3-4292-86fd-a1940b038048",
   "metadata": {},
   "outputs": [
    {
     "data": {
      "text/plain": [
       "0.025000000000000022"
      ]
     },
     "execution_count": 51,
     "metadata": {},
     "output_type": "execute_result"
    }
   ],
   "source": [
    "0.631-0.606"
   ]
  },
  {
   "cell_type": "code",
   "execution_count": 52,
   "id": "32552827-df09-46f8-b531-933c2da5c7f5",
   "metadata": {},
   "outputs": [
    {
     "data": {
      "text/plain": [
       "Text(0.5, 1.0, 'Comparing Result on Unseen Data')"
      ]
     },
     "execution_count": 52,
     "metadata": {},
     "output_type": "execute_result"
    },
    {
     "data": {
      "image/png": "[encoded data removed]",
      "text/plain": [
       "<Figure size 640x480 with 1 Axes>"
      ]
     },
     "metadata": {},
     "output_type": "display_data"
    }
   ],
   "source": [
    "plt.plot(x,old_naive, color='green', label='Old Naive Bias')\n",
    "plt.plot(x,new_naive, color='red', label='New Naive Bias')\n",
    "plt.plot(x,old_logistic, color='blue', label='Old Logistic Regression')\n",
    "plt.plot(x,new_logistic, color='black', label='new Logistic Regression')\n",
    "plt.plot(x, most_freq, linestyle='dotted', color='b', label='Baseline Accuracy: Most Frequent Classifier')\n",
    "\n",
    "plt.legend()\n",
    "plt.ylabel('Accuracy')\n",
    "plt.title('Comparing Result on Unseen Data')"
   ]
  },
  {
   "cell_type": "markdown",
   "id": "58ceaa37-ca6e-4a1e-bf37-d6a7ec5fd404",
   "metadata": {},
   "source": [
    "#### Improvement in Naive Bias is 1.6% on unseen data"
   ]
  },
  {
   "cell_type": "markdown",
   "id": "af70074a-c0bf-4b94-a482-c55591ffe77a",
   "metadata": {},
   "source": [
    "#### Improvement in Logistic Regression is 2.5% on unseen data"
   ]
  },
  {
   "cell_type": "markdown",
   "id": "96dbc1ba-7472-481d-9527-e03d759aa2f8",
   "metadata": {},
   "source": [
    "## Part 5"
   ]
  },
  {
   "cell_type": "markdown",
   "id": "e50e9b6d-30b5-4f37-9182-115983f952da",
   "metadata": {},
   "source": [
    "#### Propose and implement at least one addition to the workflow that you think will improve Performace("
   ]
  },
  {
   "cell_type": "markdown",
   "id": "32c68934-9d00-4a3e-b6fb-355afbee7df4",
   "metadata": {},
   "source": [
    "#### Implementing Tf-Idf should improve performace as it would give importance to each term </br>\n",
    "We will perform Tf-Idf on the processed text generated in part 3"
   ]
  },
  {
   "cell_type": "code",
   "execution_count": 53,
   "id": "1249ac1e-3e05-4a80-93d0-2d089ef0ab3c",
   "metadata": {},
   "outputs": [
    {
     "data": {
      "text/html": [
       "<div>\n",
       "<style scoped>\n",
       "    .dataframe tbody tr th:only-of-type {\n",
       "        vertical-align: middle;\n",
       "    }\n",
       "\n",
       "    .dataframe tbody tr th {\n",
       "        vertical-align: top;\n",
       "    }\n",
       "\n",
       "    .dataframe thead th {\n",
       "        text-align: right;\n",
       "    }\n",
       "</style>\n",
       "<table border=\"1\" class=\"dataframe\">\n",
       "  <thead>\n",
       "    <tr style=\"text-align: right;\">\n",
       "      <th></th>\n",
       "      <th>10</th>\n",
       "      <th>12</th>\n",
       "      <th>15</th>\n",
       "      <th>1st</th>\n",
       "      <th>20</th>\n",
       "      <th>24</th>\n",
       "      <th>25</th>\n",
       "      <th>2day</th>\n",
       "      <th>2nite</th>\n",
       "      <th>30</th>\n",
       "      <th>...</th>\n",
       "      <th>year</th>\n",
       "      <th>yep</th>\n",
       "      <th>yes</th>\n",
       "      <th>yesterday</th>\n",
       "      <th>yet</th>\n",
       "      <th>young</th>\n",
       "      <th>youtube</th>\n",
       "      <th>yr</th>\n",
       "      <th>yum</th>\n",
       "      <th>yummy</th>\n",
       "    </tr>\n",
       "  </thead>\n",
       "  <tbody>\n",
       "    <tr>\n",
       "      <th>0</th>\n",
       "      <td>0.0</td>\n",
       "      <td>0.0</td>\n",
       "      <td>0.0</td>\n",
       "      <td>0.0</td>\n",
       "      <td>0.0</td>\n",
       "      <td>0.0</td>\n",
       "      <td>0.0</td>\n",
       "      <td>0.0</td>\n",
       "      <td>0.0</td>\n",
       "      <td>0.0</td>\n",
       "      <td>...</td>\n",
       "      <td>0.0</td>\n",
       "      <td>0.0</td>\n",
       "      <td>0.0</td>\n",
       "      <td>0.0</td>\n",
       "      <td>0.0</td>\n",
       "      <td>0.0</td>\n",
       "      <td>0.0</td>\n",
       "      <td>0.0</td>\n",
       "      <td>0.0</td>\n",
       "      <td>0.0</td>\n",
       "    </tr>\n",
       "    <tr>\n",
       "      <th>1</th>\n",
       "      <td>0.0</td>\n",
       "      <td>0.0</td>\n",
       "      <td>0.0</td>\n",
       "      <td>0.0</td>\n",
       "      <td>0.0</td>\n",
       "      <td>0.0</td>\n",
       "      <td>0.0</td>\n",
       "      <td>0.0</td>\n",
       "      <td>0.0</td>\n",
       "      <td>0.0</td>\n",
       "      <td>...</td>\n",
       "      <td>0.0</td>\n",
       "      <td>0.0</td>\n",
       "      <td>0.0</td>\n",
       "      <td>0.0</td>\n",
       "      <td>0.0</td>\n",
       "      <td>0.0</td>\n",
       "      <td>0.0</td>\n",
       "      <td>0.0</td>\n",
       "      <td>0.0</td>\n",
       "      <td>0.0</td>\n",
       "    </tr>\n",
       "    <tr>\n",
       "      <th>2</th>\n",
       "      <td>0.0</td>\n",
       "      <td>0.0</td>\n",
       "      <td>0.0</td>\n",
       "      <td>0.0</td>\n",
       "      <td>0.0</td>\n",
       "      <td>0.0</td>\n",
       "      <td>0.0</td>\n",
       "      <td>0.0</td>\n",
       "      <td>0.0</td>\n",
       "      <td>0.0</td>\n",
       "      <td>...</td>\n",
       "      <td>0.0</td>\n",
       "      <td>0.0</td>\n",
       "      <td>0.0</td>\n",
       "      <td>0.0</td>\n",
       "      <td>0.0</td>\n",
       "      <td>0.0</td>\n",
       "      <td>0.0</td>\n",
       "      <td>0.0</td>\n",
       "      <td>0.0</td>\n",
       "      <td>0.0</td>\n",
       "    </tr>\n",
       "    <tr>\n",
       "      <th>3</th>\n",
       "      <td>0.0</td>\n",
       "      <td>0.0</td>\n",
       "      <td>0.0</td>\n",
       "      <td>0.0</td>\n",
       "      <td>0.0</td>\n",
       "      <td>0.0</td>\n",
       "      <td>0.0</td>\n",
       "      <td>0.0</td>\n",
       "      <td>0.0</td>\n",
       "      <td>0.0</td>\n",
       "      <td>...</td>\n",
       "      <td>0.0</td>\n",
       "      <td>0.0</td>\n",
       "      <td>0.0</td>\n",
       "      <td>0.0</td>\n",
       "      <td>0.0</td>\n",
       "      <td>0.0</td>\n",
       "      <td>0.0</td>\n",
       "      <td>0.0</td>\n",
       "      <td>0.0</td>\n",
       "      <td>0.0</td>\n",
       "    </tr>\n",
       "    <tr>\n",
       "      <th>4</th>\n",
       "      <td>0.0</td>\n",
       "      <td>0.0</td>\n",
       "      <td>0.0</td>\n",
       "      <td>0.0</td>\n",
       "      <td>0.0</td>\n",
       "      <td>0.0</td>\n",
       "      <td>0.0</td>\n",
       "      <td>0.0</td>\n",
       "      <td>0.0</td>\n",
       "      <td>0.0</td>\n",
       "      <td>...</td>\n",
       "      <td>0.0</td>\n",
       "      <td>0.0</td>\n",
       "      <td>0.0</td>\n",
       "      <td>0.0</td>\n",
       "      <td>0.0</td>\n",
       "      <td>0.0</td>\n",
       "      <td>0.0</td>\n",
       "      <td>0.0</td>\n",
       "      <td>0.0</td>\n",
       "      <td>0.0</td>\n",
       "    </tr>\n",
       "    <tr>\n",
       "      <th>...</th>\n",
       "      <td>...</td>\n",
       "      <td>...</td>\n",
       "      <td>...</td>\n",
       "      <td>...</td>\n",
       "      <td>...</td>\n",
       "      <td>...</td>\n",
       "      <td>...</td>\n",
       "      <td>...</td>\n",
       "      <td>...</td>\n",
       "      <td>...</td>\n",
       "      <td>...</td>\n",
       "      <td>...</td>\n",
       "      <td>...</td>\n",
       "      <td>...</td>\n",
       "      <td>...</td>\n",
       "      <td>...</td>\n",
       "      <td>...</td>\n",
       "      <td>...</td>\n",
       "      <td>...</td>\n",
       "      <td>...</td>\n",
       "      <td>...</td>\n",
       "    </tr>\n",
       "    <tr>\n",
       "      <th>4995</th>\n",
       "      <td>0.0</td>\n",
       "      <td>0.0</td>\n",
       "      <td>0.0</td>\n",
       "      <td>0.0</td>\n",
       "      <td>0.0</td>\n",
       "      <td>0.0</td>\n",
       "      <td>0.0</td>\n",
       "      <td>0.0</td>\n",
       "      <td>0.0</td>\n",
       "      <td>0.0</td>\n",
       "      <td>...</td>\n",
       "      <td>0.0</td>\n",
       "      <td>0.0</td>\n",
       "      <td>0.0</td>\n",
       "      <td>0.0</td>\n",
       "      <td>0.0</td>\n",
       "      <td>0.0</td>\n",
       "      <td>0.0</td>\n",
       "      <td>0.0</td>\n",
       "      <td>0.0</td>\n",
       "      <td>0.0</td>\n",
       "    </tr>\n",
       "    <tr>\n",
       "      <th>4996</th>\n",
       "      <td>0.0</td>\n",
       "      <td>0.0</td>\n",
       "      <td>0.0</td>\n",
       "      <td>0.0</td>\n",
       "      <td>0.0</td>\n",
       "      <td>0.0</td>\n",
       "      <td>0.0</td>\n",
       "      <td>0.0</td>\n",
       "      <td>0.0</td>\n",
       "      <td>0.0</td>\n",
       "      <td>...</td>\n",
       "      <td>0.0</td>\n",
       "      <td>0.0</td>\n",
       "      <td>0.0</td>\n",
       "      <td>0.0</td>\n",
       "      <td>0.0</td>\n",
       "      <td>0.0</td>\n",
       "      <td>0.0</td>\n",
       "      <td>0.0</td>\n",
       "      <td>0.0</td>\n",
       "      <td>0.0</td>\n",
       "    </tr>\n",
       "    <tr>\n",
       "      <th>4997</th>\n",
       "      <td>0.0</td>\n",
       "      <td>0.0</td>\n",
       "      <td>0.0</td>\n",
       "      <td>0.0</td>\n",
       "      <td>0.0</td>\n",
       "      <td>0.0</td>\n",
       "      <td>0.0</td>\n",
       "      <td>0.0</td>\n",
       "      <td>0.0</td>\n",
       "      <td>0.0</td>\n",
       "      <td>...</td>\n",
       "      <td>0.0</td>\n",
       "      <td>0.0</td>\n",
       "      <td>0.0</td>\n",
       "      <td>0.0</td>\n",
       "      <td>0.0</td>\n",
       "      <td>0.0</td>\n",
       "      <td>0.0</td>\n",
       "      <td>0.0</td>\n",
       "      <td>0.0</td>\n",
       "      <td>0.0</td>\n",
       "    </tr>\n",
       "    <tr>\n",
       "      <th>4998</th>\n",
       "      <td>0.0</td>\n",
       "      <td>0.0</td>\n",
       "      <td>0.0</td>\n",
       "      <td>0.0</td>\n",
       "      <td>0.0</td>\n",
       "      <td>0.0</td>\n",
       "      <td>0.0</td>\n",
       "      <td>0.0</td>\n",
       "      <td>0.0</td>\n",
       "      <td>0.0</td>\n",
       "      <td>...</td>\n",
       "      <td>0.0</td>\n",
       "      <td>0.0</td>\n",
       "      <td>0.0</td>\n",
       "      <td>0.0</td>\n",
       "      <td>0.0</td>\n",
       "      <td>0.0</td>\n",
       "      <td>0.0</td>\n",
       "      <td>0.0</td>\n",
       "      <td>0.0</td>\n",
       "      <td>0.0</td>\n",
       "    </tr>\n",
       "    <tr>\n",
       "      <th>4999</th>\n",
       "      <td>0.0</td>\n",
       "      <td>0.0</td>\n",
       "      <td>0.0</td>\n",
       "      <td>0.0</td>\n",
       "      <td>0.0</td>\n",
       "      <td>0.0</td>\n",
       "      <td>0.0</td>\n",
       "      <td>0.0</td>\n",
       "      <td>0.0</td>\n",
       "      <td>0.0</td>\n",
       "      <td>...</td>\n",
       "      <td>0.0</td>\n",
       "      <td>0.0</td>\n",
       "      <td>0.0</td>\n",
       "      <td>0.0</td>\n",
       "      <td>0.0</td>\n",
       "      <td>0.0</td>\n",
       "      <td>0.0</td>\n",
       "      <td>0.0</td>\n",
       "      <td>0.0</td>\n",
       "      <td>0.0</td>\n",
       "    </tr>\n",
       "  </tbody>\n",
       "</table>\n",
       "<p>5000 rows × 1000 columns</p>\n",
       "</div>"
      ],
      "text/plain": [
       "       10   12   15  1st   20   24   25  2day  2nite   30  ...  year  yep  \\\n",
       "0     0.0  0.0  0.0  0.0  0.0  0.0  0.0   0.0    0.0  0.0  ...   0.0  0.0   \n",
       "1     0.0  0.0  0.0  0.0  0.0  0.0  0.0   0.0    0.0  0.0  ...   0.0  0.0   \n",
       "2     0.0  0.0  0.0  0.0  0.0  0.0  0.0   0.0    0.0  0.0  ...   0.0  0.0   \n",
       "3     0.0  0.0  0.0  0.0  0.0  0.0  0.0   0.0    0.0  0.0  ...   0.0  0.0   \n",
       "4     0.0  0.0  0.0  0.0  0.0  0.0  0.0   0.0    0.0  0.0  ...   0.0  0.0   \n",
       "...   ...  ...  ...  ...  ...  ...  ...   ...    ...  ...  ...   ...  ...   \n",
       "4995  0.0  0.0  0.0  0.0  0.0  0.0  0.0   0.0    0.0  0.0  ...   0.0  0.0   \n",
       "4996  0.0  0.0  0.0  0.0  0.0  0.0  0.0   0.0    0.0  0.0  ...   0.0  0.0   \n",
       "4997  0.0  0.0  0.0  0.0  0.0  0.0  0.0   0.0    0.0  0.0  ...   0.0  0.0   \n",
       "4998  0.0  0.0  0.0  0.0  0.0  0.0  0.0   0.0    0.0  0.0  ...   0.0  0.0   \n",
       "4999  0.0  0.0  0.0  0.0  0.0  0.0  0.0   0.0    0.0  0.0  ...   0.0  0.0   \n",
       "\n",
       "      yes  yesterday  yet  young  youtube   yr  yum  yummy  \n",
       "0     0.0        0.0  0.0    0.0      0.0  0.0  0.0    0.0  \n",
       "1     0.0        0.0  0.0    0.0      0.0  0.0  0.0    0.0  \n",
       "2     0.0        0.0  0.0    0.0      0.0  0.0  0.0    0.0  \n",
       "3     0.0        0.0  0.0    0.0      0.0  0.0  0.0    0.0  \n",
       "4     0.0        0.0  0.0    0.0      0.0  0.0  0.0    0.0  \n",
       "...   ...        ...  ...    ...      ...  ...  ...    ...  \n",
       "4995  0.0        0.0  0.0    0.0      0.0  0.0  0.0    0.0  \n",
       "4996  0.0        0.0  0.0    0.0      0.0  0.0  0.0    0.0  \n",
       "4997  0.0        0.0  0.0    0.0      0.0  0.0  0.0    0.0  \n",
       "4998  0.0        0.0  0.0    0.0      0.0  0.0  0.0    0.0  \n",
       "4999  0.0        0.0  0.0    0.0      0.0  0.0  0.0    0.0  \n",
       "\n",
       "[5000 rows x 1000 columns]"
      ]
     },
     "execution_count": 53,
     "metadata": {},
     "output_type": "execute_result"
    }
   ],
   "source": [
    "tfidf_vectorizer = TfidfVectorizer(max_features=1000)\n",
    "tfidf_matrix = tfidf_vectorizer.fit_transform(basic_preproc_tweets2['text2'])\n",
    "basic_preproc_tweets_bow3 = pd.DataFrame(tfidf_matrix.toarray(), columns=tfidf_vectorizer.get_feature_names_out())\n",
    "basic_preproc_tweets_bow3"
   ]
  },
  {
   "cell_type": "code",
   "execution_count": 54,
   "id": "a9924320-6007-4a07-9e37-4be09e35eb2c",
   "metadata": {},
   "outputs": [],
   "source": [
    "bow_np = basic_preproc_tweets_bow3.to_numpy()\n",
    "x_train, x_test = train_test_split(bow_np, test_size=0.2, shuffle=False)\n",
    "y_train, y_test = train_test_split(basic_preproc_tweets2['labels'].to_numpy(), test_size=0.2, shuffle=False)"
   ]
  },
  {
   "cell_type": "code",
   "execution_count": 55,
   "id": "1a8f9045-f601-4e1c-8dbd-5f6ea18bd70a",
   "metadata": {},
   "outputs": [
    {
     "name": "stdout",
     "output_type": "stream",
     "text": [
      "Accuracy: 0.7245\n",
      "              precision    recall  f1-score   support\n",
      "\n",
      "          -1       0.82      0.58      0.68      1120\n",
      "           0       0.64      0.84      0.73      1596\n",
      "           1       0.81      0.71      0.75      1284\n",
      "\n",
      "    accuracy                           0.72      4000\n",
      "   macro avg       0.76      0.71      0.72      4000\n",
      "weighted avg       0.75      0.72      0.72      4000\n",
      "\n"
     ]
    }
   ],
   "source": [
    "classifier = MultinomialNB()\n",
    "classifier.fit(x_train, y_train)\n",
    "y_pred = classifier.predict(x_train)\n",
    "\n",
    "print(\"Accuracy:\", accuracy_score(y_train, y_pred))\n",
    "print(classification_report(y_train, y_pred))\n"
   ]
  },
  {
   "cell_type": "code",
   "execution_count": 56,
   "id": "8bbd1469-6d76-4ab1-a706-3798b576f5b0",
   "metadata": {},
   "outputs": [
    {
     "name": "stdout",
     "output_type": "stream",
     "text": [
      "Accuracy: 0.602\n",
      "              precision    recall  f1-score   support\n",
      "\n",
      "          -1       0.68      0.37      0.48       265\n",
      "           0       0.55      0.75      0.63       427\n",
      "           1       0.68      0.60      0.63       308\n",
      "\n",
      "    accuracy                           0.60      1000\n",
      "   macro avg       0.63      0.57      0.58      1000\n",
      "weighted avg       0.62      0.60      0.59      1000\n",
      "\n"
     ]
    }
   ],
   "source": [
    "y_pred_test=classifier.predict(x_test)\n",
    "print(\"Accuracy:\", accuracy_score(y_test, y_pred_test))\n",
    "print(classification_report(y_test, y_pred_test))"
   ]
  },
  {
   "cell_type": "code",
   "execution_count": 57,
   "id": "23377127-febc-4d2c-9232-7223911ef4a7",
   "metadata": {},
   "outputs": [
    {
     "name": "stdout",
     "output_type": "stream",
     "text": [
      "Accuracy: 0.76225\n",
      "              precision    recall  f1-score   support\n",
      "\n",
      "          -1       0.81      0.66      0.73      1120\n",
      "           0       0.70      0.84      0.76      1596\n",
      "           1       0.84      0.75      0.79      1284\n",
      "\n",
      "    accuracy                           0.76      4000\n",
      "   macro avg       0.78      0.75      0.76      4000\n",
      "weighted avg       0.77      0.76      0.76      4000\n",
      "\n"
     ]
    }
   ],
   "source": [
    "classifier = LogisticRegression()\n",
    "classifier.fit(x_train, y_train)\n",
    "y_pred = classifier.predict(x_train)\n",
    "\n",
    "print(\"Accuracy:\", accuracy_score(y_train, y_pred))\n",
    "print(classification_report(y_train, y_pred))"
   ]
  },
  {
   "cell_type": "code",
   "execution_count": 58,
   "id": "d7884e4c-b876-432a-b12e-6aa2d58af03e",
   "metadata": {},
   "outputs": [
    {
     "name": "stdout",
     "output_type": "stream",
     "text": [
      "Accuracy: 0.634\n",
      "              precision    recall  f1-score   support\n",
      "\n",
      "          -1       0.63      0.45      0.53       265\n",
      "           0       0.58      0.72      0.65       427\n",
      "           1       0.73      0.67      0.70       308\n",
      "\n",
      "    accuracy                           0.63      1000\n",
      "   macro avg       0.65      0.61      0.62      1000\n",
      "weighted avg       0.64      0.63      0.63      1000\n",
      "\n"
     ]
    }
   ],
   "source": [
    "y_pred_test=classifier.predict(x_test)\n",
    "\n",
    "print(\"Accuracy:\", accuracy_score(y_test, y_pred_test))\n",
    "print(classification_report(y_test, y_pred_test))"
   ]
  },
  {
   "cell_type": "markdown",
   "id": "ff80e9da-8ff8-4b81-ba38-3449233642d6",
   "metadata": {},
   "source": [
    "### The New Logistic regression with Tf-Idf implemented is the best model on the unseen data so far. But it Marginally outperforms the Logistic regression Model generated in Part 3 by 0.3%"
   ]
  },
  {
   "cell_type": "markdown",
   "id": "86ec31ce-e5e9-4d79-9965-c4e590d29c2e",
   "metadata": {},
   "source": [
    "### Althought the performance improve we can say that the implementation of Tf-idf can be considered as insignificant for this scenario."
   ]
  },
  {
   "cell_type": "markdown",
   "id": "bc1b7b7b-9ba9-4df8-8e25-8e6726cca9b8",
   "metadata": {},
   "source": [
    "Finally, take the best performing model and look at the tweets that were incorrectly\n",
    "categorized. Do you observe any patterns in what the model is making mistakes on?\n",
    "What do you think could be done to further improve results?"
   ]
  },
  {
   "cell_type": "code",
   "execution_count": 59,
   "id": "1dc9b3fb-f79c-4e33-a522-28523061716c",
   "metadata": {},
   "outputs": [],
   "source": [
    "y_pred = classifier.predict(bow_np)\n",
    "incorr=[]\n",
    "for i in range(len(y_pred)):\n",
    "    if y_pred[i]!=basic_preproc_tweets2['labels'][i]:\n",
    "        incorr.append(i)"
   ]
  },
  {
   "cell_type": "markdown",
   "id": "5beaa126-6a46-48c5-b6ec-d88fd986cd8c",
   "metadata": {},
   "source": [
    "for i in range(len(incorr)):\n",
    "    if i%10==0:\n",
    "        print(basic_preproc_tweets2.loc[incorr[i]])\n",
    "        print()"
   ]
  },
  {
   "cell_type": "code",
   "execution_count": 64,
   "id": "b48d6b3b-3b47-4397-9f34-959aa07183b3",
   "metadata": {},
   "outputs": [
    {
     "name": "stdout",
     "output_type": "stream",
     "text": [
      "textID                                       f854b71b06\n",
      "text          hell yeah! Belgian beer is the bomb!!  :p\n",
      "sentiment                                      positive\n",
      "labels                                                1\n",
      "token              [hell, yeah, belgian, beer, bomb, p]\n",
      "text2                     hell yeah belgian beer bomb p\n",
      "Name: 1299, dtype: object\n",
      "0\n"
     ]
    }
   ],
   "source": [
    "print(basic_preproc_tweets2.loc[1299])\n",
    "print(y_pred[1299])"
   ]
  },
  {
   "cell_type": "code",
   "execution_count": 67,
   "id": "845ee34f-f6a0-444a-b84f-64d73362b8d9",
   "metadata": {},
   "outputs": [
    {
     "name": "stdout",
     "output_type": "stream",
     "text": [
      "textID                                              6c344c1dac\n",
      "text         Watching my fav movie...Two Can Play That Game...\n",
      "sentiment                                             positive\n",
      "labels                                                       1\n",
      "token        [watching, fav, movie, two, play, game, notice...\n",
      "text2        watching fav movie two play game notice men st...\n",
      "Name: 4093, dtype: object\n",
      "0\n"
     ]
    }
   ],
   "source": [
    "print(basic_preproc_tweets2.loc[4093])\n",
    "print(y_pred[4093])"
   ]
  },
  {
   "cell_type": "code",
   "execution_count": 74,
   "id": "8e9a6a93-a57b-4a47-aba1-8d0a895b62f7",
   "metadata": {},
   "outputs": [
    {
     "name": "stdout",
     "output_type": "stream",
     "text": [
      "textID                                              df334d0c28\n",
      "text         - NOT A HEAP HEY. JUST BOUT TU HIT THE SACK. I...\n",
      "sentiment                                             negative\n",
      "labels                                                      -1\n",
      "token        [heap, hey, bout, tu, hit, sack, need, someone...\n",
      "text2        heap hey bout tu hit sack need someone tu cudd...\n",
      "Name: 4719, dtype: object\n",
      "0\n"
     ]
    }
   ],
   "source": [
    "print(basic_preproc_tweets2.loc[4719])\n",
    "print(y_pred[4719])"
   ]
  },
  {
   "cell_type": "markdown",
   "id": "a3e78e35-f720-4917-9b81-d7ed210d01fc",
   "metadata": {},
   "source": [
    "1. Some of the tweets has slangs in them which would not be mapped to the actual word when we are tokenizing and therefore decreasing the importance of that word.\n",
    "2. Some of the tweets are Case sensitive, i.e. the person tweeted it in caps to show strong emotion, and if we lower the caption it might have decreased its meaning.\n",
    "3. Lot of emojis used have been cleaned out. Emojis can help in understanding the sentiment of tweet."
   ]
  },
  {
   "cell_type": "markdown",
   "id": "7036d215-6805-4aa3-9154-64df4a660f77",
   "metadata": {},
   "source": [
    "Solutions\n",
    "1. Try to create a mapping of slangs to their respective actual English words as not everyone types in that manner.\n",
    "2. Create two vectors for words in all CAP's respectively to help distinguish the two and give importance to the tweets with Words in Caps or create a feature called isCap Y/N.\n",
    "3. Create vectors for emojis used in the tweets"
   ]
  },
  {
   "cell_type": "markdown",
   "id": "3a8af970-4b7b-4638-89a7-91b00fbdaa1d",
   "metadata": {},
   "source": [
    "#### Roughly how much time did you spend on this homework?"
   ]
  },
  {
   "cell_type": "markdown",
   "id": "747bfb46-56e5-41aa-9b90-139df92c051e",
   "metadata": {},
   "source": [
    "About 6 hours spread over multiple days."
   ]
  }
 ],
 "metadata": {
  "kernelspec": {
   "display_name": "Python 3 (ipykernel)",
   "language": "python",
   "name": "python3"
  },
  "language_info": {
   "codemirror_mode": {
    "name": "ipython",
    "version": 3
   },
   "file_extension": ".py",
   "mimetype": "text/x-python",
   "name": "python",
   "nbconvert_exporter": "python",
   "pygments_lexer": "ipython3",
   "version": "3.11.4"
  }
 },
 "nbformat": 4,
 "nbformat_minor": 5
}
