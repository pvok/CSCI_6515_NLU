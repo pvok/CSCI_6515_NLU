{
 "cells": [
  {
   "cell_type": "markdown",
   "metadata": {},
   "source": [
    "Aseem and I discussed how emission probabilities are to be calculated. We both had differing formulas. He shared his correspondence with you(Professor) on the same and we used the understanding that you provided in the same."
   ]
  },
  {
   "cell_type": "code",
   "execution_count": 1,
   "metadata": {
    "colab": {
     "base_uri": "https://localhost:8080/"
    },
    "id": "JRRxFdvgkCEu",
    "outputId": "4236fc78-bbe0-4580-d696-589778896175"
   },
   "outputs": [],
   "source": [
    "import nltk\n",
    "from nltk.corpus import brown\n",
    "from nltk.probability import FreqDist\n",
    "import numpy as np\n",
    "from tqdm import tqdm\n",
    "\n",
    "#nltk.download('brown')\n",
    "#nltk.download('universal_tagset')"
   ]
  },
  {
   "cell_type": "code",
   "execution_count": 2,
   "metadata": {
    "id": "vXf0e-pxkRYu"
   },
   "outputs": [],
   "source": [
    "# Calculate starting probabilities\n",
    "# This is provided in the homework; no need to change this\n",
    "\n",
    "brown_sents = brown.tagged_sents(tagset='universal')\n",
    "starting_pos = [sent[0][1] for sent in brown_sents]\n",
    "freq_pos = FreqDist(starting_pos)\n",
    "for item in freq_pos:\n",
    "  freq_pos[item] = freq_pos[item] / len(starting_pos)"
   ]
  },
  {
   "cell_type": "code",
   "execution_count": 3,
   "metadata": {
    "id": "g-wc9RLGk6SY"
   },
   "outputs": [],
   "source": [
    "# TODO: Calculate emission probabilities here\n",
    "# Remember to ignore case and treat \"Flies\" the same as \"flies\"\n",
    "\n",
    "brown_words = brown.tagged_words(tagset='universal')"
   ]
  },
  {
   "cell_type": "code",
   "execution_count": 4,
   "metadata": {},
   "outputs": [
    {
     "name": "stderr",
     "output_type": "stream",
     "text": [
      "100%|████████████████████████████████████████████████████████████████████| 1161192/1161192 [00:01<00:00, 608388.67it/s]\n"
     ]
    }
   ],
   "source": [
    "flies=[]\n",
    "fly=[]\n",
    "for i,j in tqdm(brown_words):\n",
    "    if i.lower()=='flies':\n",
    "        flies.append(j)\n",
    "    elif i.lower()=='fly':\n",
    "        fly.append(j)"
   ]
  },
  {
   "cell_type": "markdown",
   "metadata": {},
   "source": [
    "In the Brown corpus with Universal tags, what is the set of part-of-speech tags we\r\n",
    "observe as labels for the words in our sentence: “flies” and “fly”?"
   ]
  },
  {
   "cell_type": "code",
   "execution_count": 5,
   "metadata": {},
   "outputs": [
    {
     "name": "stdout",
     "output_type": "stream",
     "text": [
      "For fly labels are:\n",
      " {'NOUN', 'VERB'}\n",
      "For flies labels are:\n",
      " {'NOUN', 'VERB'}\n"
     ]
    }
   ],
   "source": [
    "print('For fly labels are:\\n',set(fly))\n",
    "print('For flies labels are:\\n',set(flies))"
   ]
  },
  {
   "cell_type": "code",
   "execution_count": 6,
   "metadata": {},
   "outputs": [],
   "source": [
    "second_values = [tup[1] for tup in brown_words]\n",
    "unq=set(second_values)"
   ]
  },
  {
   "cell_type": "code",
   "execution_count": 7,
   "metadata": {},
   "outputs": [
    {
     "data": {
      "text/plain": [
       "{'.',\n",
       " 'ADJ',\n",
       " 'ADP',\n",
       " 'ADV',\n",
       " 'CONJ',\n",
       " 'DET',\n",
       " 'NOUN',\n",
       " 'NUM',\n",
       " 'PRON',\n",
       " 'PRT',\n",
       " 'VERB',\n",
       " 'X'}"
      ]
     },
     "execution_count": 7,
     "metadata": {},
     "output_type": "execute_result"
    }
   ],
   "source": [
    "unq"
   ]
  },
  {
   "cell_type": "code",
   "execution_count": 8,
   "metadata": {},
   "outputs": [
    {
     "name": "stderr",
     "output_type": "stream",
     "text": [
      "100%|████████████████████████████████████████████████████████████████████| 1161192/1161192 [00:02<00:00, 528611.62it/s]\n"
     ]
    }
   ],
   "source": [
    "total_counts={}\n",
    "for i in unq:\n",
    "    total_counts[i]=0\n",
    "for i,j in tqdm(brown_words):\n",
    "    total_counts[j]=total_counts[j]+1"
   ]
  },
  {
   "cell_type": "code",
   "execution_count": 9,
   "metadata": {},
   "outputs": [
    {
     "data": {
      "text/plain": [
       "{'X': 1386,\n",
       " 'PRT': 29829,\n",
       " 'DET': 137019,\n",
       " 'NOUN': 275558,\n",
       " 'ADJ': 83721,\n",
       " 'PRON': 49334,\n",
       " 'NUM': 14874,\n",
       " 'ADP': 144766,\n",
       " 'CONJ': 38151,\n",
       " 'ADV': 56239,\n",
       " '.': 147565,\n",
       " 'VERB': 182750}"
      ]
     },
     "execution_count": 9,
     "metadata": {},
     "output_type": "execute_result"
    }
   ],
   "source": [
    "total_counts"
   ]
  },
  {
   "cell_type": "code",
   "execution_count": 10,
   "metadata": {},
   "outputs": [],
   "source": [
    "elim={'fly':{},'flies':{}}\n",
    "for i in elim:\n",
    "    for j in unq:\n",
    "        elim[i][j]=int(0)"
   ]
  },
  {
   "cell_type": "code",
   "execution_count": 11,
   "metadata": {},
   "outputs": [
    {
     "data": {
      "text/plain": [
       "{'fly': {'X': 0,\n",
       "  'PRT': 0,\n",
       "  'DET': 0,\n",
       "  'NOUN': 0,\n",
       "  'ADJ': 0,\n",
       "  'PRON': 0,\n",
       "  'NUM': 0,\n",
       "  'ADP': 0,\n",
       "  'CONJ': 0,\n",
       "  'ADV': 0,\n",
       "  '.': 0,\n",
       "  'VERB': 0},\n",
       " 'flies': {'X': 0,\n",
       "  'PRT': 0,\n",
       "  'DET': 0,\n",
       "  'NOUN': 0,\n",
       "  'ADJ': 0,\n",
       "  'PRON': 0,\n",
       "  'NUM': 0,\n",
       "  'ADP': 0,\n",
       "  'CONJ': 0,\n",
       "  'ADV': 0,\n",
       "  '.': 0,\n",
       "  'VERB': 0}}"
      ]
     },
     "execution_count": 11,
     "metadata": {},
     "output_type": "execute_result"
    }
   ],
   "source": [
    "elim"
   ]
  },
  {
   "cell_type": "code",
   "execution_count": 12,
   "metadata": {},
   "outputs": [
    {
     "name": "stderr",
     "output_type": "stream",
     "text": [
      "100%|████████████████████████████████████████████████████████████████████| 1161192/1161192 [00:02<00:00, 517490.71it/s]\n"
     ]
    }
   ],
   "source": [
    "for i,j in tqdm(brown_words):\n",
    "    if i.lower()=='fly':\n",
    "        elim['fly'][j]=(elim['fly'][j]+1)\n",
    "    elif i.lower()=='flies':\n",
    "        elim['flies'][j]=(elim['flies'][j]+1)"
   ]
  },
  {
   "cell_type": "code",
   "execution_count": 13,
   "metadata": {},
   "outputs": [
    {
     "name": "stderr",
     "output_type": "stream",
     "text": [
      "100%|████████████████████████████████████████████████████████████████████████████████████████████| 2/2 [00:00<?, ?it/s]\n"
     ]
    }
   ],
   "source": [
    "for k1,subdict in tqdm(elim.items()):\n",
    "    for k2,value in subdict.items():\n",
    "        total=total_counts[k2]\n",
    "        subdict[k2]=value/total"
   ]
  },
  {
   "cell_type": "markdown",
   "metadata": {},
   "source": [
    "Provide all non-zero emission probabilities for “flies” and “fly” based on the tagged Brown\n",
    "corpus. (Hint: refer to your answer to #1). Remember to ignore case (i.e., treat “Flies”\n",
    "and “flies” as the same word)."
   ]
  },
  {
   "cell_type": "code",
   "execution_count": 14,
   "metadata": {},
   "outputs": [
    {
     "name": "stdout",
     "output_type": "stream",
     "text": [
      "fly\n",
      "NOUN : 5.443500097983002e-05\n",
      "VERB : 9.849521203830369e-05\n",
      "flies\n",
      "NOUN : 2.903200052257601e-05\n",
      "VERB : 2.188782489740082e-05\n"
     ]
    }
   ],
   "source": [
    "for key,subdict in elim.items():\n",
    "    print(key)\n",
    "    for subkey,value in subdict.items():\n",
    "        if value!=0:\n",
    "            print(subkey,':',value)\n",
    "            "
   ]
  },
  {
   "cell_type": "markdown",
   "metadata": {},
   "source": [
    "Give an example of an emission probability (for ‘flies’ or ‘fly’) that is zero."
   ]
  },
  {
   "cell_type": "code",
   "execution_count": 15,
   "metadata": {},
   "outputs": [
    {
     "name": "stdout",
     "output_type": "stream",
     "text": [
      "fly\n",
      "X : 0.0\n",
      "flies\n",
      "X : 0.0\n"
     ]
    }
   ],
   "source": [
    "for key,subdict in elim.items():\n",
    "    print(key)\n",
    "    for subkey,value in subdict.items():\n",
    "        if value==0:\n",
    "            print(subkey,':',value)\n",
    "            break"
   ]
  },
  {
   "cell_type": "raw",
   "metadata": {},
   "source": [
    "trans={}\n",
    "for i in unq:\n",
    "    trans[i]={}\n",
    "    for j in unq:\n",
    "        trans[i][j]=0"
   ]
  },
  {
   "cell_type": "raw",
   "metadata": {},
   "source": [
    "trans"
   ]
  },
  {
   "cell_type": "raw",
   "metadata": {
    "id": "J40XOkrnlA85"
   },
   "source": [
    "# TODO: Calculate transition probabilities here\n",
    "\n",
    "word_tag_pairs = list(nltk.bigrams(brown_words))\n",
    "\n",
    "# You can iterate through all pairs of consecutive words / POS tags like this:\n",
    "for ((word1,pos1),(word2,pos2)) in tqdm(word_tag_pairs):\n",
    "    trans[pos1][pos2]=trans[pos1][pos2]+1"
   ]
  },
  {
   "cell_type": "raw",
   "metadata": {},
   "source": [
    "for k1,subdict in tqdm(trans.items()):\n",
    "    total=sum(subdict.values())\n",
    "    for k2,value in subdict.items():\n",
    "        subdict[k2]=value/total\n",
    "    "
   ]
  },
  {
   "cell_type": "code",
   "execution_count": 16,
   "metadata": {},
   "outputs": [
    {
     "name": "stderr",
     "output_type": "stream",
     "text": [
      "100%|███████████████████████████████████████████████████████████████████| 1161191/1161191 [00:00<00:00, 3658213.43it/s]\n"
     ]
    },
    {
     "data": {
      "text/plain": [
       "{'NOUN': {'NOUN': 41309, 'VERB': 43819},\n",
       " 'VERB': {'NOUN': 17851, 'VERB': 33672}}"
      ]
     },
     "execution_count": 16,
     "metadata": {},
     "output_type": "execute_result"
    }
   ],
   "source": [
    "trans={'NOUN':{'NOUN':0,'VERB':0},'VERB':{'NOUN':0,'VERB':0}}\n",
    "word_tag_pairs = list(nltk.bigrams(brown_words))\n",
    "for ((word1,pos1),(word2,pos2)) in tqdm(word_tag_pairs):\n",
    "    if pos1 in ('NOUN','VERB') and pos2 in('NOUN','VERB'):\n",
    "        trans[pos1][pos2]=trans[pos1][pos2]+1\n",
    "trans"
   ]
  },
  {
   "cell_type": "code",
   "execution_count": 17,
   "metadata": {},
   "outputs": [
    {
     "name": "stderr",
     "output_type": "stream",
     "text": [
      "100%|████████████████████████████████████████████████████████████████████████████████████████████| 2/2 [00:00<?, ?it/s]\n"
     ]
    },
    {
     "data": {
      "text/plain": [
       "{'NOUN': {'NOUN': 0.14991036369838653, 'VERB': 0.15901915386234478},\n",
       " 'VERB': {'NOUN': 0.09767989056087552, 'VERB': 0.18425170998632012}}"
      ]
     },
     "execution_count": 17,
     "metadata": {},
     "output_type": "execute_result"
    }
   ],
   "source": [
    "for k1,subdict in tqdm(trans.items()):\n",
    "    total=total_counts[k1]\n",
    "    for k2,value in subdict.items():\n",
    "        subdict[k2]=value/total\n",
    "trans"
   ]
  },
  {
   "cell_type": "raw",
   "metadata": {},
   "source": [
    "for k1,subdict in tqdm(trans.items()):\n",
    "    total=sum(subdict.values())\n",
    "    print(k1,':',total)"
   ]
  },
  {
   "cell_type": "markdown",
   "metadata": {},
   "source": [
    "Normally, you would want to calculate the transition probability matrix between all pairs\n",
    "of possible states (i.e., parts-of-speech). Given that there are 12 parts-of-speech in the\n",
    "universal tagset, this would involve creating a 12x12 matrix. However, for this problem, it\n",
    "is sufficient to create a 2x2 matrix. Provide that transition probability matrix and its\n",
    "values, and explain why no other transition probabilities are needed in order to correctly\n",
    "tag the sentence “Flies fly”."
   ]
  },
  {
   "cell_type": "code",
   "execution_count": 18,
   "metadata": {},
   "outputs": [
    {
     "name": "stdout",
     "output_type": "stream",
     "text": [
      "P( NOUN | NOUN )= 0.14991036369838653\n",
      "P( VERB | NOUN )= 0.15901915386234478\n",
      "P( NOUN | VERB )= 0.09767989056087552\n",
      "P( VERB | VERB )= 0.18425170998632012\n"
     ]
    }
   ],
   "source": [
    "for k1,subdict in trans.items():\n",
    "    for k2,val in subdict.items():\n",
    "        print('P(',k2,'|',k1,')=',val)"
   ]
  },
  {
   "cell_type": "markdown",
   "metadata": {},
   "source": [
    "We do not need other transition probabilities as for words 'flies' and 'fly' exist in two states only NOUN and VERB and therefore while using the Viterbi algorithm, the probabilities get multiplied by the emission probability of the word existing in that state, as these two words do not exist in any state other than NOUN or VERB the final product would always be 0 for other states."
   ]
  },
  {
   "cell_type": "markdown",
   "metadata": {},
   "source": [
    "Walk through the Viterbi algorithm to show how the sentence “Flies fly” would be tagged.\n",
    "Your answer can take the form of a 2x2 matrix where the rows correspond to the parts of\n",
    "speech that “flies” and “fly” can take (hint: refer to #1 and #2) and the columns\n",
    "correspond to each word in the to-be-tagged sentence."
   ]
  },
  {
   "cell_type": "code",
   "execution_count": 19,
   "metadata": {},
   "outputs": [
    {
     "data": {
      "text/plain": [
       "{'DET': 0.21,\n",
       " 'PRON': 0.16,\n",
       " 'NOUN': 0.14,\n",
       " 'ADP': 0.12,\n",
       " 'ADV': 0.09,\n",
       " '.': 0.09,\n",
       " 'CONJ': 0.05,\n",
       " 'VERB': 0.05,\n",
       " 'PRT': 0.04,\n",
       " 'ADJ': 0.03,\n",
       " 'NUM': 0.02,\n",
       " 'X': 0.0}"
      ]
     },
     "execution_count": 19,
     "metadata": {},
     "output_type": "execute_result"
    }
   ],
   "source": [
    "#Start Probabilities taken from table provided \n",
    "p_start={'DET':0.21,\n",
    "'PRON':0.16,\n",
    "'NOUN':0.14,\n",
    "'ADP':0.12,\n",
    "'ADV':0.09,\n",
    "'.':0.09,\n",
    "'CONJ':0.05,\n",
    "'VERB':0.05,\n",
    "'PRT':0.04,\n",
    "'ADJ':0.03,\n",
    "'NUM':0.02,\n",
    "'X':0.0}\n",
    "p_start"
   ]
  },
  {
   "cell_type": "code",
   "execution_count": 20,
   "metadata": {},
   "outputs": [
    {
     "data": {
      "text/plain": [
       "{'NOUN': {'flies': 0, 'fly': 0}, 'VERB': {'flies': 0, 'fly': 0}}"
      ]
     },
     "execution_count": 20,
     "metadata": {},
     "output_type": "execute_result"
    }
   ],
   "source": [
    "v={'NOUN':{'flies':0,'fly':0},'VERB':{'flies':0,'fly':0}}\n",
    "v"
   ]
  },
  {
   "cell_type": "code",
   "execution_count": 21,
   "metadata": {},
   "outputs": [],
   "source": [
    "v['NOUN']['flies']=p_start['NOUN']*elim['flies']['NOUN']\n",
    "v['VERB']['flies']=p_start['VERB']*elim['flies']['VERB']"
   ]
  },
  {
   "cell_type": "code",
   "execution_count": 22,
   "metadata": {},
   "outputs": [
    {
     "data": {
      "text/plain": [
       "{'NOUN': {'flies': 4.064480073160642e-06, 'fly': 0},\n",
       " 'VERB': {'flies': 1.094391244870041e-06, 'fly': 0}}"
      ]
     },
     "execution_count": 22,
     "metadata": {},
     "output_type": "execute_result"
    }
   ],
   "source": [
    "v"
   ]
  },
  {
   "cell_type": "code",
   "execution_count": 23,
   "metadata": {},
   "outputs": [
    {
     "name": "stdout",
     "output_type": "stream",
     "text": [
      "3.316766448510059e-11\n"
     ]
    }
   ],
   "source": [
    "fly_NOUN_NOUN=v['NOUN']['flies']*trans['NOUN']['NOUN']*elim['fly']['NOUN']\n",
    "print(fly_NOUN_NOUN)"
   ]
  },
  {
   "cell_type": "code",
   "execution_count": 24,
   "metadata": {},
   "outputs": [
    {
     "name": "stdout",
     "output_type": "stream",
     "text": [
      "5.8191025317547984e-12\n"
     ]
    }
   ],
   "source": [
    "fly_VERB_NOUN=v['VERB']['flies']*trans['VERB']['NOUN']*elim['fly']['NOUN']\n",
    "print(fly_VERB_NOUN)"
   ]
  },
  {
   "cell_type": "code",
   "execution_count": 25,
   "metadata": {},
   "outputs": [
    {
     "data": {
      "text/plain": [
       "{'NOUN': {'flies': 4.064480073160642e-06, 'fly': 3.316766448510059e-11},\n",
       " 'VERB': {'flies': 1.094391244870041e-06, 'fly': 0}}"
      ]
     },
     "execution_count": 25,
     "metadata": {},
     "output_type": "execute_result"
    }
   ],
   "source": [
    "v['NOUN']['fly']=max(fly_NOUN_NOUN,fly_VERB_NOUN)\n",
    "v"
   ]
  },
  {
   "cell_type": "code",
   "execution_count": 26,
   "metadata": {},
   "outputs": [
    {
     "name": "stdout",
     "output_type": "stream",
     "text": [
      "6.366042833509492e-11\n"
     ]
    }
   ],
   "source": [
    "fly_NOUN_VERB=v['NOUN']['flies']*trans['NOUN']['VERB']*elim['fly']['VERB']\n",
    "print(fly_NOUN_VERB)"
   ]
  },
  {
   "cell_type": "code",
   "execution_count": 27,
   "metadata": {},
   "outputs": [
    {
     "name": "stdout",
     "output_type": "stream",
     "text": [
      "1.9860915177589753e-11\n"
     ]
    }
   ],
   "source": [
    "fly_VERB_VERB=v['VERB']['flies']*trans['VERB']['VERB']*elim['fly']['VERB']\n",
    "print(fly_VERB_VERB)"
   ]
  },
  {
   "cell_type": "code",
   "execution_count": 28,
   "metadata": {},
   "outputs": [
    {
     "data": {
      "text/plain": [
       "{'NOUN': {'flies': 4.064480073160642e-06, 'fly': 3.316766448510059e-11},\n",
       " 'VERB': {'flies': 1.094391244870041e-06, 'fly': 6.366042833509492e-11}}"
      ]
     },
     "execution_count": 28,
     "metadata": {},
     "output_type": "execute_result"
    }
   ],
   "source": [
    "v['VERB']['fly']=max(fly_NOUN_VERB,fly_VERB_VERB)\n",
    "v"
   ]
  },
  {
   "cell_type": "code",
   "execution_count": 29,
   "metadata": {},
   "outputs": [
    {
     "data": {
      "text/plain": [
       "6.366042833509492e-11"
      ]
     },
     "execution_count": 29,
     "metadata": {},
     "output_type": "execute_result"
    }
   ],
   "source": [
    "max(v['VERB']['fly'],v['NOUN']['fly'])"
   ]
  },
  {
   "cell_type": "markdown",
   "metadata": {},
   "source": [
    "As we can observe for 'fly' the 'VERB' state has the maximum probability. And we also know that the transition from 'NOUN'->'VERB' has a larger probability, therefore, the state of 'flies' is 'NOUN'. <br>\n",
    "The POS tagging of 'Flies fly' is 'NOUN VERB'"
   ]
  },
  {
   "cell_type": "markdown",
   "metadata": {},
   "source": [
    "Make a change to the emission probabilities, transition probabilities, or starting\n",
    "probabilities (or any combination thereof) in such a way that it changes how the\n",
    "sentence would be tagged (but make sure all probabilities that should sum to 1 still do).\n",
    "Provide your change and what the resulting part of speech tags would be. Explain the\n",
    "intuition for why your change to the probabilities causes a change in tagging."
   ]
  },
  {
   "cell_type": "markdown",
   "metadata": {},
   "source": [
    "Making changes to the starting Probabilities P(STATE|START) such that P(VERB|START) is significatinly higher than P(NOUN|START)"
   ]
  },
  {
   "cell_type": "code",
   "execution_count": 30,
   "metadata": {},
   "outputs": [
    {
     "data": {
      "text/plain": [
       "{'DET': 0.21,\n",
       " 'PRON': 0.16,\n",
       " 'NOUN': 0.14,\n",
       " 'ADP': 0,\n",
       " 'ADV': 0,\n",
       " '.': 0,\n",
       " 'CONJ': 0,\n",
       " 'VERB': 0.5,\n",
       " 'PRT': 0,\n",
       " 'ADJ': 0,\n",
       " 'NUM': 0,\n",
       " 'X': 0}"
      ]
     },
     "execution_count": 30,
     "metadata": {},
     "output_type": "execute_result"
    }
   ],
   "source": [
    "p_start={'DET':0.21,\n",
    "'PRON':0.16,\n",
    "'NOUN':0.14,\n",
    "'ADP':0,\n",
    "'ADV':0,\n",
    "'.':0,\n",
    "'CONJ':0,\n",
    "'VERB':0.5,\n",
    "'PRT':0,\n",
    "'ADJ':0,\n",
    "'NUM':0,\n",
    "'X':0}\n",
    "p_start"
   ]
  },
  {
   "cell_type": "code",
   "execution_count": 31,
   "metadata": {},
   "outputs": [
    {
     "data": {
      "text/plain": [
       "{'NOUN': {'flies': 4.064480073160642e-06, 'fly': 0},\n",
       " 'VERB': {'flies': 1.094391244870041e-05, 'fly': 0}}"
      ]
     },
     "execution_count": 31,
     "metadata": {},
     "output_type": "execute_result"
    }
   ],
   "source": [
    "v={'NOUN':{'flies':0,'fly':0},'VERB':{'flies':0,'fly':0}}\n",
    "v['NOUN']['flies']=p_start['NOUN']*elim['flies']['NOUN']\n",
    "v['VERB']['flies']=p_start['VERB']*elim['flies']['VERB']\n",
    "v\n"
   ]
  },
  {
   "cell_type": "code",
   "execution_count": 32,
   "metadata": {},
   "outputs": [
    {
     "name": "stdout",
     "output_type": "stream",
     "text": [
      "3.316766448510059e-11\n",
      "5.8191025317547986e-11\n"
     ]
    },
    {
     "data": {
      "text/plain": [
       "{'NOUN': {'flies': 4.064480073160642e-06, 'fly': 5.8191025317547986e-11},\n",
       " 'VERB': {'flies': 1.094391244870041e-05, 'fly': 0}}"
      ]
     },
     "execution_count": 32,
     "metadata": {},
     "output_type": "execute_result"
    }
   ],
   "source": [
    "fly_NOUN_NOUN=v['NOUN']['flies']*trans['NOUN']['NOUN']*elim['fly']['NOUN']\n",
    "print(fly_NOUN_NOUN)\n",
    "fly_VERB_NOUN=v['VERB']['flies']*trans['VERB']['NOUN']*elim['fly']['NOUN']\n",
    "print(fly_VERB_NOUN)\n",
    "v['NOUN']['fly']=max(fly_NOUN_NOUN,fly_VERB_NOUN)\n",
    "v"
   ]
  },
  {
   "cell_type": "code",
   "execution_count": 33,
   "metadata": {},
   "outputs": [
    {
     "name": "stdout",
     "output_type": "stream",
     "text": [
      "6.366042833509492e-11\n",
      "1.9860915177589754e-10\n"
     ]
    },
    {
     "data": {
      "text/plain": [
       "{'NOUN': {'flies': 4.064480073160642e-06, 'fly': 5.8191025317547986e-11},\n",
       " 'VERB': {'flies': 1.094391244870041e-05, 'fly': 1.9860915177589754e-10}}"
      ]
     },
     "execution_count": 33,
     "metadata": {},
     "output_type": "execute_result"
    }
   ],
   "source": [
    "fly_NOUN_VERB=v['NOUN']['flies']*trans['NOUN']['VERB']*elim['fly']['VERB']\n",
    "print(fly_NOUN_VERB)\n",
    "fly_VERB_VERB=v['VERB']['flies']*trans['VERB']['VERB']*elim['fly']['VERB']\n",
    "print(fly_VERB_VERB)\n",
    "v['VERB']['fly']=max(fly_NOUN_VERB,fly_VERB_VERB)\n",
    "v"
   ]
  },
  {
   "cell_type": "markdown",
   "metadata": {},
   "source": [
    "Now the POS tagging of 'Flies fly' is 'VERB VERB'"
   ]
  },
  {
   "cell_type": "markdown",
   "metadata": {},
   "source": [
    "As the Initial Cells attribute significantly towards the final Probability of a state, I assumed if I increased P(VERB|START) significantly the POS Tagging of 'Flies' would change from 'NOUN' to 'VERB' keeping everything else the same. And as I had assumed the same happened."
   ]
  },
  {
   "cell_type": "markdown",
   "metadata": {},
   "source": [
    "Calc for the Probabilities of Part 2 Q4"
   ]
  },
  {
   "cell_type": "code",
   "execution_count": 34,
   "metadata": {},
   "outputs": [
    {
     "data": {
      "text/plain": [
       "9.072000000000002e-06"
      ]
     },
     "execution_count": 34,
     "metadata": {},
     "output_type": "execute_result"
    }
   ],
   "source": [
    "(0.8*0.45*0.2*0.9)*(0.1*0.7*0.1*0.2*0.1)"
   ]
  },
  {
   "cell_type": "code",
   "execution_count": 35,
   "metadata": {},
   "outputs": [
    {
     "data": {
      "text/plain": [
       "1.3608e-05"
      ]
     },
     "execution_count": 35,
     "metadata": {},
     "output_type": "execute_result"
    }
   ],
   "source": [
    "(0.8*0.3*0.45*0.9)*(0.1*0.7*0.1*0.2*0.1)"
   ]
  }
 ],
 "metadata": {
  "colab": {
   "provenance": []
  },
  "kernelspec": {
   "display_name": "Python 3 (ipykernel)",
   "language": "python",
   "name": "python3"
  },
  "language_info": {
   "codemirror_mode": {
    "name": "ipython",
    "version": 3
   },
   "file_extension": ".py",
   "mimetype": "text/x-python",
   "name": "python",
   "nbconvert_exporter": "python",
   "pygments_lexer": "ipython3",
   "version": "3.10.13"
  }
 },
 "nbformat": 4,
 "nbformat_minor": 4
}
